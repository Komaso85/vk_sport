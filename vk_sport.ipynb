{
 "cells": [
  {
   "cell_type": "markdown",
   "id": "e10ee5e3",
   "metadata": {},
   "source": [
    "# Спортивные сообщества VK"
   ]
  },
  {
   "cell_type": "markdown",
   "id": "74559386",
   "metadata": {},
   "source": [
    "## _\"Определить вид спорта по посту\" (Задача классификации)_\n",
    "\n",
    "\n",
    "Данные: https://www.kaggle.com/datasets/mikhailma/russian-social-media-text-classification"
   ]
  },
  {
   "cell_type": "markdown",
   "id": "e6d1a097",
   "metadata": {},
   "source": [
    "## Часть 0. Введение"
   ]
  },
  {
   "cell_type": "markdown",
   "id": "552ee528",
   "metadata": {},
   "source": [
    "### Обзор\n",
    "\n",
    "Данный датасет, как мы увидим здесь состоит из 3 колонок и 38740 строк.\n",
    "\n",
    "**Метаданные**\n",
    "\n",
    "* **oid** - id сообщества\n",
    "* **category** - вид спорта (таргет)\n",
    "* **text** - текст поста\n",
    "\n",
    "### Контекст:\n",
    "На основе заданного набора постов определите, какой вид спорта обсуждается в выбранном сообществе.\n",
    "\n",
    "**Список категорий**\n",
    "\n",
    "    1.athletics,\n",
    "    2.autosport,\n",
    "    3.basketball,\n",
    "    4.boardgames,\n",
    "    5.esport,\n",
    "    6.extreme,\n",
    "    7.football,\n",
    "    8.hockey,\n",
    "    9.martial arts,\n",
    "    10.motosport,\n",
    "    11.tennis,\n",
    "    12.volleyball,\n",
    "    13.winter_sport\n",
    "    \n",
    "### Оценочная метрика:"
   ]
  },
  {
   "cell_type": "code",
   "execution_count": 217,
   "id": "e32e6f90",
   "metadata": {},
   "outputs": [],
   "source": [
    "def score(true, pred, n_samples):\n",
    "    counter = 0    \n",
    "    if true == pred:\n",
    "        counter += 1\n",
    "    else:\n",
    "        counter -= 1\n",
    "    return counter / n_samples"
   ]
  },
  {
   "cell_type": "markdown",
   "id": "f60fc918",
   "metadata": {},
   "source": [
    "## Часть 1: Импорт, загрузка данных"
   ]
  },
  {
   "cell_type": "markdown",
   "id": "de33c315",
   "metadata": {},
   "source": [
    "### Загрузка библиотек"
   ]
  },
  {
   "cell_type": "code",
   "execution_count": 218,
   "id": "d6180e39",
   "metadata": {},
   "outputs": [],
   "source": [
    "import pandas as pd\n",
    "import numpy as np\n",
    "\n",
    "import re\n",
    "from collections import Counter\n",
    "\n",
    "from sklearn.model_selection import train_test_split\n",
    "\n",
    "from sklearn.pipeline import Pipeline\n",
    "from sklearn.feature_extraction.text import TfidfVectorizer\n",
    "\n",
    "from sklearn.naive_bayes import MultinomialNB\n",
    "from sklearn.ensemble import RandomForestClassifier\n",
    "from sklearn.linear_model import SGDClassifier\n",
    "from sklearn.neighbors import KNeighborsClassifier\n",
    "from sklearn.model_selection import GridSearchCV\n",
    "\n",
    "from sklearn import metrics\n",
    "\n",
    "from gensim.models import word2vec\n",
    "\n",
    "%matplotlib inline\n",
    "import matplotlib.pyplot as plt\n",
    "import seaborn as sns\n",
    "\n"
   ]
  },
  {
   "cell_type": "markdown",
   "id": "323accc3",
   "metadata": {},
   "source": [
    "### Загрузка данных в датафрейм vk_sport"
   ]
  },
  {
   "cell_type": "code",
   "execution_count": 219,
   "id": "d7d8c73a",
   "metadata": {},
   "outputs": [],
   "source": [
    "vk_sport = pd.read_csv('train.csv', encoding_errors = 'ignore')"
   ]
  },
  {
   "cell_type": "markdown",
   "id": "6bc02876",
   "metadata": {},
   "source": [
    "## Часть 2. Анализ данных (EDA)"
   ]
  },
  {
   "cell_type": "code",
   "execution_count": 220,
   "id": "65e92055",
   "metadata": {},
   "outputs": [
    {
     "data": {
      "text/html": [
       "<div>\n",
       "<style scoped>\n",
       "    .dataframe tbody tr th:only-of-type {\n",
       "        vertical-align: middle;\n",
       "    }\n",
       "\n",
       "    .dataframe tbody tr th {\n",
       "        vertical-align: top;\n",
       "    }\n",
       "\n",
       "    .dataframe thead th {\n",
       "        text-align: right;\n",
       "    }\n",
       "</style>\n",
       "<table border=\"1\" class=\"dataframe\">\n",
       "  <thead>\n",
       "    <tr style=\"text-align: right;\">\n",
       "      <th></th>\n",
       "      <th>oid</th>\n",
       "      <th>category</th>\n",
       "      <th>text</th>\n",
       "    </tr>\n",
       "  </thead>\n",
       "  <tbody>\n",
       "    <tr>\n",
       "      <th>0</th>\n",
       "      <td>365271984</td>\n",
       "      <td>winter_sport</td>\n",
       "      <td>Волшебные фото Виктория Поплавская ЕвгенияМедв...</td>\n",
       "    </tr>\n",
       "    <tr>\n",
       "      <th>1</th>\n",
       "      <td>503385563</td>\n",
       "      <td>extreme</td>\n",
       "      <td>Возвращение в подземелье Треша 33 Эйфория тупо...</td>\n",
       "    </tr>\n",
       "    <tr>\n",
       "      <th>2</th>\n",
       "      <td>146016084</td>\n",
       "      <td>football</td>\n",
       "      <td>Лучшие чешские вратари – Доминик Доминатор Гаш...</td>\n",
       "    </tr>\n",
       "    <tr>\n",
       "      <th>3</th>\n",
       "      <td>933865449</td>\n",
       "      <td>boardgames</td>\n",
       "      <td>Rtokenoid Warhammer40k валрак решил нас подкор...</td>\n",
       "    </tr>\n",
       "    <tr>\n",
       "      <th>4</th>\n",
       "      <td>713550145</td>\n",
       "      <td>hockey</td>\n",
       "      <td>Шестеркин затаскивает Рейнджерс в финал Восточ...</td>\n",
       "    </tr>\n",
       "  </tbody>\n",
       "</table>\n",
       "</div>"
      ],
      "text/plain": [
       "         oid      category                                               text\n",
       "0  365271984  winter_sport  Волшебные фото Виктория Поплавская ЕвгенияМедв...\n",
       "1  503385563       extreme  Возвращение в подземелье Треша 33 Эйфория тупо...\n",
       "2  146016084      football  Лучшие чешские вратари – Доминик Доминатор Гаш...\n",
       "3  933865449    boardgames  Rtokenoid Warhammer40k валрак решил нас подкор...\n",
       "4  713550145        hockey  Шестеркин затаскивает Рейнджерс в финал Восточ..."
      ]
     },
     "execution_count": 220,
     "metadata": {},
     "output_type": "execute_result"
    }
   ],
   "source": [
    "vk_sport.head()"
   ]
  },
  {
   "cell_type": "code",
   "execution_count": 221,
   "id": "7840a579",
   "metadata": {},
   "outputs": [
    {
     "name": "stdout",
     "output_type": "stream",
     "text": [
      "<class 'pandas.core.frame.DataFrame'>\n",
      "RangeIndex: 38740 entries, 0 to 38739\n",
      "Data columns (total 3 columns):\n",
      " #   Column    Non-Null Count  Dtype \n",
      "---  ------    --------------  ----- \n",
      " 0   oid       38740 non-null  int64 \n",
      " 1   category  38740 non-null  object\n",
      " 2   text      38740 non-null  object\n",
      "dtypes: int64(1), object(2)\n",
      "memory usage: 908.1+ KB\n"
     ]
    }
   ],
   "source": [
    "vk_sport.info()"
   ]
  },
  {
   "cell_type": "markdown",
   "id": "0ba1a14c",
   "metadata": {},
   "source": [
    "В таблице 3 колонки и 38740 строк.  \n",
    "2 типа данных int64(1 колонка) и object(2 колонки)  \n",
    "Пропущенных значений нет"
   ]
  },
  {
   "cell_type": "code",
   "execution_count": 222,
   "id": "76eb17a5",
   "metadata": {},
   "outputs": [
    {
     "data": {
      "text/html": [
       "<div>\n",
       "<style scoped>\n",
       "    .dataframe tbody tr th:only-of-type {\n",
       "        vertical-align: middle;\n",
       "    }\n",
       "\n",
       "    .dataframe tbody tr th {\n",
       "        vertical-align: top;\n",
       "    }\n",
       "\n",
       "    .dataframe thead th {\n",
       "        text-align: right;\n",
       "    }\n",
       "</style>\n",
       "<table border=\"1\" class=\"dataframe\">\n",
       "  <thead>\n",
       "    <tr style=\"text-align: right;\">\n",
       "      <th></th>\n",
       "      <th>category</th>\n",
       "      <th>text</th>\n",
       "    </tr>\n",
       "  </thead>\n",
       "  <tbody>\n",
       "    <tr>\n",
       "      <th>count</th>\n",
       "      <td>38740</td>\n",
       "      <td>38740</td>\n",
       "    </tr>\n",
       "    <tr>\n",
       "      <th>unique</th>\n",
       "      <td>13</td>\n",
       "      <td>35774</td>\n",
       "    </tr>\n",
       "    <tr>\n",
       "      <th>top</th>\n",
       "      <td>autosport</td>\n",
       "      <td>За кроссовками в Баскетбольный магазин Ghetto ...</td>\n",
       "    </tr>\n",
       "    <tr>\n",
       "      <th>freq</th>\n",
       "      <td>3160</td>\n",
       "      <td>163</td>\n",
       "    </tr>\n",
       "  </tbody>\n",
       "</table>\n",
       "</div>"
      ],
      "text/plain": [
       "         category                                               text\n",
       "count       38740                                              38740\n",
       "unique         13                                              35774\n",
       "top     autosport  За кроссовками в Баскетбольный магазин Ghetto ...\n",
       "freq         3160                                                163"
      ]
     },
     "execution_count": 222,
     "metadata": {},
     "output_type": "execute_result"
    }
   ],
   "source": [
    "vk_sport.describe(include=[object])"
   ]
  },
  {
   "cell_type": "markdown",
   "id": "435dbac6",
   "metadata": {},
   "source": [
    "В колонке category - 13 уникальных значений.  \n",
    "В колонке text - есть дублирующие тексты"
   ]
  },
  {
   "cell_type": "code",
   "execution_count": 223,
   "id": "aaa9f65a",
   "metadata": {},
   "outputs": [
    {
     "data": {
      "text/plain": [
       "3874"
      ]
     },
     "execution_count": 223,
     "metadata": {},
     "output_type": "execute_result"
    }
   ],
   "source": [
    "# количество уникальных сообществ\n",
    "vk_sport.oid.nunique()"
   ]
  },
  {
   "cell_type": "code",
   "execution_count": 224,
   "id": "ba7d3667",
   "metadata": {},
   "outputs": [
    {
     "data": {
      "text/html": [
       "<div>\n",
       "<style scoped>\n",
       "    .dataframe tbody tr th:only-of-type {\n",
       "        vertical-align: middle;\n",
       "    }\n",
       "\n",
       "    .dataframe tbody tr th {\n",
       "        vertical-align: top;\n",
       "    }\n",
       "\n",
       "    .dataframe thead th {\n",
       "        text-align: right;\n",
       "    }\n",
       "</style>\n",
       "<table border=\"1\" class=\"dataframe\">\n",
       "  <thead>\n",
       "    <tr style=\"text-align: right;\">\n",
       "      <th></th>\n",
       "      <th>category</th>\n",
       "    </tr>\n",
       "    <tr>\n",
       "      <th>oid</th>\n",
       "      <th></th>\n",
       "    </tr>\n",
       "  </thead>\n",
       "  <tbody>\n",
       "  </tbody>\n",
       "</table>\n",
       "</div>"
      ],
      "text/plain": [
       "Empty DataFrame\n",
       "Columns: [category]\n",
       "Index: []"
      ]
     },
     "execution_count": 224,
     "metadata": {},
     "output_type": "execute_result"
    }
   ],
   "source": [
    "# есть ли сообщества с несколькими категориями?\n",
    "vk_sport.groupby('oid').category.nunique().to_frame().query('category>1')"
   ]
  },
  {
   "cell_type": "markdown",
   "id": "3da79716",
   "metadata": {},
   "source": [
    "Все сообщества в данном датасете имеют по одной категории"
   ]
  },
  {
   "cell_type": "code",
   "execution_count": 225,
   "id": "b89469df",
   "metadata": {},
   "outputs": [
    {
     "name": "stdout",
     "output_type": "stream",
     "text": [
      "Количество классов: 13\n",
      "Распределение количества строк по категориям:\n"
     ]
    },
    {
     "data": {
      "text/plain": [
       "autosport       3160\n",
       "extreme         3110\n",
       "martial_arts    3050\n",
       "motosport       3030\n",
       "boardgames      3020\n",
       "tennis          3000\n",
       "esport          2990\n",
       "athletics       2970\n",
       "hockey          2950\n",
       "volleyball      2950\n",
       "football        2860\n",
       "basketball      2850\n",
       "winter_sport    2800\n",
       "Name: category, dtype: int64"
      ]
     },
     "execution_count": 225,
     "metadata": {},
     "output_type": "execute_result"
    }
   ],
   "source": [
    "print('Количество классов:', vk_sport.category.nunique())\n",
    "print('Распределение количества строк по категориям:')\n",
    "vk_sport.category.value_counts()"
   ]
  },
  {
   "cell_type": "code",
   "execution_count": 226,
   "id": "f1a820e4",
   "metadata": {},
   "outputs": [
    {
     "data": {
      "text/plain": [
       "<AxesSubplot:>"
      ]
     },
     "execution_count": 226,
     "metadata": {},
     "output_type": "execute_result"
    },
    {
     "data": {
      "image/png": "[encoded data removed]",
      "text/plain": [
       "<Figure size 432x288 with 1 Axes>"
      ]
     },
     "metadata": {
      "needs_background": "light"
     },
     "output_type": "display_data"
    }
   ],
   "source": [
    "# визуализация распределения таргета \"category\"\n",
    "vk_sport['category'].value_counts().plot(x = vk_sport['category'], kind='bar')"
   ]
  },
  {
   "cell_type": "code",
   "execution_count": 227,
   "id": "2aefb5c4",
   "metadata": {},
   "outputs": [
    {
     "data": {
      "text/plain": [
       "array([10])"
      ]
     },
     "execution_count": 227,
     "metadata": {},
     "output_type": "execute_result"
    }
   ],
   "source": [
    "vk_sport['oid'].value_counts().unique()"
   ]
  },
  {
   "cell_type": "markdown",
   "id": "63885a5b",
   "metadata": {},
   "source": [
    "Имеем сбалансированный датасет"
   ]
  },
  {
   "cell_type": "markdown",
   "id": "2a134f27",
   "metadata": {},
   "source": [
    "### Анализ колонки 'text'"
   ]
  },
  {
   "cell_type": "code",
   "execution_count": 228,
   "id": "52415821",
   "metadata": {},
   "outputs": [
    {
     "data": {
      "text/plain": [
       "'Коллеги традиционно объявляем очередной гильдейский настольныйсубботник ГРаНИ 33 По аналогии с индустрией компьютерных игр это предложение по субботам в течение дня выкладывать в комментарии к посту фото своих разработок с кратким описанием. А в ответ на выложенное другими интересоваться советовать предлагать сотрудничество и просто ставить лайки. Рассказывайте над чем сейчас работаете?'"
      ]
     },
     "execution_count": 228,
     "metadata": {},
     "output_type": "execute_result"
    }
   ],
   "source": [
    "# посмотрим на пример текста\n",
    "vk_sport.at [406,'text']"
   ]
  },
  {
   "cell_type": "markdown",
   "id": "f0f721e8",
   "metadata": {},
   "source": [
    "В тексте есть слова содержащие 'tokenoid' - скорее всего являются заменой ссылок.\n",
    "Есть слова на латинице.\n",
    "А также цифры и пунктуация.  \n",
    "Все слова написаны с применением разных регистров.\n"
   ]
  },
  {
   "cell_type": "code",
   "execution_count": 229,
   "id": "6635b7ba",
   "metadata": {},
   "outputs": [
    {
     "name": "stdout",
     "output_type": "stream",
     "text": [
      "В колонке текст имеются дублирующие посты в количестве = 2966 строк\n"
     ]
    }
   ],
   "source": [
    "print(f\"В колонке текст имеются дублирующие посты в количестве = {vk_sport['text'].shape[0] - vk_sport['text'].nunique()} строк\")"
   ]
  },
  {
   "cell_type": "markdown",
   "id": "cd77bae1",
   "metadata": {},
   "source": [
    "Также в постах имеется реклама не по тематике спорта, например:"
   ]
  },
  {
   "cell_type": "code",
   "execution_count": 230,
   "id": "f301fb96",
   "metadata": {},
   "outputs": [
    {
     "data": {
      "text/plain": [
       "'Плюс – это такой робот помощник который научит вас отдыхать в реальном не киберпанковом мире. Если вы сдали ЕГЭ на 80 и больше баллов получите подписку Яндекс Плюс бесплатно на целый год 33 Подробности здесь'"
      ]
     },
     "execution_count": 230,
     "metadata": {},
     "output_type": "execute_result"
    }
   ],
   "source": [
    "vk_sport.at [21139,'text']"
   ]
  },
  {
   "cell_type": "markdown",
   "id": "adf7ba6c",
   "metadata": {},
   "source": [
    "## Часть 3. Обработка и преобразование данных"
   ]
  },
  {
   "cell_type": "markdown",
   "id": "6b15a269",
   "metadata": {},
   "source": [
    "### Разделение данных на train и test"
   ]
  },
  {
   "cell_type": "code",
   "execution_count": 231,
   "id": "8734413c",
   "metadata": {},
   "outputs": [],
   "source": [
    "train, test = train_test_split(vk_sport, test_size=0.25, random_state=42)"
   ]
  },
  {
   "cell_type": "code",
   "execution_count": 232,
   "id": "d665903e",
   "metadata": {},
   "outputs": [
    {
     "name": "stdout",
     "output_type": "stream",
     "text": [
      "Размер датасетов train=29055, test=9685\n"
     ]
    }
   ],
   "source": [
    "# размеры полученных датасетов\n",
    "print(f'Размер датасетов train={len(train)}, test={len(test)}')"
   ]
  },
  {
   "cell_type": "markdown",
   "id": "a5d8ef60",
   "metadata": {},
   "source": [
    "### Приведем тексты постов к общему виду:\n",
    " - переводим символы в нижний регистр\n",
    " - удалим все слова цифры, пунктуацию и слова содержащие подстроку 'tokenoid'(видимо зашифрованы ссылки)"
   ]
  },
  {
   "cell_type": "code",
   "execution_count": 233,
   "id": "319e79e4",
   "metadata": {},
   "outputs": [],
   "source": [
    "def clean_text(text):\n",
    "    text = text.lower()\n",
    "    # убираем цифры \n",
    "    clean_text = re.sub(\"[0-9]\", \"\", text)\n",
    "    # убираем ссылки\n",
    "    clean_text = re.sub(r\"([a-z]+)?tokenoid([a-z]+)?\", \"\", text)\n",
    "    # оставляем только буквенные символы\n",
    "    clean_text = re.sub(\"[^а-яa-z]\",\" \", clean_text)\n",
    "    # убираем лишние пробелы\n",
    "    clean_text = re.sub(\" +\", \" \", clean_text)\n",
    "    return clean_text"
   ]
  },
  {
   "cell_type": "code",
   "execution_count": 234,
   "id": "84734ec7",
   "metadata": {},
   "outputs": [],
   "source": [
    "# создаем колонку с преобразованным текстом\n",
    "train['clean_text'] = train['text'].map(clean_text)"
   ]
  },
  {
   "cell_type": "code",
   "execution_count": 235,
   "id": "b9668879",
   "metadata": {},
   "outputs": [
    {
     "name": "stdout",
     "output_type": "stream",
     "text": [
      "В колонке 'clean_text' количество дублирующих постов = 1886 строк\n"
     ]
    }
   ],
   "source": [
    "print(f\"В колонке 'clean_text' количество дублирующих постов = {train['text'].shape[0] - train['clean_text'].nunique()} строк\")"
   ]
  },
  {
   "cell_type": "markdown",
   "id": "99dbe00d",
   "metadata": {},
   "source": [
    "Посчитаем сколько раз каждый пост входит в датасет.\n",
    "Рассмотрим посты, имеющие дубликаты"
   ]
  },
  {
   "cell_type": "code",
   "execution_count": 236,
   "id": "b96cc512",
   "metadata": {},
   "outputs": [],
   "source": [
    "train['occurrence'] = train['clean_text'].map(dict(Counter( train['clean_text'].to_list())))"
   ]
  },
  {
   "cell_type": "markdown",
   "id": "2bca3c24",
   "metadata": {},
   "source": [
    "Посмотрим сколько раз дублируются посты."
   ]
  },
  {
   "cell_type": "code",
   "execution_count": 237,
   "id": "57347e88",
   "metadata": {},
   "outputs": [
    {
     "data": {
      "text/plain": [
       "array([  1,   2, 118,   9,  19,   3,  13,   8,   4,   5,   7,   6,  25,\n",
       "        24,  10,  37,  11,  26,  14])"
      ]
     },
     "execution_count": 237,
     "metadata": {},
     "output_type": "execute_result"
    }
   ],
   "source": [
    "train['occurrence'].unique()"
   ]
  },
  {
   "cell_type": "markdown",
   "id": "4a5d95b7",
   "metadata": {},
   "source": [
    "Рассмотрим в ручную каждые дубликаты, количество которых больше 3. Создадим список выражений, используемых в тексте реклам.\n",
    "\n",
    "Например, какие посты были продублированы 13 раз в данном датасете."
   ]
  },
  {
   "cell_type": "code",
   "execution_count": 238,
   "id": "634484dc",
   "metadata": {},
   "outputs": [
    {
     "data": {
      "text/html": [
       "<div>\n",
       "<style scoped>\n",
       "    .dataframe tbody tr th:only-of-type {\n",
       "        vertical-align: middle;\n",
       "    }\n",
       "\n",
       "    .dataframe tbody tr th {\n",
       "        vertical-align: top;\n",
       "    }\n",
       "\n",
       "    .dataframe thead th {\n",
       "        text-align: right;\n",
       "    }\n",
       "</style>\n",
       "<table border=\"1\" class=\"dataframe\">\n",
       "  <thead>\n",
       "    <tr style=\"text-align: right;\">\n",
       "      <th></th>\n",
       "      <th>oid</th>\n",
       "      <th>category</th>\n",
       "      <th>text</th>\n",
       "      <th>clean_text</th>\n",
       "      <th>occurrence</th>\n",
       "    </tr>\n",
       "  </thead>\n",
       "  <tbody>\n",
       "    <tr>\n",
       "      <th>30941</th>\n",
       "      <td>211851544</td>\n",
       "      <td>extreme</td>\n",
       "      <td>Друзья кидайте в предложку свои фото и видео с...</td>\n",
       "      <td>друзья кидайте в предложку свои фото и видео с...</td>\n",
       "      <td>13</td>\n",
       "    </tr>\n",
       "    <tr>\n",
       "      <th>26439</th>\n",
       "      <td>676443746</td>\n",
       "      <td>boardgames</td>\n",
       "      <td>Приветствуем коллеги 33 А во что вы играли на ...</td>\n",
       "      <td>приветствуем коллеги а во что вы играли на про...</td>\n",
       "      <td>13</td>\n",
       "    </tr>\n",
       "    <tr>\n",
       "      <th>1834</th>\n",
       "      <td>933394281</td>\n",
       "      <td>boardgames</td>\n",
       "      <td>Приветствуем коллеги 33 А во что вы играли на ...</td>\n",
       "      <td>приветствуем коллеги а во что вы играли на про...</td>\n",
       "      <td>13</td>\n",
       "    </tr>\n",
       "    <tr>\n",
       "      <th>36330</th>\n",
       "      <td>211851544</td>\n",
       "      <td>extreme</td>\n",
       "      <td>Друзья кидайте в предложку свои фото и видео с...</td>\n",
       "      <td>друзья кидайте в предложку свои фото и видео с...</td>\n",
       "      <td>13</td>\n",
       "    </tr>\n",
       "    <tr>\n",
       "      <th>38024</th>\n",
       "      <td>702430194</td>\n",
       "      <td>football</td>\n",
       "      <td>Вам не нужно теперь ломать голову что подарить...</td>\n",
       "      <td>вам не нужно теперь ломать голову что подарить...</td>\n",
       "      <td>13</td>\n",
       "    </tr>\n",
       "  </tbody>\n",
       "</table>\n",
       "</div>"
      ],
      "text/plain": [
       "             oid    category  \\\n",
       "30941  211851544     extreme   \n",
       "26439  676443746  boardgames   \n",
       "1834   933394281  boardgames   \n",
       "36330  211851544     extreme   \n",
       "38024  702430194    football   \n",
       "\n",
       "                                                    text  \\\n",
       "30941  Друзья кидайте в предложку свои фото и видео с...   \n",
       "26439  Приветствуем коллеги 33 А во что вы играли на ...   \n",
       "1834   Приветствуем коллеги 33 А во что вы играли на ...   \n",
       "36330  Друзья кидайте в предложку свои фото и видео с...   \n",
       "38024  Вам не нужно теперь ломать голову что подарить...   \n",
       "\n",
       "                                              clean_text  occurrence  \n",
       "30941  друзья кидайте в предложку свои фото и видео с...          13  \n",
       "26439  приветствуем коллеги а во что вы играли на про...          13  \n",
       "1834   приветствуем коллеги а во что вы играли на про...          13  \n",
       "36330  друзья кидайте в предложку свои фото и видео с...          13  \n",
       "38024  вам не нужно теперь ломать голову что подарить...          13  "
      ]
     },
     "execution_count": 238,
     "metadata": {},
     "output_type": "execute_result"
    }
   ],
   "source": [
    "train[train['occurrence']==13].head()"
   ]
  },
  {
   "cell_type": "code",
   "execution_count": 239,
   "id": "439ecae0",
   "metadata": {},
   "outputs": [
    {
     "data": {
      "text/plain": [
       "'Вам не нужно теперь ломать голову что подарить на праздник. Порадуйте своих близких подарите им бурю эмоций 33 Цены снижены 33 Подробности здесь tokentokenoid'"
      ]
     },
     "execution_count": 239,
     "metadata": {},
     "output_type": "execute_result"
    }
   ],
   "source": [
    "train.at [38024,'text']"
   ]
  },
  {
   "cell_type": "code",
   "execution_count": 240,
   "id": "f8d895a6",
   "metadata": {},
   "outputs": [
    {
     "data": {
      "text/plain": [
       "13    13\n",
       "1      9\n",
       "6      6\n",
       "2      2\n",
       "Name: occurrence, dtype: int64"
      ]
     },
     "execution_count": 240,
     "metadata": {},
     "output_type": "execute_result"
    }
   ],
   "source": [
    "train[train.clean_text.str.contains('что подарить')].occurrence.value_counts()"
   ]
  },
  {
   "cell_type": "code",
   "execution_count": 241,
   "id": "58c2bf78",
   "metadata": {},
   "outputs": [],
   "source": [
    "advertisement_words = ['синергия','вакансия','подработка','кэшбэк','постель', 'аналитик данных',\\\n",
    "                       'профессия тестировщик','массажер','свою рекламу','что подарить','яндекс плюс',\\\n",
    "                       'яндекс еда','икеа','бесплатные курсы','бесплатного обслуживания','буст рейтинга',\\\n",
    "                       'ищете подарок']"
   ]
  },
  {
   "cell_type": "markdown",
   "id": "ece05e06",
   "metadata": {},
   "source": [
    "### Удаление постов с рекламой"
   ]
  },
  {
   "cell_type": "markdown",
   "id": "9539602c",
   "metadata": {},
   "source": [
    "Проверяем есть ли выржание из списка и создаем колонку, маркирующую рекламу 1. Сохраняем датасет без рекламы."
   ]
  },
  {
   "cell_type": "code",
   "execution_count": 242,
   "id": "5bc6468f",
   "metadata": {},
   "outputs": [],
   "source": [
    "def adv_posts(row,words_list):\n",
    "    adv = 0\n",
    "    for word in words_list:\n",
    "        if word in row:\n",
    "            adv = 1\n",
    "    return adv"
   ]
  },
  {
   "cell_type": "code",
   "execution_count": 243,
   "id": "dbd30ee9",
   "metadata": {},
   "outputs": [],
   "source": [
    "train['adv'] = train.clean_text.apply(lambda row: adv_posts(row,advertisement_words))"
   ]
  },
  {
   "cell_type": "code",
   "execution_count": 244,
   "id": "0bcb9268",
   "metadata": {},
   "outputs": [
    {
     "data": {
      "text/html": [
       "<div>\n",
       "<style scoped>\n",
       "    .dataframe tbody tr th:only-of-type {\n",
       "        vertical-align: middle;\n",
       "    }\n",
       "\n",
       "    .dataframe tbody tr th {\n",
       "        vertical-align: top;\n",
       "    }\n",
       "\n",
       "    .dataframe thead th {\n",
       "        text-align: right;\n",
       "    }\n",
       "</style>\n",
       "<table border=\"1\" class=\"dataframe\">\n",
       "  <thead>\n",
       "    <tr style=\"text-align: right;\">\n",
       "      <th></th>\n",
       "      <th>oid</th>\n",
       "      <th>category</th>\n",
       "      <th>text</th>\n",
       "      <th>clean_text</th>\n",
       "      <th>occurrence</th>\n",
       "      <th>adv</th>\n",
       "    </tr>\n",
       "  </thead>\n",
       "  <tbody>\n",
       "    <tr>\n",
       "      <th>3179</th>\n",
       "      <td>209435461</td>\n",
       "      <td>esport</td>\n",
       "      <td>Желаете видеть свою рекламу здесь пишите в лс ...</td>\n",
       "      <td>желаете видеть свою рекламу здесь пишите в лс ...</td>\n",
       "      <td>4</td>\n",
       "      <td>1</td>\n",
       "    </tr>\n",
       "    <tr>\n",
       "      <th>14981</th>\n",
       "      <td>381255868</td>\n",
       "      <td>martial_arts</td>\n",
       "      <td>Да мы предлагаем вам оформить карту Ttokenoid ...</td>\n",
       "      <td>да мы предлагаем вам оформить карту с кэшбэком...</td>\n",
       "      <td>2</td>\n",
       "      <td>1</td>\n",
       "    </tr>\n",
       "    <tr>\n",
       "      <th>29862</th>\n",
       "      <td>435839274</td>\n",
       "      <td>volleyball</td>\n",
       "      <td>Альбом Votokenoid Sports Heatokenoid Resort – ...</td>\n",
       "      <td>альбом sports resort всесезонный семейный куро...</td>\n",
       "      <td>1</td>\n",
       "      <td>1</td>\n",
       "    </tr>\n",
       "    <tr>\n",
       "      <th>705</th>\n",
       "      <td>449610640</td>\n",
       "      <td>esport</td>\n",
       "      <td>ЗАКАЗ 95309 Буст рейтинга 1530 3780 Доп. опция...</td>\n",
       "      <td>заказ буст рейтинга доп опция выполнить быстре...</td>\n",
       "      <td>6</td>\n",
       "      <td>1</td>\n",
       "    </tr>\n",
       "    <tr>\n",
       "      <th>33491</th>\n",
       "      <td>209435461</td>\n",
       "      <td>esport</td>\n",
       "      <td>Желаете видеть свою рекламу здесь пишите в лс ...</td>\n",
       "      <td>желаете видеть свою рекламу здесь пишите в лс ...</td>\n",
       "      <td>4</td>\n",
       "      <td>1</td>\n",
       "    </tr>\n",
       "    <tr>\n",
       "      <th>...</th>\n",
       "      <td>...</td>\n",
       "      <td>...</td>\n",
       "      <td>...</td>\n",
       "      <td>...</td>\n",
       "      <td>...</td>\n",
       "      <td>...</td>\n",
       "    </tr>\n",
       "    <tr>\n",
       "      <th>25184</th>\n",
       "      <td>671964543</td>\n",
       "      <td>extreme</td>\n",
       "      <td>С картой Wortokenoid of Tanks ваш прогресс в и...</td>\n",
       "      <td>с картой of tanks ваш прогресс в игре пойдет е...</td>\n",
       "      <td>1</td>\n",
       "      <td>1</td>\n",
       "    </tr>\n",
       "    <tr>\n",
       "      <th>13773</th>\n",
       "      <td>352942541</td>\n",
       "      <td>martial_arts</td>\n",
       "      <td>Да да это все вам. Бесплатная карта с бесплатн...</td>\n",
       "      <td>да да это все вам бесплатная карта с бесплатно...</td>\n",
       "      <td>5</td>\n",
       "      <td>1</td>\n",
       "    </tr>\n",
       "    <tr>\n",
       "      <th>24253</th>\n",
       "      <td>744276650</td>\n",
       "      <td>athletics</td>\n",
       "      <td>Желаете видеть свою рекламу здесь пишите в лс ...</td>\n",
       "      <td>желаете видеть свою рекламу здесь пишите в лс ...</td>\n",
       "      <td>1</td>\n",
       "      <td>1</td>\n",
       "    </tr>\n",
       "    <tr>\n",
       "      <th>11653</th>\n",
       "      <td>364867243</td>\n",
       "      <td>esport</td>\n",
       "      <td>ЗАКАЗ 97956 Буст рейтинга 2940 3440 Доп. опция...</td>\n",
       "      <td>заказ буст рейтинга доп опция выполнить быстре...</td>\n",
       "      <td>6</td>\n",
       "      <td>1</td>\n",
       "    </tr>\n",
       "    <tr>\n",
       "      <th>11284</th>\n",
       "      <td>808044941</td>\n",
       "      <td>football</td>\n",
       "      <td>Универсальная кредитная карта Тинькофф Платину...</td>\n",
       "      <td>универсальная кредитная карта тинькофф платину...</td>\n",
       "      <td>4</td>\n",
       "      <td>1</td>\n",
       "    </tr>\n",
       "  </tbody>\n",
       "</table>\n",
       "<p>250 rows × 6 columns</p>\n",
       "</div>"
      ],
      "text/plain": [
       "             oid      category  \\\n",
       "3179   209435461        esport   \n",
       "14981  381255868  martial_arts   \n",
       "29862  435839274    volleyball   \n",
       "705    449610640        esport   \n",
       "33491  209435461        esport   \n",
       "...          ...           ...   \n",
       "25184  671964543       extreme   \n",
       "13773  352942541  martial_arts   \n",
       "24253  744276650     athletics   \n",
       "11653  364867243        esport   \n",
       "11284  808044941      football   \n",
       "\n",
       "                                                    text  \\\n",
       "3179   Желаете видеть свою рекламу здесь пишите в лс ...   \n",
       "14981  Да мы предлагаем вам оформить карту Ttokenoid ...   \n",
       "29862  Альбом Votokenoid Sports Heatokenoid Resort – ...   \n",
       "705    ЗАКАЗ 95309 Буст рейтинга 1530 3780 Доп. опция...   \n",
       "33491  Желаете видеть свою рекламу здесь пишите в лс ...   \n",
       "...                                                  ...   \n",
       "25184  С картой Wortokenoid of Tanks ваш прогресс в и...   \n",
       "13773  Да да это все вам. Бесплатная карта с бесплатн...   \n",
       "24253  Желаете видеть свою рекламу здесь пишите в лс ...   \n",
       "11653  ЗАКАЗ 97956 Буст рейтинга 2940 3440 Доп. опция...   \n",
       "11284  Универсальная кредитная карта Тинькофф Платину...   \n",
       "\n",
       "                                              clean_text  occurrence  adv  \n",
       "3179   желаете видеть свою рекламу здесь пишите в лс ...           4    1  \n",
       "14981  да мы предлагаем вам оформить карту с кэшбэком...           2    1  \n",
       "29862  альбом sports resort всесезонный семейный куро...           1    1  \n",
       "705    заказ буст рейтинга доп опция выполнить быстре...           6    1  \n",
       "33491  желаете видеть свою рекламу здесь пишите в лс ...           4    1  \n",
       "...                                                  ...         ...  ...  \n",
       "25184  с картой of tanks ваш прогресс в игре пойдет е...           1    1  \n",
       "13773  да да это все вам бесплатная карта с бесплатно...           5    1  \n",
       "24253  желаете видеть свою рекламу здесь пишите в лс ...           1    1  \n",
       "11653  заказ буст рейтинга доп опция выполнить быстре...           6    1  \n",
       "11284  универсальная кредитная карта тинькофф платину...           4    1  \n",
       "\n",
       "[250 rows x 6 columns]"
      ]
     },
     "execution_count": 244,
     "metadata": {},
     "output_type": "execute_result"
    }
   ],
   "source": [
    "train[train.adv==1]"
   ]
  },
  {
   "cell_type": "code",
   "execution_count": 245,
   "id": "2c29e0e9",
   "metadata": {},
   "outputs": [],
   "source": [
    "train_no_adv = train[train.adv!=1]"
   ]
  },
  {
   "cell_type": "markdown",
   "id": "a32d7543",
   "metadata": {},
   "source": [
    "### Удаление дубликатов"
   ]
  },
  {
   "cell_type": "code",
   "execution_count": 246,
   "id": "3a0b5da8",
   "metadata": {},
   "outputs": [],
   "source": [
    "train_no_adv = train_no_adv.drop_duplicates(subset='clean_text')"
   ]
  },
  {
   "cell_type": "code",
   "execution_count": 247,
   "id": "8d3564d2",
   "metadata": {},
   "outputs": [
    {
     "name": "stdout",
     "output_type": "stream",
     "text": [
      "Размер датасетов train=29055 и train_no_adv=27037\n"
     ]
    }
   ],
   "source": [
    "print(f'Размер датасетов train={len(train)} и train_no_adv={len(train_no_adv)}')"
   ]
  },
  {
   "cell_type": "code",
   "execution_count": 248,
   "id": "23a4f34a",
   "metadata": {},
   "outputs": [
    {
     "data": {
      "text/plain": [
       "array([2270, 2210, 2205, 2147, 2084, 2075, 2069, 2048, 2026, 2017, 1963,\n",
       "       1875])"
      ]
     },
     "execution_count": 248,
     "metadata": {},
     "output_type": "execute_result"
    }
   ],
   "source": [
    "train_no_adv['category'].value_counts().unique()"
   ]
  },
  {
   "cell_type": "markdown",
   "id": "6cfa7bc6",
   "metadata": {},
   "source": [
    "## Токенизация"
   ]
  },
  {
   "cell_type": "code",
   "execution_count": 249,
   "id": "cde8a7ac",
   "metadata": {},
   "outputs": [],
   "source": [
    "import nltk\n",
    "from nltk import tokenize\n",
    "from nltk.tokenize import word_tokenize\n",
    "from nltk.probability import FreqDist"
   ]
  },
  {
   "cell_type": "markdown",
   "id": "5881e698",
   "metadata": {},
   "source": [
    "### Удаление стоп-слов"
   ]
  },
  {
   "cell_type": "markdown",
   "id": "4b03eb12",
   "metadata": {},
   "source": [
    "Список стоп-слов для русского языка из библиотеки nltk"
   ]
  },
  {
   "cell_type": "code",
   "execution_count": 250,
   "id": "30acb33e",
   "metadata": {},
   "outputs": [
    {
     "name": "stdout",
     "output_type": "stream",
     "text": [
      "Количество стоп-слов библиотеки nltk = 151\n"
     ]
    }
   ],
   "source": [
    "from nltk.corpus import stopwords\n",
    "\n",
    "stop_words_nltk = list(stopwords.words('russian'))\n",
    "\n",
    "print('Количество стоп-слов библиотеки nltk =',len(stop_words_nltk))"
   ]
  },
  {
   "cell_type": "markdown",
   "id": "a0dcc987",
   "metadata": {},
   "source": [
    "Список стоп слов для русского языка, взят из https://countwordsfree.com/stopwords/russian"
   ]
  },
  {
   "cell_type": "code",
   "execution_count": 251,
   "id": "acb7540b",
   "metadata": {},
   "outputs": [
    {
     "name": "stdout",
     "output_type": "stream",
     "text": [
      "Количество стоп-слов из countwordsfree.com = 421\n"
     ]
    }
   ],
   "source": [
    "# opening the file in read mode\n",
    "my_file = open(\"stop_words_russian.txt\", \"r\")\n",
    "  \n",
    "# reading the file\n",
    "stopwords = my_file.read()\n",
    "  \n",
    "# replacing end splitting the text \n",
    "# when newline ('\\n') is seen.\n",
    "stopwords_list = stopwords.split(\"\\n\")\n",
    "print('Количество стоп-слов из countwordsfree.com =',len(stopwords_list))\n",
    "my_file.close()"
   ]
  },
  {
   "cell_type": "code",
   "execution_count": 252,
   "id": "73304693",
   "metadata": {},
   "outputs": [],
   "source": [
    "stop_words_of_sport = ['трансляция','видео','канал']\n",
    "stopwords_list+=stop_words_of_sport"
   ]
  },
  {
   "cell_type": "markdown",
   "id": "3652b587",
   "metadata": {},
   "source": [
    "### Лемматизация"
   ]
  },
  {
   "cell_type": "markdown",
   "id": "445fc87f",
   "metadata": {},
   "source": [
    "Лемматизация с помощью библиотеки pymorphy2"
   ]
  },
  {
   "cell_type": "code",
   "execution_count": 253,
   "id": "65318ab4",
   "metadata": {},
   "outputs": [],
   "source": [
    "from pymorphy2 import MorphAnalyzer\n",
    "\n",
    "lemmatyzer = MorphAnalyzer()"
   ]
  },
  {
   "cell_type": "markdown",
   "id": "70ca3186",
   "metadata": {},
   "source": [
    "Напишем функцию разделяющее предложение на слова-токены, удаляющее стоп-слова и получающее список токенок лемм"
   ]
  },
  {
   "cell_type": "code",
   "execution_count": 254,
   "id": "f0e4ef41",
   "metadata": {},
   "outputs": [],
   "source": [
    "def post_to_wordlist(post_sentence, remove_stopwords=False ):\n",
    "    # разбиваем предложение на слова по символу пробела\n",
    "    words = post_sentence.split()\n",
    "    if remove_stopwords: # убираем стоп-слова\n",
    "        words = [w for w in words if not w in remove_stopwords and len(w)>1]\n",
    "\n",
    "    lemma_words = [lemmatyzer.parse(w)[0].normal_form for w in words]\n",
    "\n",
    "    if remove_stopwords: # убираем стоп-слова\n",
    "        lemma_words_nostops = [w for w in lemma_words if not w in remove_stopwords]\n",
    "\n",
    "    return(lemma_words_nostops)"
   ]
  },
  {
   "cell_type": "markdown",
   "id": "560746d7",
   "metadata": {},
   "source": [
    "Модель разделения текста на предложения"
   ]
  },
  {
   "cell_type": "code",
   "execution_count": 255,
   "id": "c1d14e1b",
   "metadata": {},
   "outputs": [],
   "source": [
    "tokenizer = nltk.data.load('tokenizers/punkt/russian.pickle')\n",
    "\n"
   ]
  },
  {
   "cell_type": "markdown",
   "id": "d87f5ddc",
   "metadata": {},
   "source": [
    "Функция разделяющая тексты постов на предложения и применяющая к ним функцию post_to_wordlist"
   ]
  },
  {
   "cell_type": "code",
   "execution_count": 256,
   "id": "898691bf",
   "metadata": {},
   "outputs": [],
   "source": [
    "def post_to_sentences(post, tokenizer, remove_stopwords=False):\n",
    "    # разбиваем пост на предложения\n",
    "    raw_sentences = tokenizer.tokenize(post.strip())\n",
    "    sentences = []\n",
    "    # применяем функцию post_to_wordlist к каждому предложению\n",
    "    for raw_sentence in raw_sentences:\n",
    "        if len(raw_sentence) > 0:\n",
    "            sentences.append(post_to_wordlist(raw_sentence, remove_stopwords))\n",
    "    return sentences"
   ]
  },
  {
   "cell_type": "code",
   "execution_count": 257,
   "id": "564ee472",
   "metadata": {},
   "outputs": [],
   "source": [
    "train_no_adv['tokenized_text'] = train_no_adv['clean_text'].apply(lambda row: post_to_wordlist(row, stopwords_list))\n",
    "train_no_adv['lemmas_string'] = train_no_adv['tokenized_text'].apply(lambda row: ' '.join(row))"
   ]
  },
  {
   "cell_type": "markdown",
   "id": "2a7ac64e",
   "metadata": {},
   "source": [
    "## Часть 4: Машинное обучение"
   ]
  },
  {
   "cell_type": "code",
   "execution_count": 258,
   "id": "e60323b7",
   "metadata": {},
   "outputs": [],
   "source": [
    "def prepose_text(df_text):\n",
    "    df_text['clean_text'] = df_text['text'].map(clean_text)\n",
    "    df_text['adv'] = df_text.clean_text.apply(lambda row: adv_posts(row,advertisement_words))\n",
    "    df_no_adv = df_text[df_text.adv!=1].drop_duplicates(subset='clean_text')\n",
    "    df_no_adv['tokenized_text'] = df_no_adv['clean_text'].apply(lambda row: post_to_wordlist(row, stopwords_list))\n",
    "    df_no_adv['lemmas_string'] = df_no_adv['tokenized_text'].apply(lambda row: ' '.join(row))\n",
    "    return df_no_adv"
   ]
  },
  {
   "cell_type": "code",
   "execution_count": 259,
   "id": "f0648c85",
   "metadata": {},
   "outputs": [],
   "source": [
    "\n",
    "test_no_adv = prepose_text(test)"
   ]
  },
  {
   "cell_type": "code",
   "execution_count": 260,
   "id": "437181e5",
   "metadata": {},
   "outputs": [],
   "source": [
    "X_train = train_no_adv['lemmas_string']\n",
    "y_train = train_no_adv['category']\n",
    "\n",
    "X_test = test_no_adv['lemmas_string']\n",
    "y_test = test_no_adv['category']\n"
   ]
  },
  {
   "cell_type": "markdown",
   "id": "6fbdb1ea",
   "metadata": {},
   "source": [
    "### Создаем таблицу метрик\n",
    "Таблица с результатами полученных метрик для разных моделей"
   ]
  },
  {
   "cell_type": "code",
   "execution_count": 96,
   "id": "e0ff22bd",
   "metadata": {},
   "outputs": [],
   "source": [
    "df_models_accuracy = pd.DataFrame(columns=['Название модели', 'Векторизатор текста', 'Accuracy'])"
   ]
  },
  {
   "cell_type": "markdown",
   "id": "fe4242f6",
   "metadata": {},
   "source": [
    "**Naive Bayes model - baseline -**"
   ]
  },
  {
   "cell_type": "code",
   "execution_count": 97,
   "id": "66999f96",
   "metadata": {},
   "outputs": [
    {
     "data": {
      "text/plain": [
       "Pipeline(steps=[('tfidf', TfidfVectorizer()), ('mnb_clf', MultinomialNB())])"
      ]
     },
     "execution_count": 97,
     "metadata": {},
     "output_type": "execute_result"
    }
   ],
   "source": [
    "mnb_ppl_clf = Pipeline([\n",
    "    ('tfidf', TfidfVectorizer()),\n",
    "    ('mnb_clf', MultinomialNB())])\n",
    "\n",
    "mnb_ppl_clf.fit(X_train, y_train)"
   ]
  },
  {
   "cell_type": "code",
   "execution_count": 98,
   "id": "6b459f14",
   "metadata": {},
   "outputs": [
    {
     "name": "stdout",
     "output_type": "stream",
     "text": [
      "              precision    recall  f1-score   support\n",
      "\n",
      "   athletics       0.92      0.81      0.86       754\n",
      "   autosport       0.90      0.79      0.84       887\n",
      "  basketball       0.81      0.97      0.89       514\n",
      "  boardgames       0.96      0.84      0.89       798\n",
      "      esport       0.69      0.88      0.77       547\n",
      "     extreme       0.75      0.68      0.71       816\n",
      "    football       0.72      0.89      0.80       569\n",
      "      hockey       0.89      0.86      0.88       777\n",
      "martial_arts       0.75      0.84      0.79       616\n",
      "   motosport       0.84      0.89      0.87       694\n",
      "      tennis       0.97      0.92      0.94       784\n",
      "  volleyball       0.87      0.82      0.85       793\n",
      "winter_sport       0.88      0.85      0.87       729\n",
      "\n",
      "    accuracy                           0.84      9278\n",
      "   macro avg       0.84      0.85      0.84      9278\n",
      "weighted avg       0.85      0.84      0.84      9278\n",
      "\n"
     ]
    }
   ],
   "source": [
    "predicted_mnb = mnb_ppl_clf.predict(X_test)\n",
    "\n",
    "print(metrics.classification_report(predicted_mnb, y_test))"
   ]
  },
  {
   "cell_type": "code",
   "execution_count": 99,
   "id": "7ca0de75",
   "metadata": {},
   "outputs": [],
   "source": [
    "# добавляем первую полученную метрику в таблицу\n",
    "df_models_accuracy.loc[len(df_models_accuracy.index)] = ['Naive Bayes', 'TF-IDF', metrics.accuracy_score(predicted_mnb, y_test)]"
   ]
  },
  {
   "cell_type": "code",
   "execution_count": 100,
   "id": "d454d470",
   "metadata": {},
   "outputs": [
    {
     "data": {
      "text/html": [
       "<div>\n",
       "<style scoped>\n",
       "    .dataframe tbody tr th:only-of-type {\n",
       "        vertical-align: middle;\n",
       "    }\n",
       "\n",
       "    .dataframe tbody tr th {\n",
       "        vertical-align: top;\n",
       "    }\n",
       "\n",
       "    .dataframe thead th {\n",
       "        text-align: right;\n",
       "    }\n",
       "</style>\n",
       "<table border=\"1\" class=\"dataframe\">\n",
       "  <thead>\n",
       "    <tr style=\"text-align: right;\">\n",
       "      <th></th>\n",
       "      <th>Название модели</th>\n",
       "      <th>Векторизатор текста</th>\n",
       "      <th>Accuracy</th>\n",
       "    </tr>\n",
       "  </thead>\n",
       "  <tbody>\n",
       "    <tr>\n",
       "      <th>0</th>\n",
       "      <td>Naive Bayes</td>\n",
       "      <td>TF-IDF</td>\n",
       "      <td>0.843285</td>\n",
       "    </tr>\n",
       "  </tbody>\n",
       "</table>\n",
       "</div>"
      ],
      "text/plain": [
       "  Название модели Векторизатор текста  Accuracy\n",
       "0     Naive Bayes              TF-IDF  0.843285"
      ]
     },
     "execution_count": 100,
     "metadata": {},
     "output_type": "execute_result"
    }
   ],
   "source": [
    "df_models_accuracy"
   ]
  },
  {
   "cell_type": "markdown",
   "id": "eced25e9",
   "metadata": {},
   "source": [
    "**RandomForest model**"
   ]
  },
  {
   "cell_type": "code",
   "execution_count": 101,
   "id": "984f5d2c",
   "metadata": {},
   "outputs": [
    {
     "data": {
      "text/plain": [
       "Pipeline(steps=[('tfidf', TfidfVectorizer()),\n",
       "                ('rf_clf', RandomForestClassifier())])"
      ]
     },
     "execution_count": 101,
     "metadata": {},
     "output_type": "execute_result"
    }
   ],
   "source": [
    "rf_ppl_clf = Pipeline([\n",
    "    ('tfidf', TfidfVectorizer()),\n",
    "    ('rf_clf', RandomForestClassifier())])\n",
    "\n",
    "rf_ppl_clf.fit(X_train, y_train)"
   ]
  },
  {
   "cell_type": "code",
   "execution_count": 103,
   "id": "763bf4b9",
   "metadata": {},
   "outputs": [
    {
     "name": "stdout",
     "output_type": "stream",
     "text": [
      "              precision    recall  f1-score   support\n",
      "\n",
      "   athletics       0.92      0.88      0.90       692\n",
      "   autosport       0.84      0.85      0.84       765\n",
      "  basketball       0.84      0.89      0.86       581\n",
      "  boardgames       0.94      0.93      0.93       707\n",
      "      esport       0.76      0.65      0.70       807\n",
      "     extreme       0.77      0.66      0.71       874\n",
      "    football       0.74      0.75      0.74       697\n",
      "      hockey       0.79      0.86      0.82       691\n",
      "martial_arts       0.74      0.79      0.77       642\n",
      "   motosport       0.84      0.88      0.86       706\n",
      "      tennis       0.95      0.93      0.94       762\n",
      "  volleyball       0.83      0.94      0.88       659\n",
      "winter_sport       0.84      0.85      0.84       695\n",
      "\n",
      "    accuracy                           0.83      9278\n",
      "   macro avg       0.83      0.84      0.83      9278\n",
      "weighted avg       0.83      0.83      0.83      9278\n",
      "\n"
     ]
    }
   ],
   "source": [
    "predicted_rf = rf_ppl_clf.predict(X_test)\n",
    "\n",
    "print(metrics.classification_report(predicted_rf, y_test))"
   ]
  },
  {
   "cell_type": "code",
   "execution_count": 104,
   "id": "e4e2a738",
   "metadata": {},
   "outputs": [],
   "source": [
    "# добавляем первую полученную метрику в таблицу\n",
    "df_models_accuracy.loc[len(df_models_accuracy.index)] = ['Random Forest', 'TF-IDF', metrics.accuracy_score(predicted_rf, y_test)]"
   ]
  },
  {
   "cell_type": "markdown",
   "id": "32087698",
   "metadata": {},
   "source": [
    "**Стохастический градиентный спуск - SGD**"
   ]
  },
  {
   "cell_type": "code",
   "execution_count": 105,
   "id": "2705075d",
   "metadata": {},
   "outputs": [
    {
     "data": {
      "text/plain": [
       "Pipeline(steps=[('tfidf',\n",
       "                 TfidfVectorizer(stop_words=['а', 'е', 'и', 'ж', 'м', 'о', 'на',\n",
       "                                             'не', 'ни', 'об', 'но', 'он',\n",
       "                                             'мне', 'мои', 'мож', 'она', 'они',\n",
       "                                             'оно', 'мной', 'много',\n",
       "                                             'многочисленное', 'многочисленная',\n",
       "                                             'многочисленные', 'многочисленный',\n",
       "                                             'мною', 'мой', 'мог', 'могут',\n",
       "                                             'можно', 'может', ...])),\n",
       "                ('sgd_clf', SGDClassifier(random_state=42))])"
      ]
     },
     "execution_count": 105,
     "metadata": {},
     "output_type": "execute_result"
    }
   ],
   "source": [
    "sgd_ppl_clf = Pipeline([\n",
    "    ('tfidf', TfidfVectorizer(stop_words=stopwords_list)),\n",
    "    ('sgd_clf', SGDClassifier(random_state=42))])\n",
    "\n",
    "sgd_ppl_clf.fit(X_train, y_train)\n"
   ]
  },
  {
   "cell_type": "code",
   "execution_count": 106,
   "id": "3682ae42",
   "metadata": {},
   "outputs": [
    {
     "name": "stdout",
     "output_type": "stream",
     "text": [
      "              precision    recall  f1-score   support\n",
      "\n",
      "   athletics       0.93      0.92      0.92       665\n",
      "   autosport       0.88      0.89      0.89       776\n",
      "  basketball       0.91      0.94      0.92       596\n",
      "  boardgames       0.97      0.84      0.90       810\n",
      "      esport       0.76      0.85      0.80       623\n",
      "     extreme       0.75      0.81      0.78       694\n",
      "    football       0.83      0.83      0.83       710\n",
      "      hockey       0.86      0.91      0.88       714\n",
      "martial_arts       0.83      0.84      0.84       674\n",
      "   motosport       0.91      0.86      0.88       776\n",
      "      tennis       0.97      0.95      0.96       770\n",
      "  volleyball       0.91      0.91      0.91       748\n",
      "winter_sport       0.90      0.88      0.89       722\n",
      "\n",
      "    accuracy                           0.88      9278\n",
      "   macro avg       0.88      0.88      0.88      9278\n",
      "weighted avg       0.88      0.88      0.88      9278\n",
      "\n"
     ]
    }
   ],
   "source": [
    "predicted_sgd = sgd_ppl_clf.predict(X_test)\n",
    "\n",
    "print(metrics.classification_report(predicted_sgd, y_test))"
   ]
  },
  {
   "cell_type": "code",
   "execution_count": 107,
   "id": "2351355e",
   "metadata": {},
   "outputs": [],
   "source": [
    "# добавляем первую полученную метрику в таблицу\n",
    "df_models_accuracy.loc[len(df_models_accuracy.index)] = ['SGDClassifier', 'TF-IDF', metrics.accuracy_score(predicted_sgd, y_test)]"
   ]
  },
  {
   "cell_type": "markdown",
   "id": "be86968e",
   "metadata": {},
   "source": [
    "**KNeighbors Model**"
   ]
  },
  {
   "cell_type": "code",
   "execution_count": 108,
   "id": "b21474f8",
   "metadata": {},
   "outputs": [
    {
     "data": {
      "text/plain": [
       "Pipeline(steps=[('tfidf', TfidfVectorizer()),\n",
       "                ('knb_clf', KNeighborsClassifier(n_neighbors=10))])"
      ]
     },
     "execution_count": 108,
     "metadata": {},
     "output_type": "execute_result"
    }
   ],
   "source": [
    "knb_ppl_clf = Pipeline([\n",
    "    ('tfidf', TfidfVectorizer()),\n",
    "    ('knb_clf', KNeighborsClassifier(n_neighbors=10))])\n",
    "\n",
    "knb_ppl_clf.fit(X_train, y_train)"
   ]
  },
  {
   "cell_type": "code",
   "execution_count": 109,
   "id": "77517273",
   "metadata": {},
   "outputs": [
    {
     "name": "stdout",
     "output_type": "stream",
     "text": [
      "              precision    recall  f1-score   support\n",
      "\n",
      "   athletics       0.92      0.68      0.78       887\n",
      "   autosport       0.81      0.82      0.81       772\n",
      "  basketball       0.85      0.80      0.82       656\n",
      "  boardgames       0.94      0.86      0.90       766\n",
      "      esport       0.72      0.76      0.74       661\n",
      "     extreme       0.66      0.77      0.71       644\n",
      "    football       0.71      0.81      0.76       616\n",
      "      hockey       0.80      0.82      0.81       737\n",
      "martial_arts       0.74      0.82      0.77       619\n",
      "   motosport       0.84      0.86      0.85       720\n",
      "      tennis       0.94      0.93      0.94       763\n",
      "  volleyball       0.84      0.78      0.81       805\n",
      "winter_sport       0.81      0.90      0.85       632\n",
      "\n",
      "    accuracy                           0.81      9278\n",
      "   macro avg       0.81      0.82      0.81      9278\n",
      "weighted avg       0.82      0.81      0.81      9278\n",
      "\n"
     ]
    }
   ],
   "source": [
    "predicted_knb = knb_ppl_clf.predict(X_test)\n",
    "\n",
    "print(metrics.classification_report(predicted_knb, y_test))"
   ]
  },
  {
   "cell_type": "code",
   "execution_count": 110,
   "id": "5f93a4cc",
   "metadata": {},
   "outputs": [],
   "source": [
    "# добавляем первую полученную метрику в таблицу\n",
    "df_models_accuracy.loc[len(df_models_accuracy.index)] = ['KNeighbors', 'TF-IDF', metrics.accuracy_score(predicted_knb, y_test)]"
   ]
  },
  {
   "cell_type": "code",
   "execution_count": 111,
   "id": "35c34c3f",
   "metadata": {},
   "outputs": [
    {
     "data": {
      "text/html": [
       "<div>\n",
       "<style scoped>\n",
       "    .dataframe tbody tr th:only-of-type {\n",
       "        vertical-align: middle;\n",
       "    }\n",
       "\n",
       "    .dataframe tbody tr th {\n",
       "        vertical-align: top;\n",
       "    }\n",
       "\n",
       "    .dataframe thead th {\n",
       "        text-align: right;\n",
       "    }\n",
       "</style>\n",
       "<table border=\"1\" class=\"dataframe\">\n",
       "  <thead>\n",
       "    <tr style=\"text-align: right;\">\n",
       "      <th></th>\n",
       "      <th>Название модели</th>\n",
       "      <th>Векторизатор текста</th>\n",
       "      <th>Accuracy</th>\n",
       "    </tr>\n",
       "  </thead>\n",
       "  <tbody>\n",
       "    <tr>\n",
       "      <th>0</th>\n",
       "      <td>Naive Bayes</td>\n",
       "      <td>TF-IDF</td>\n",
       "      <td>0.843285</td>\n",
       "    </tr>\n",
       "    <tr>\n",
       "      <th>1</th>\n",
       "      <td>Random Forest</td>\n",
       "      <td>TF-IDF</td>\n",
       "      <td>0.829705</td>\n",
       "    </tr>\n",
       "    <tr>\n",
       "      <th>2</th>\n",
       "      <td>SGDClassifier</td>\n",
       "      <td>TF-IDF</td>\n",
       "      <td>0.877775</td>\n",
       "    </tr>\n",
       "    <tr>\n",
       "      <th>3</th>\n",
       "      <td>KNeighbors</td>\n",
       "      <td>TF-IDF</td>\n",
       "      <td>0.813214</td>\n",
       "    </tr>\n",
       "  </tbody>\n",
       "</table>\n",
       "</div>"
      ],
      "text/plain": [
       "  Название модели Векторизатор текста  Accuracy\n",
       "0     Naive Bayes              TF-IDF  0.843285\n",
       "1   Random Forest              TF-IDF  0.829705\n",
       "2   SGDClassifier              TF-IDF  0.877775\n",
       "3      KNeighbors              TF-IDF  0.813214"
      ]
     },
     "execution_count": 111,
     "metadata": {},
     "output_type": "execute_result"
    }
   ],
   "source": [
    "df_models_accuracy"
   ]
  },
  {
   "cell_type": "code",
   "execution_count": 162,
   "id": "1cdbbf7c",
   "metadata": {},
   "outputs": [
    {
     "data": {
      "image/png": "[encoded data removed]",
      "text/plain": [
       "<Figure size 1440x1440 with 2 Axes>"
      ]
     },
     "metadata": {
      "needs_background": "light"
     },
     "output_type": "display_data"
    }
   ],
   "source": [
    "cmm = metrics.confusion_matrix(y_test, predicted_sgd, normalize='true')\n",
    "\n",
    "lables = y_train.drop_duplicates()\n",
    "T13_lables = sorted(lables)\n",
    "\n",
    "plt.figure(figsize=(20, 20))\n",
    "\n",
    "ax= plt.subplot()\n",
    "\n",
    "sns.heatmap(np.rint(cmm*100), annot=True, fmt='g', ax=ax);\n",
    "\n",
    "ax.set_xlabel('Predicted labels');ax.set_ylabel('True labels'); \n",
    "ax.set_title('Confusion Matrix', fontdict={'fontsize':20}, pad=5); \n",
    "ax.xaxis.set_ticklabels(T13_lables); ax.yaxis.set_ticklabels(T13_lables);"
   ]
  },
  {
   "cell_type": "code",
   "execution_count": 155,
   "id": "4cb05f54",
   "metadata": {},
   "outputs": [
    {
     "name": "stdout",
     "output_type": "stream",
     "text": [
      "Best parameter (CV score=0.858):\n",
      "{'sgd_clf__alpha': 0.0001, 'tfidf__ngram_range': (1, 1), 'tfidf__use_idf': True}\n"
     ]
    }
   ],
   "source": [
    "from sklearn.model_selection import GridSearchCV\n",
    "parameters = {'tfidf__ngram_range': [(1, 1), (1, 2)],\n",
    "              'tfidf__use_idf': (True, False),\n",
    "              'sgd_clf__alpha': (1e-2, 1e-3, 1e-4)\n",
    "             }\n",
    "\n",
    "search = GridSearchCV(sgd_ppl_clf, parameters)\n",
    "search.fit(X_train, y_train)\n",
    "print(\"Best parameter (CV score=%0.3f):\" % search.best_score_)\n",
    "print(search.best_params_)"
   ]
  },
  {
   "cell_type": "code",
   "execution_count": 154,
   "id": "8993942d",
   "metadata": {},
   "outputs": [
    {
     "data": {
      "text/plain": [
       "0.001"
      ]
     },
     "execution_count": 154,
     "metadata": {},
     "output_type": "execute_result"
    }
   ],
   "source": [
    "1e-3"
   ]
  },
  {
   "cell_type": "code",
   "execution_count": 165,
   "id": "ea7c4113",
   "metadata": {},
   "outputs": [
    {
     "name": "stdout",
     "output_type": "stream",
     "text": [
      "Collecting tensorflow\n",
      "  Obtaining dependency information for tensorflow from https://files.pythonhosted.org/packages/d6/af/cb5ea6d1a9c83e715e29b45a598ebf542729cd216b43f5deefc27657bd38/tensorflow-2.13.0-cp39-cp39-manylinux_2_17_x86_64.manylinux2014_x86_64.whl.metadata\n",
      "  Downloading tensorflow-2.13.0-cp39-cp39-manylinux_2_17_x86_64.manylinux2014_x86_64.whl.metadata (3.4 kB)\n",
      "Collecting absl-py>=1.0.0 (from tensorflow)\n",
      "  Downloading absl_py-1.4.0-py3-none-any.whl (126 kB)\n",
      "\u001b[2K     \u001b[38;2;114;156;31m━━━━━━━━━━━━━━━━━━━━━━━━━━━━━━━━━━━━━\u001b[0m \u001b[32m126.5/126.5 kB\u001b[0m \u001b[31m527.2 kB/s\u001b[0m eta \u001b[36m0:00:00\u001b[0m1m517.2 kB/s\u001b[0m eta \u001b[36m0:00:01\u001b[0m\n",
      "\u001b[?25hCollecting astunparse>=1.6.0 (from tensorflow)\n",
      "  Downloading astunparse-1.6.3-py2.py3-none-any.whl (12 kB)\n",
      "Collecting flatbuffers>=23.1.21 (from tensorflow)\n",
      "  Obtaining dependency information for flatbuffers>=23.1.21 from https://files.pythonhosted.org/packages/6f/12/d5c79ee252793ffe845d58a913197bfa02ae9a0b5c9bc3dc4b58d477b9e7/flatbuffers-23.5.26-py2.py3-none-any.whl.metadata\n",
      "  Downloading flatbuffers-23.5.26-py2.py3-none-any.whl.metadata (850 bytes)\n",
      "Collecting gast<=0.4.0,>=0.2.1 (from tensorflow)\n",
      "  Downloading gast-0.4.0-py3-none-any.whl (9.8 kB)\n",
      "Collecting google-pasta>=0.1.1 (from tensorflow)\n",
      "  Downloading google_pasta-0.2.0-py3-none-any.whl (57 kB)\n",
      "\u001b[2K     \u001b[38;2;114;156;31m━━━━━━━━━━━━━━━━━━━━━━━━━━━━━━━━━━━━━━━━\u001b[0m \u001b[32m57.5/57.5 kB\u001b[0m \u001b[31m1.3 MB/s\u001b[0m eta \u001b[36m0:00:00\u001b[0m[31m1.5 MB/s\u001b[0m eta \u001b[36m0:00:01\u001b[0m\n",
      "\u001b[?25hCollecting grpcio<2.0,>=1.24.3 (from tensorflow)\n",
      "  Obtaining dependency information for grpcio<2.0,>=1.24.3 from https://files.pythonhosted.org/packages/69/67/46ce6471c94af40118d728caa7e840fd55c70878dcfdad9837003e5863b6/grpcio-1.57.0-cp39-cp39-manylinux_2_17_x86_64.manylinux2014_x86_64.whl.metadata\n",
      "  Downloading grpcio-1.57.0-cp39-cp39-manylinux_2_17_x86_64.manylinux2014_x86_64.whl.metadata (4.0 kB)\n",
      "Collecting h5py>=2.9.0 (from tensorflow)\n",
      "  Obtaining dependency information for h5py>=2.9.0 from https://files.pythonhosted.org/packages/4f/79/8e6e05bc4954ebdb8b9c587f780a11f28790585798bd15a8e4870cfc02bc/h5py-3.9.0-cp39-cp39-manylinux_2_17_x86_64.manylinux2014_x86_64.whl.metadata\n",
      "  Downloading h5py-3.9.0-cp39-cp39-manylinux_2_17_x86_64.manylinux2014_x86_64.whl.metadata (2.5 kB)\n",
      "Collecting keras<2.14,>=2.13.1 (from tensorflow)\n",
      "  Obtaining dependency information for keras<2.14,>=2.13.1 from https://files.pythonhosted.org/packages/2e/f3/19da7511b45e80216cbbd9467137b2d28919c58ba1ccb971435cb631e470/keras-2.13.1-py3-none-any.whl.metadata\n",
      "  Downloading keras-2.13.1-py3-none-any.whl.metadata (2.4 kB)\n",
      "Collecting libclang>=13.0.0 (from tensorflow)\n",
      "  Obtaining dependency information for libclang>=13.0.0 from https://files.pythonhosted.org/packages/ea/df/55525e489c43f9dbb6c8ea27d8a567b3dcd18a22f3c45483055f5ca6611d/libclang-16.0.6-py2.py3-none-manylinux2010_x86_64.whl.metadata\n",
      "  Downloading libclang-16.0.6-py2.py3-none-manylinux2010_x86_64.whl.metadata (5.2 kB)\n",
      "Requirement already satisfied: numpy<=1.24.3,>=1.22 in /home/marina/myprojectdir/myprojectenv/lib/python3.9/site-packages (from tensorflow) (1.22.2)\n",
      "Collecting opt-einsum>=2.3.2 (from tensorflow)\n",
      "  Downloading opt_einsum-3.3.0-py3-none-any.whl (65 kB)\n",
      "\u001b[2K     \u001b[38;2;114;156;31m━━━━━━━━━━━━━━━━━━━━━━━━━━━━━━━━━━━━━━━━\u001b[0m \u001b[32m65.5/65.5 kB\u001b[0m \u001b[31m1.7 MB/s\u001b[0m eta \u001b[36m0:00:00\u001b[0m[31m2.4 MB/s\u001b[0m eta \u001b[36m0:00:01\u001b[0m\n",
      "\u001b[?25hRequirement already satisfied: packaging in /home/marina/myprojectdir/myprojectenv/lib/python3.9/site-packages (from tensorflow) (21.3)\n",
      "Collecting protobuf!=4.21.0,!=4.21.1,!=4.21.2,!=4.21.3,!=4.21.4,!=4.21.5,<5.0.0dev,>=3.20.3 (from tensorflow)\n",
      "  Obtaining dependency information for protobuf!=4.21.0,!=4.21.1,!=4.21.2,!=4.21.3,!=4.21.4,!=4.21.5,<5.0.0dev,>=3.20.3 from https://files.pythonhosted.org/packages/ed/33/f7a5717125d9f699b193fa23904725514b82643d522aa189aba03149ba3b/protobuf-4.24.0-cp37-abi3-manylinux2014_x86_64.whl.metadata\n",
      "  Downloading protobuf-4.24.0-cp37-abi3-manylinux2014_x86_64.whl.metadata (540 bytes)\n",
      "Requirement already satisfied: setuptools in /home/marina/myprojectdir/myprojectenv/lib/python3.9/site-packages (from tensorflow) (60.5.0)\n",
      "Requirement already satisfied: six>=1.12.0 in /home/marina/myprojectdir/myprojectenv/lib/python3.9/site-packages (from tensorflow) (1.16.0)\n",
      "Collecting tensorboard<2.14,>=2.13 (from tensorflow)\n",
      "  Downloading tensorboard-2.13.0-py3-none-any.whl (5.6 MB)\n",
      "\u001b[2K     \u001b[38;2;114;156;31m━━━━━━━━━━━━━━━━━━━━━━━━━━━━━━━━━━━━━━━━\u001b[0m \u001b[32m5.6/5.6 MB\u001b[0m \u001b[31m1.8 MB/s\u001b[0m eta \u001b[36m0:00:00\u001b[0mm eta \u001b[36m0:00:01\u001b[0m[36m0:00:01\u001b[0m\n",
      "\u001b[?25hCollecting tensorflow-estimator<2.14,>=2.13.0 (from tensorflow)\n",
      "  Obtaining dependency information for tensorflow-estimator<2.14,>=2.13.0 from https://files.pythonhosted.org/packages/72/5c/c318268d96791c6222ad7df1651bbd1b2409139afeb6f468c0f327177016/tensorflow_estimator-2.13.0-py2.py3-none-any.whl.metadata\n",
      "  Downloading tensorflow_estimator-2.13.0-py2.py3-none-any.whl.metadata (1.3 kB)\n",
      "Collecting termcolor>=1.1.0 (from tensorflow)\n",
      "  Downloading termcolor-2.3.0-py3-none-any.whl (6.9 kB)\n",
      "Requirement already satisfied: typing-extensions<4.6.0,>=3.6.6 in /home/marina/myprojectdir/myprojectenv/lib/python3.9/site-packages (from tensorflow) (4.0.1)\n",
      "Collecting wrapt>=1.11.0 (from tensorflow)\n",
      "  Downloading wrapt-1.15.0-cp39-cp39-manylinux_2_5_x86_64.manylinux1_x86_64.manylinux_2_17_x86_64.manylinux2014_x86_64.whl (78 kB)\n",
      "\u001b[2K     \u001b[38;2;114;156;31m━━━━━━━━━━━━━━━━━━━━━━━━━━━━━━━━━━━━━━━━\u001b[0m \u001b[32m78.3/78.3 kB\u001b[0m \u001b[31m2.1 MB/s\u001b[0m eta \u001b[36m0:00:00\u001b[0m\n",
      "\u001b[?25hCollecting tensorflow-io-gcs-filesystem>=0.23.1 (from tensorflow)\n",
      "  Obtaining dependency information for tensorflow-io-gcs-filesystem>=0.23.1 from https://files.pythonhosted.org/packages/14/44/8e501aa789e96f64653ff5be1f110174ed4162c44b2a9f372fcd9e08899c/tensorflow_io_gcs_filesystem-0.33.0-cp39-cp39-manylinux_2_12_x86_64.manylinux2010_x86_64.whl.metadata\n",
      "  Downloading tensorflow_io_gcs_filesystem-0.33.0-cp39-cp39-manylinux_2_12_x86_64.manylinux2010_x86_64.whl.metadata (14 kB)\n",
      "Requirement already satisfied: wheel<1.0,>=0.23.0 in /home/marina/myprojectdir/myprojectenv/lib/python3.9/site-packages (from astunparse>=1.6.0->tensorflow) (0.37.1)\n",
      "Collecting google-auth<3,>=1.6.3 (from tensorboard<2.14,>=2.13->tensorflow)\n",
      "  Obtaining dependency information for google-auth<3,>=1.6.3 from https://files.pythonhosted.org/packages/9c/8d/bff87fc722553a5691d8514da5523c23547f3894189ba03b57592e37bdc2/google_auth-2.22.0-py2.py3-none-any.whl.metadata\n",
      "  Downloading google_auth-2.22.0-py2.py3-none-any.whl.metadata (4.2 kB)\n",
      "Collecting google-auth-oauthlib<1.1,>=0.5 (from tensorboard<2.14,>=2.13->tensorflow)\n",
      "  Downloading google_auth_oauthlib-1.0.0-py2.py3-none-any.whl (18 kB)\n",
      "Collecting markdown>=2.6.8 (from tensorboard<2.14,>=2.13->tensorflow)\n",
      "  Obtaining dependency information for markdown>=2.6.8 from https://files.pythonhosted.org/packages/1a/b5/228c1cdcfe138f1a8e01ab1b54284c8b83735476cb22b6ba251656ed13ad/Markdown-3.4.4-py3-none-any.whl.metadata\n",
      "  Downloading Markdown-3.4.4-py3-none-any.whl.metadata (6.9 kB)\n",
      "Requirement already satisfied: requests<3,>=2.21.0 in /home/marina/myprojectdir/myprojectenv/lib/python3.9/site-packages (from tensorboard<2.14,>=2.13->tensorflow) (2.28.1)\n",
      "Collecting tensorboard-data-server<0.8.0,>=0.7.0 (from tensorboard<2.14,>=2.13->tensorflow)\n",
      "  Obtaining dependency information for tensorboard-data-server<0.8.0,>=0.7.0 from https://files.pythonhosted.org/packages/02/52/fb9e51fba47951aabd7a6b25e41d73eae94208ccf62d886168096941a781/tensorboard_data_server-0.7.1-py3-none-manylinux2014_x86_64.whl.metadata\n",
      "  Downloading tensorboard_data_server-0.7.1-py3-none-manylinux2014_x86_64.whl.metadata (1.1 kB)\n",
      "Collecting werkzeug>=1.0.1 (from tensorboard<2.14,>=2.13->tensorflow)\n",
      "  Obtaining dependency information for werkzeug>=1.0.1 from https://files.pythonhosted.org/packages/ba/d6/8040faecaba2feb84e1647af174b3243c9b90c163c7ea407820839931efe/Werkzeug-2.3.6-py3-none-any.whl.metadata\n",
      "  Downloading Werkzeug-2.3.6-py3-none-any.whl.metadata (4.1 kB)\n",
      "Requirement already satisfied: pyparsing!=3.0.5,>=2.0.2 in /home/marina/myprojectdir/myprojectenv/lib/python3.9/site-packages (from packaging->tensorflow) (3.0.7)\n",
      "Collecting cachetools<6.0,>=2.0.0 (from google-auth<3,>=1.6.3->tensorboard<2.14,>=2.13->tensorflow)\n"
     ]
    },
    {
     "name": "stdout",
     "output_type": "stream",
     "text": [
      "  Obtaining dependency information for cachetools<6.0,>=2.0.0 from https://files.pythonhosted.org/packages/a9/c9/c8a7710f2cedcb1db9224fdd4d8307c9e48cbddc46c18b515fefc0f1abbe/cachetools-5.3.1-py3-none-any.whl.metadata\n",
      "  Downloading cachetools-5.3.1-py3-none-any.whl.metadata (5.2 kB)\n",
      "Collecting pyasn1-modules>=0.2.1 (from google-auth<3,>=1.6.3->tensorboard<2.14,>=2.13->tensorflow)\n",
      "  Downloading pyasn1_modules-0.3.0-py2.py3-none-any.whl (181 kB)\n",
      "\u001b[2K     \u001b[38;2;114;156;31m━━━━━━━━━━━━━━━━━━━━━━━━━━━━━━━━━━━━━\u001b[0m \u001b[32m181.3/181.3 kB\u001b[0m \u001b[31m875.5 kB/s\u001b[0m eta \u001b[36m0:00:00\u001b[0m kB/s\u001b[0m eta \u001b[36m0:00:01\u001b[0m:01\u001b[0m\n",
      "\u001b[?25hCollecting rsa<5,>=3.1.4 (from google-auth<3,>=1.6.3->tensorboard<2.14,>=2.13->tensorflow)\n",
      "  Downloading rsa-4.9-py3-none-any.whl (34 kB)\n",
      "Requirement already satisfied: urllib3<2.0 in /home/marina/myprojectdir/myprojectenv/lib/python3.9/site-packages (from google-auth<3,>=1.6.3->tensorboard<2.14,>=2.13->tensorflow) (1.26.9)\n",
      "Collecting requests-oauthlib>=0.7.0 (from google-auth-oauthlib<1.1,>=0.5->tensorboard<2.14,>=2.13->tensorflow)\n",
      "  Downloading requests_oauthlib-1.3.1-py2.py3-none-any.whl (23 kB)\n",
      "Collecting importlib-metadata>=4.4 (from markdown>=2.6.8->tensorboard<2.14,>=2.13->tensorflow)\n",
      "  Obtaining dependency information for importlib-metadata>=4.4 from https://files.pythonhosted.org/packages/cc/37/db7ba97e676af155f5fcb1a35466f446eadc9104e25b83366e8088c9c926/importlib_metadata-6.8.0-py3-none-any.whl.metadata\n",
      "  Downloading importlib_metadata-6.8.0-py3-none-any.whl.metadata (5.1 kB)\n",
      "Requirement already satisfied: charset-normalizer<3,>=2 in /home/marina/myprojectdir/myprojectenv/lib/python3.9/site-packages (from requests<3,>=2.21.0->tensorboard<2.14,>=2.13->tensorflow) (2.1.0)\n",
      "Requirement already satisfied: idna<4,>=2.5 in /home/marina/myprojectdir/myprojectenv/lib/python3.9/site-packages (from requests<3,>=2.21.0->tensorboard<2.14,>=2.13->tensorflow) (3.3)\n",
      "Requirement already satisfied: certifi>=2017.4.17 in /home/marina/myprojectdir/myprojectenv/lib/python3.9/site-packages (from requests<3,>=2.21.0->tensorboard<2.14,>=2.13->tensorflow) (2022.6.15)\n",
      "Collecting MarkupSafe>=2.1.1 (from werkzeug>=1.0.1->tensorboard<2.14,>=2.13->tensorflow)\n",
      "  Obtaining dependency information for MarkupSafe>=2.1.1 from https://files.pythonhosted.org/packages/de/63/cb7e71984e9159ec5f45b5e81e896c8bdd0e45fe3fc6ce02ab497f0d790e/MarkupSafe-2.1.3-cp39-cp39-manylinux_2_17_x86_64.manylinux2014_x86_64.whl.metadata\n",
      "  Downloading MarkupSafe-2.1.3-cp39-cp39-manylinux_2_17_x86_64.manylinux2014_x86_64.whl.metadata (3.0 kB)\n",
      "Collecting zipp>=0.5 (from importlib-metadata>=4.4->markdown>=2.6.8->tensorboard<2.14,>=2.13->tensorflow)\n",
      "  Obtaining dependency information for zipp>=0.5 from https://files.pythonhosted.org/packages/8c/08/d3006317aefe25ea79d3b76c9650afabaf6d63d1c8443b236e7405447503/zipp-3.16.2-py3-none-any.whl.metadata\n",
      "  Downloading zipp-3.16.2-py3-none-any.whl.metadata (3.7 kB)\n",
      "Collecting pyasn1<0.6.0,>=0.4.6 (from pyasn1-modules>=0.2.1->google-auth<3,>=1.6.3->tensorboard<2.14,>=2.13->tensorflow)\n",
      "  Downloading pyasn1-0.5.0-py2.py3-none-any.whl (83 kB)\n",
      "\u001b[2K     \u001b[38;2;114;156;31m━━━━━━━━━━━━━━━━━━━━━━━━━━━━━━━━━━━━━━━\u001b[0m \u001b[32m83.9/83.9 kB\u001b[0m \u001b[31m921.4 kB/s\u001b[0m eta \u001b[36m0:00:00\u001b[0m36m0:00:01\u001b[0mm eta \u001b[36m0:00:01\u001b[0m\n",
      "\u001b[?25hCollecting oauthlib>=3.0.0 (from requests-oauthlib>=0.7.0->google-auth-oauthlib<1.1,>=0.5->tensorboard<2.14,>=2.13->tensorflow)\n",
      "  Downloading oauthlib-3.2.2-py3-none-any.whl (151 kB)\n",
      "\u001b[2K     \u001b[38;2;114;156;31m━━━━━━━━━━━━━━━━━━━━━━━━━━━━━━━━━━━━━━━\u001b[0m \u001b[32m151.7/151.7 kB\u001b[0m \u001b[31m1.9 MB/s\u001b[0m eta \u001b[36m0:00:00\u001b[0m[31m2.3 MB/s\u001b[0m eta \u001b[36m0:00:01\u001b[0m\n",
      "\u001b[?25hDownloading tensorflow-2.13.0-cp39-cp39-manylinux_2_17_x86_64.manylinux2014_x86_64.whl (524.1 MB)\n",
      "\u001b[2K   \u001b[38;2;114;156;31m━━━━━━━━━━━━━━━━━━━━━━━━━━━━━━━━━━━━━━━\u001b[0m \u001b[32m524.1/524.1 MB\u001b[0m \u001b[31m533.3 kB/s\u001b[0m eta \u001b[36m0:00:00\u001b[0mm eta \u001b[36m0:00:01\u001b[0m[36m0:00:15\u001b[0m\n",
      "\u001b[?25hDownloading flatbuffers-23.5.26-py2.py3-none-any.whl (26 kB)\n",
      "Downloading grpcio-1.57.0-cp39-cp39-manylinux_2_17_x86_64.manylinux2014_x86_64.whl (5.3 MB)\n",
      "\u001b[2K   \u001b[38;2;114;156;31m━━━━━━━━━━━━━━━━━━━━━━━━━━━━━━━━━━━━━━━━\u001b[0m \u001b[32m5.3/5.3 MB\u001b[0m \u001b[31m647.4 kB/s\u001b[0m eta \u001b[36m0:00:00\u001b[0mm eta \u001b[36m0:00:01\u001b[0m[36m0:00:01\u001b[0m\n",
      "\u001b[?25hDownloading h5py-3.9.0-cp39-cp39-manylinux_2_17_x86_64.manylinux2014_x86_64.whl (4.8 MB)\n",
      "\u001b[2K   \u001b[38;2;114;156;31m━━━━━━━━━━━━━━━━━━━━━━━━━━━━━━━━━━━━━━━━\u001b[0m \u001b[32m4.8/4.8 MB\u001b[0m \u001b[31m482.0 kB/s\u001b[0m eta \u001b[36m0:00:00\u001b[0mm eta \u001b[36m0:00:01\u001b[0m[36m0:00:01\u001b[0m\n",
      "\u001b[?25hDownloading keras-2.13.1-py3-none-any.whl (1.7 MB)\n",
      "\u001b[2K   \u001b[38;2;114;156;31m━━━━━━━━━━━━━━━━━━━━━━━━━━━━━━━━━━━━━━━━\u001b[0m \u001b[32m1.7/1.7 MB\u001b[0m \u001b[31m605.7 kB/s\u001b[0m eta \u001b[36m0:00:00\u001b[0m[36m0:00:01\u001b[0mm eta \u001b[36m0:00:01\u001b[0m\n",
      "\u001b[?25hDownloading libclang-16.0.6-py2.py3-none-manylinux2010_x86_64.whl (22.9 MB)\n",
      "\u001b[2K   \u001b[38;2;114;156;31m━━━━━━━━━━━━━━━━━━━━━━━━━━━━━━━━━━━━━━━━\u001b[0m \u001b[32m22.9/22.9 MB\u001b[0m \u001b[31m588.4 kB/s\u001b[0m eta \u001b[36m0:00:00\u001b[0mm eta \u001b[36m0:00:01\u001b[0m[36m0:00:01\u001b[0m\n",
      "\u001b[?25hDownloading protobuf-4.24.0-cp37-abi3-manylinux2014_x86_64.whl (311 kB)\n",
      "\u001b[2K   \u001b[38;2;114;156;31m━━━━━━━━━━━━━━━━━━━━━━━━━━━━━━━━━━━━━━━\u001b[0m \u001b[32m311.6/311.6 kB\u001b[0m \u001b[31m504.6 kB/s\u001b[0m eta \u001b[36m0:00:00\u001b[0m1m498.5 kB/s\u001b[0m eta \u001b[36m0:00:01\u001b[0m\n",
      "\u001b[?25hDownloading tensorflow_estimator-2.13.0-py2.py3-none-any.whl (440 kB)\n",
      "\u001b[2K   \u001b[38;2;114;156;31m━━━━━━━━━━━━━━━━━━━━━━━━━━━━━━━━━━━━━━━\u001b[0m \u001b[32m440.8/440.8 kB\u001b[0m \u001b[31m630.9 kB/s\u001b[0m eta \u001b[36m0:00:00\u001b[0m kB/s\u001b[0m eta \u001b[36m0:00:01\u001b[0m:01\u001b[0m\n",
      "\u001b[?25hDownloading tensorflow_io_gcs_filesystem-0.33.0-cp39-cp39-manylinux_2_12_x86_64.manylinux2010_x86_64.whl (2.4 MB)\n",
      "\u001b[2K   \u001b[38;2;114;156;31m━━━━━━━━━━━━━━━━━━━━━━━━━━━━━━━━━━━━━━━━\u001b[0m \u001b[32m2.4/2.4 MB\u001b[0m \u001b[31m782.6 kB/s\u001b[0m eta \u001b[36m0:00:00\u001b[0mm eta \u001b[36m0:00:01\u001b[0m[36m0:00:01\u001b[0m\n",
      "\u001b[?25hDownloading google_auth-2.22.0-py2.py3-none-any.whl (181 kB)\n",
      "\u001b[2K   \u001b[38;2;114;156;31m━━━━━━━━━━━━━━━━━━━━━━━━━━━━━━━━━━━━━━━━\u001b[0m \u001b[32m181.8/181.8 kB\u001b[0m \u001b[31m1.0 MB/s\u001b[0m eta \u001b[36m0:00:00\u001b[0m MB/s\u001b[0m eta \u001b[36m0:00:01\u001b[0m01\u001b[0m\n",
      "\u001b[?25hDownloading Markdown-3.4.4-py3-none-any.whl (94 kB)\n",
      "\u001b[2K   \u001b[38;2;114;156;31m━━━━━━━━━━━━━━━━━━━━━━━━━━━━━━━━━━━━━━━━\u001b[0m \u001b[32m94.2/94.2 kB\u001b[0m \u001b[31m990.4 kB/s\u001b[0m eta \u001b[36m0:00:00\u001b[0m kB/s\u001b[0m eta \u001b[36m0:00:01\u001b[0m\n",
      "\u001b[?25hDownloading tensorboard_data_server-0.7.1-py3-none-manylinux2014_x86_64.whl (6.6 MB)\n",
      "\u001b[2K   \u001b[38;2;114;156;31m━━━━━━━━━━━━━━━━━━━━━━━━━━━━━━━━━━━━━━━━\u001b[0m \u001b[32m6.6/6.6 MB\u001b[0m \u001b[31m808.1 kB/s\u001b[0m eta \u001b[36m0:00:00\u001b[0mm eta \u001b[36m0:00:01\u001b[0m[36m0:00:01\u001b[0m\n",
      "\u001b[?25hDownloading Werkzeug-2.3.6-py3-none-any.whl (242 kB)\n",
      "\u001b[2K   \u001b[38;2;114;156;31m━━━━━━━━━━━━━━━━━━━━━━━━━━━━━━━━━━━━━━━\u001b[0m \u001b[32m242.5/242.5 kB\u001b[0m \u001b[31m877.9 kB/s\u001b[0m eta \u001b[36m0:00:00\u001b[0m1m835.4 kB/s\u001b[0m eta \u001b[36m0:00:01\u001b[0m\n",
      "\u001b[?25hDownloading cachetools-5.3.1-py3-none-any.whl (9.3 kB)\n",
      "Downloading importlib_metadata-6.8.0-py3-none-any.whl (22 kB)\n",
      "Downloading MarkupSafe-2.1.3-cp39-cp39-manylinux_2_17_x86_64.manylinux2014_x86_64.whl (25 kB)\n",
      "Downloading zipp-3.16.2-py3-none-any.whl (7.2 kB)\n",
      "Installing collected packages: libclang, flatbuffers, zipp, wrapt, termcolor, tensorflow-io-gcs-filesystem, tensorflow-estimator, tensorboard-data-server, pyasn1, protobuf, opt-einsum, oauthlib, MarkupSafe, keras, h5py, grpcio, google-pasta, gast, cachetools, astunparse, absl-py, werkzeug, rsa, requests-oauthlib, pyasn1-modules, importlib-metadata, markdown, google-auth, google-auth-oauthlib, tensorboard, tensorflow\n",
      "  Attempting uninstall: MarkupSafe\n",
      "    Found existing installation: MarkupSafe 2.0.1\n",
      "    Uninstalling MarkupSafe-2.0.1:\n",
      "      Successfully uninstalled MarkupSafe-2.0.1\n",
      "Successfully installed MarkupSafe-2.1.3 absl-py-1.4.0 astunparse-1.6.3 cachetools-5.3.1 flatbuffers-23.5.26 gast-0.4.0 google-auth-2.22.0 google-auth-oauthlib-1.0.0 google-pasta-0.2.0 grpcio-1.57.0 h5py-3.9.0 importlib-metadata-6.8.0 keras-2.13.1 libclang-16.0.6 markdown-3.4.4 oauthlib-3.2.2 opt-einsum-3.3.0 protobuf-4.24.0 pyasn1-0.5.0 pyasn1-modules-0.3.0 requests-oauthlib-1.3.1 rsa-4.9 tensorboard-2.13.0 tensorboard-data-server-0.7.1 tensorflow-2.13.0 tensorflow-estimator-2.13.0 tensorflow-io-gcs-filesystem-0.33.0 termcolor-2.3.0 werkzeug-2.3.6 wrapt-1.15.0 zipp-3.16.2\n"
     ]
    }
   ],
   "source": [
    "!pip install tensorflow"
   ]
  },
  {
   "cell_type": "code",
   "execution_count": 293,
   "id": "cb51d283",
   "metadata": {},
   "outputs": [],
   "source": [
    "# Функции-утилиты для работы с категориальными данными\n",
    "from tensorflow.keras import utils\n",
    "\n",
    "# Класс для конструирования последовательной модели нейронной сети\n",
    "from tensorflow.keras.models import Sequential, Model\n",
    "\n",
    "# модуль для разбиения данных на обучающую и тестовую выборки\n",
    "from sklearn.model_selection import train_test_split \n",
    "\n",
    "# Основные слои\n",
    "from tensorflow.keras.layers import Input, Dense, Dropout, SpatialDropout1D, BatchNormalization, Embedding, Flatten, Activation\n",
    "from tensorflow.keras.layers import SimpleRNN, GRU, LSTM, Bidirectional, Conv1D, MaxPooling1D, GlobalMaxPooling1D, Concatenate\n",
    "from tensorflow.keras.optimizers import Adam, RMSprop\n",
    "from tensorflow.keras.callbacks import EarlyStopping, ReduceLROnPlateau, ModelCheckpoint\n",
    "\n",
    "# Токенизатор для преобразование текстов в последовательности\n",
    "from tensorflow.keras.preprocessing.text import Tokenizer, text_to_word_sequence\n",
    "\n",
    "# Рисование схемы модели\n",
    "from tensorflow.keras.utils import plot_model\n",
    "\n",
    "# Матрица ошибок классификатора\n",
    "from sklearn.metrics import confusion_matrix, ConfusionMatrixDisplay\n",
    "\n",
    "# Функции операционной системы\n",
    "import os\n",
    "\n",
    "# Работа со временем\n",
    "import time\n",
    "\n",
    "# Регулярные выражения\n",
    "import re\n",
    "\n",
    "# Отрисовка графиков\n",
    "import matplotlib.pyplot as plt\n",
    "\n",
    "# Вывод объектов в ячейке colab\n",
    "from IPython.display import display\n",
    "\n",
    "%matplotlib inline"
   ]
  },
  {
   "cell_type": "code",
   "execution_count": 338,
   "id": "7023686f",
   "metadata": {},
   "outputs": [],
   "source": [
    "X_train = train_no_adv['lemmas_string']\n",
    "y_train = train_no_adv['category']\n",
    "\n",
    "X_test = test_no_adv['lemmas_string']\n",
    "y_test = test_no_adv['category']"
   ]
  },
  {
   "cell_type": "code",
   "execution_count": 339,
   "id": "593db111",
   "metadata": {},
   "outputs": [
    {
     "name": "stdout",
     "output_type": "stream",
     "text": [
      "Максимальная длина поста: 353 слов\n"
     ]
    }
   ],
   "source": [
    "# Посчитаем максимальную длину поста в словах\n",
    "train_no_adv['tokenized_text']\n",
    "\n",
    "max_words = 0\n",
    "for post in train_no_adv['tokenized_text']:\n",
    "    words = len(post)\n",
    "    if words > max_words:\n",
    "        max_words = words\n",
    "print('Максимальная длина поста: {} слов'.format(max_words))\n"
   ]
  },
  {
   "cell_type": "code",
   "execution_count": 340,
   "id": "919d6dca",
   "metadata": {},
   "outputs": [],
   "source": [
    "from keras.preprocessing.text import Tokenizer\n",
    "\n",
    "# создаем единый словарь (слово -> число) для преобразования\n",
    "tokenizer = Tokenizer()\n",
    "tokenizer.fit_on_texts(X_train.tolist())\n",
    "\n",
    "# Преобразуем все описания в числовые последовательности, заменяя слова на числа по словарю.\n",
    "trainSequences = tokenizer.texts_to_sequences(X_train.tolist())\n",
    "testSequences = tokenizer.texts_to_sequences(X_test.tolist())"
   ]
  },
  {
   "cell_type": "code",
   "execution_count": 341,
   "id": "8838e866",
   "metadata": {},
   "outputs": [
    {
     "name": "stdout",
     "output_type": "stream",
     "text": [
      "В словаре 58777 слов\n"
     ]
    }
   ],
   "source": [
    "total_words = len(tokenizer.word_index)\n",
    "print('В словаре {} слов'.format(total_words))"
   ]
  },
  {
   "cell_type": "code",
   "execution_count": 342,
   "id": "598efeaa",
   "metadata": {},
   "outputs": [
    {
     "name": "stdout",
     "output_type": "stream",
     "text": [
      "Преобразуем описания заявок в векторы чисел...\n",
      "Размерность X_train: (27037, 10000)\n",
      "Размерность X_test: (9278, 10000)\n"
     ]
    }
   ],
   "source": [
    "# количество наиболее часто используемых слов\n",
    "num_words = 10000\n",
    "\n",
    "print(u'Преобразуем описания заявок в векторы чисел...')\n",
    "tokenizer = Tokenizer(num_words=num_words)\n",
    "X_train = tokenizer.sequences_to_matrix(trainSequences, mode='binary')\n",
    "X_test = tokenizer.sequences_to_matrix(testSequences, mode='binary')\n",
    "print('Размерность X_train:', X_train.shape)\n",
    "print('Размерность X_test:', X_test.shape)"
   ]
  },
  {
   "cell_type": "code",
   "execution_count": 343,
   "id": "cc52701c",
   "metadata": {},
   "outputs": [],
   "source": [
    "def category_code(y_train):\n",
    "    y_train = y_train.to_frame()\n",
    "    y_train[\"category\"] = y_train[\"category\"].astype('category')\n",
    "    y_train[\"category_code\"] = y_train[\"category\"].cat.codes\n",
    "    return y_train['category_code']\n",
    "\n",
    "y_train = category_code(y_train)\n",
    "y_test = category_code(y_test)\n"
   ]
  },
  {
   "cell_type": "code",
   "execution_count": 344,
   "id": "6176caeb",
   "metadata": {},
   "outputs": [
    {
     "name": "stdout",
     "output_type": "stream",
     "text": [
      "Преобразуем категории в матрицу двоичных чисел (для использования categorical_crossentropy)\n",
      "y_train shape: (27037, 13)\n",
      "y_test shape: (9278, 13)\n"
     ]
    }
   ],
   "source": [
    "print(u'Преобразуем категории в матрицу двоичных чисел '\n",
    "      u'(для использования categorical_crossentropy)')\n",
    "y_train = keras.utils.to_categorical(y_train, 13)\n",
    "y_test = keras.utils.to_categorical(y_test, 13)\n",
    "print('y_train shape:', y_train.shape)\n",
    "print('y_test shape:', y_test.shape)"
   ]
  },
  {
   "cell_type": "code",
   "execution_count": 345,
   "id": "7a5763f4",
   "metadata": {},
   "outputs": [
    {
     "name": "stdout",
     "output_type": "stream",
     "text": [
      "Собираем модель...\n",
      "Model: \"sequential_9\"\n",
      "_________________________________________________________________\n",
      " Layer (type)                Output Shape              Param #   \n",
      "=================================================================\n",
      " dense_9 (Dense)             (None, 512)               5120512   \n",
      "                                                                 \n",
      " activation_4 (Activation)   (None, 512)               0         \n",
      "                                                                 \n",
      " dropout_2 (Dropout)         (None, 512)               0         \n",
      "                                                                 \n",
      " dense_10 (Dense)            (None, 13)                6669      \n",
      "                                                                 \n",
      " activation_5 (Activation)   (None, 13)                0         \n",
      "                                                                 \n",
      "=================================================================\n",
      "Total params: 5127181 (19.56 MB)\n",
      "Trainable params: 5127181 (19.56 MB)\n",
      "Non-trainable params: 0 (0.00 Byte)\n",
      "_________________________________________________________________\n",
      "None\n"
     ]
    }
   ],
   "source": [
    "# количество эпох\\итераций для обучения\n",
    "epochs = 10\n",
    "\n",
    "print(u'Собираем модель...')\n",
    "model = Sequential()\n",
    "model.add(Dense(512, input_shape=(num_words,)))\n",
    "model.add(Activation('relu'))\n",
    "model.add(Dropout(0.2))\n",
    "model.add(Dense(13))\n",
    "model.add(Activation('softmax'))\n",
    "\n",
    "model.compile(loss='categorical_crossentropy',\n",
    "              optimizer='adam',\n",
    "              metrics=['accuracy'])\n",
    "\n",
    "print(model.summary())"
   ]
  },
  {
   "cell_type": "code",
   "execution_count": 346,
   "id": "299e3133",
   "metadata": {},
   "outputs": [
    {
     "name": "stdout",
     "output_type": "stream",
     "text": [
      "Epoch 1/10\n"
     ]
    },
    {
     "name": "stderr",
     "output_type": "stream",
     "text": [
      "2023-08-12 08:43:12.025456: W tensorflow/tsl/framework/cpu_allocator_impl.cc:83] Allocation of 1081480000 exceeds 10% of free system memory.\n"
     ]
    },
    {
     "name": "stdout",
     "output_type": "stream",
     "text": [
      "845/845 [==============================] - ETA: 0s - loss: 0.8211 - accuracy: 0.7905"
     ]
    },
    {
     "name": "stderr",
     "output_type": "stream",
     "text": [
      "2023-08-12 08:44:06.947658: W tensorflow/tsl/framework/cpu_allocator_impl.cc:83] Allocation of 371120000 exceeds 10% of free system memory.\n"
     ]
    },
    {
     "name": "stdout",
     "output_type": "stream",
     "text": [
      "845/845 [==============================] - 57s 67ms/step - loss: 0.8211 - accuracy: 0.7905 - val_loss: 0.5294 - val_accuracy: 0.8534\n",
      "Epoch 2/10\n",
      "845/845 [==============================] - 56s 66ms/step - loss: 0.2612 - accuracy: 0.9281 - val_loss: 0.5473 - val_accuracy: 0.8558\n",
      "Epoch 3/10\n",
      "845/845 [==============================] - 56s 66ms/step - loss: 0.1172 - accuracy: 0.9721 - val_loss: 0.6320 - val_accuracy: 0.8527\n",
      "Epoch 4/10\n",
      "845/845 [==============================] - 57s 67ms/step - loss: 0.0609 - accuracy: 0.9882 - val_loss: 0.7207 - val_accuracy: 0.8465\n",
      "Epoch 5/10\n",
      "845/845 [==============================] - 57s 68ms/step - loss: 0.0406 - accuracy: 0.9939 - val_loss: 0.8109 - val_accuracy: 0.8435\n",
      "Epoch 6/10\n",
      "845/845 [==============================] - 59s 70ms/step - loss: 0.0316 - accuracy: 0.9957 - val_loss: 0.8784 - val_accuracy: 0.8364\n",
      "Epoch 7/10\n",
      "845/845 [==============================] - 67s 79ms/step - loss: 0.0233 - accuracy: 0.9970 - val_loss: 0.9422 - val_accuracy: 0.8370\n",
      "Epoch 8/10\n",
      "845/845 [==============================] - 64s 75ms/step - loss: 0.0195 - accuracy: 0.9975 - val_loss: 0.9934 - val_accuracy: 0.8372\n",
      "Epoch 9/10\n",
      "845/845 [==============================] - 62s 73ms/step - loss: 0.0169 - accuracy: 0.9976 - val_loss: 1.0453 - val_accuracy: 0.8348\n",
      "Epoch 10/10\n",
      "845/845 [==============================] - 60s 71ms/step - loss: 0.0171 - accuracy: 0.9976 - val_loss: 1.0927 - val_accuracy: 0.8374\n"
     ]
    }
   ],
   "source": [
    "history = model.fit(X_train, y_train,\n",
    "                    batch_size=32,\n",
    "                    epochs=epochs,\n",
    "                    verbose=1,validation_data = (X_test, y_test))"
   ]
  },
  {
   "cell_type": "code",
   "execution_count": 347,
   "id": "5e2cbdd1",
   "metadata": {},
   "outputs": [
    {
     "name": "stdout",
     "output_type": "stream",
     "text": [
      "290/290 [==============================] - 4s 14ms/step - loss: 1.0927 - accuracy: 0.8374\n",
      "\n",
      "Оценка теста: 1.0927056074142456\n",
      "Оценка точности модели: 0.8373571634292603\n"
     ]
    }
   ],
   "source": [
    "score = model.evaluate(X_test, y_test,\n",
    "                       batch_size=32, verbose=1)\n",
    "print()\n",
    "print(u'Оценка теста: {}'.format(score[0]))\n",
    "print(u'Оценка точности модели: {}'.format(score[1]))"
   ]
  },
  {
   "cell_type": "markdown",
   "id": "76d5c0ff",
   "metadata": {},
   "source": [
    "**LSTM**"
   ]
  },
  {
   "cell_type": "code",
   "execution_count": 328,
   "id": "5b7f01e8",
   "metadata": {},
   "outputs": [],
   "source": [
    "maxSequenceLength = max_words"
   ]
  },
  {
   "cell_type": "code",
   "execution_count": 329,
   "id": "adfc4e87",
   "metadata": {},
   "outputs": [
    {
     "name": "stdout",
     "output_type": "stream",
     "text": [
      "Размерность X_train: (27037, 353)\n",
      "Размерность X_test: (9278, 353)\n"
     ]
    }
   ],
   "source": [
    "X_train = utils.pad_sequences(X_train, maxlen=maxSequenceLength)\n",
    "X_test = utils.pad_sequences(X_test, maxlen=maxSequenceLength)\n",
    "\n",
    "print('Размерность X_train:', X_train.shape)\n",
    "print('Размерность X_test:', X_test.shape)"
   ]
  },
  {
   "cell_type": "code",
   "execution_count": 330,
   "id": "b7b60e90",
   "metadata": {},
   "outputs": [
    {
     "name": "stdout",
     "output_type": "stream",
     "text": [
      "Собираем модель...\n",
      "Model: \"sequential_7\"\n",
      "_________________________________________________________________\n",
      " Layer (type)                Output Shape              Param #   \n",
      "=================================================================\n",
      " embedding_4 (Embedding)     (None, None, 353)         2074934   \n",
      "                                                                 \n",
      " lstm_4 (LSTM)               (None, 32)                49408     \n",
      "                                                                 \n",
      " dense_4 (Dense)             (None, 13)                429       \n",
      "                                                                 \n",
      "=================================================================\n",
      "Total params: 2124771 (8.11 MB)\n",
      "Trainable params: 2124771 (8.11 MB)\n",
      "Non-trainable params: 0 (0.00 Byte)\n",
      "_________________________________________________________________\n",
      "None\n"
     ]
    }
   ],
   "source": [
    "from keras.models import Sequential\n",
    "from keras.layers import Dense, Embedding, LSTM\n",
    "\n",
    "# максимальное количество слов для анализа\n",
    "max_features = vocab_size\n",
    "\n",
    "print(u'Собираем модель...')\n",
    "model = Sequential()\n",
    "model.add(Embedding(max_features, maxSequenceLength))\n",
    "model.add(LSTM(32, dropout=0.2, recurrent_dropout=0.2))\n",
    "model.add(Dense(13, activation='sigmoid'))\n",
    "\n",
    "model.compile(loss='binary_crossentropy',\n",
    "              optimizer='adam',\n",
    "              metrics=['accuracy'])\n",
    "\n",
    "print (model.summary())"
   ]
  },
  {
   "cell_type": "code",
   "execution_count": 331,
   "id": "4fe17fb0",
   "metadata": {},
   "outputs": [
    {
     "name": "stdout",
     "output_type": "stream",
     "text": [
      "Тренируем модель...\n",
      "Epoch 1/3\n",
      "845/845 [==============================] - 559s 658ms/step - loss: 0.2803 - accuracy: 0.0809 - val_loss: 0.2712 - val_accuracy: 0.0740\n",
      "Epoch 2/3\n",
      "845/845 [==============================] - 615s 728ms/step - loss: 0.2714 - accuracy: 0.0842 - val_loss: 0.2713 - val_accuracy: 0.0815\n",
      "Epoch 3/3\n",
      "845/845 [==============================] - 567s 671ms/step - loss: 0.2715 - accuracy: 0.0809 - val_loss: 0.2713 - val_accuracy: 0.0839\n"
     ]
    }
   ],
   "source": [
    "batch_size = 32\n",
    "epochs = 3\n",
    "\n",
    "print(u'Тренируем модель...')\n",
    "history = model.fit(X_train, y_train,\n",
    "          batch_size=batch_size,\n",
    "          epochs=epochs,\n",
    "          validation_data=(X_test, y_test))"
   ]
  },
  {
   "cell_type": "code",
   "execution_count": 325,
   "id": "6e6acb63",
   "metadata": {},
   "outputs": [
    {
     "name": "stdout",
     "output_type": "stream",
     "text": [
      "290/290 [==============================] - 2s 6ms/step - loss: 0.2713 - accuracy: 0.0812\n",
      "\n",
      "Оценка теста: 0.27132147550582886\n",
      "Оценка точности модели: 0.08115973323583603\n"
     ]
    }
   ],
   "source": [
    "score = model.evaluate(X_test, y_test,\n",
    "                       batch_size=batch_size, verbose=1)\n",
    "print()\n",
    "print(u'Оценка теста: {}'.format(score[0]))\n",
    "print(u'Оценка точности модели: {}'.format(score[1]))"
   ]
  },
  {
   "cell_type": "code",
   "execution_count": 335,
   "id": "b90a63af",
   "metadata": {},
   "outputs": [
    {
     "name": "stdout",
     "output_type": "stream",
     "text": [
      "Epoch 1/10\n",
      "513/845 [=================>............] - ETA: 10:10 - loss: 2.5740 - accuracy: 0.0762"
     ]
    },
    {
     "name": "stderr",
     "output_type": "stream",
     "text": [
      "\n",
      "KeyboardInterrupt\n",
      "\n"
     ]
    }
   ],
   "source": [
    "cur_time = time.time() # засекаем время\n",
    "\n",
    "nDense = 13\n",
    "nDropout = 0.4\n",
    "epochs = 10\n",
    "nlr = 0.0001\n",
    "nEmbedding = 50\n",
    "\n",
    "input_layer = Input(shape=(maxSequenceLength, ))\n",
    "GRU_1 = Embedding(total_words, nEmbedding, input_length = maxSequenceLength)(input_layer)\n",
    "GRU_2 = SpatialDropout1D(nDropout)(GRU_1)\n",
    "#SimpleRNN_3 = SimpleRNN(xLen//10, dropout=nDropout, recurrent_dropout=nDropout, activation=\"relu\")(SimpleRNN_2) # сильно замедляет\n",
    "GRU_3 = GRU(maxSequenceLength, return_sequences=True)(GRU_2) # правильно поставить от xLen, return_sequences=True - сохранять выходные значения на каждой итерации работы слоя \n",
    "GRU_4 = Flatten()(GRU_3)\n",
    "GRU_5 = Dense(nDense, activation='softmax')(GRU_4)\n",
    "\n",
    "modelGRU = Model(inputs=input_layer, outputs=GRU_5)\n",
    "modelGRU.compile(optimizer=Adam(nlr), loss='categorical_crossentropy', metrics=['accuracy'])\n",
    "    \n",
    "# остановки обучения по условию \n",
    "early_stopping = EarlyStopping(monitor = 'val_accuracy', patience = 2, verbose = 1,  restore_best_weights = True)\n",
    "\n",
    "#Обучаем на xTrain\n",
    "history = modelGRU.fit(X_train, y_train, epochs=epochs, verbose = 1,\n",
    "                             callbacks = early_stopping,\n",
    "                             validation_data = (X_test, y_test))"
   ]
  },
  {
   "cell_type": "code",
   "execution_count": null,
   "id": "df991cda",
   "metadata": {},
   "outputs": [],
   "source": []
  }
 ],
 "metadata": {
  "kernelspec": {
   "display_name": "Python 3 (ipykernel)",
   "language": "python",
   "name": "python3"
  },
  "language_info": {
   "codemirror_mode": {
    "name": "ipython",
    "version": 3
   },
   "file_extension": ".py",
   "mimetype": "text/x-python",
   "name": "python",
   "nbconvert_exporter": "python",
   "pygments_lexer": "ipython3",
   "version": "3.9.2"
  }
 },
 "nbformat": 4,
 "nbformat_minor": 5
}
