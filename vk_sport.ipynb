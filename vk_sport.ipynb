{
 "cells": [
  {
   "cell_type": "markdown",
   "id": "e10ee5e3",
   "metadata": {},
   "source": [
    "# Спортивные сообщества VK"
   ]
  },
  {
   "cell_type": "markdown",
   "id": "74559386",
   "metadata": {},
   "source": [
    "## _\"Определить вид спорта по посту\" (Задача классификации)_\n",
    "\n",
    "\n",
    "Данные: https://www.kaggle.com/datasets/mikhailma/russian-social-media-text-classification"
   ]
  },
  {
   "cell_type": "markdown",
   "id": "e6d1a097",
   "metadata": {},
   "source": [
    "## Часть 0. Введение"
   ]
  },
  {
   "cell_type": "markdown",
   "id": "552ee528",
   "metadata": {},
   "source": [
    "### Обзор\n",
    "\n",
    "Данный датасет, как мы увидим здесь состоит из 3 колонок и 38740 строк.\n",
    "\n",
    "**Метаданные**\n",
    "\n",
    "* **oid** - id сообщества\n",
    "* **category** - вид спорта (таргет)\n",
    "* **text** - текст поста\n",
    "\n",
    "### Контекст:\n",
    "На основе заданного набора постов определите, какой вид спорта обсуждается в выбранном сообществе.\n",
    "\n",
    "**Список категорий**\n",
    "\n",
    "    1.athletics,\n",
    "    2.autosport,\n",
    "    3.basketball,\n",
    "    4.boardgames,\n",
    "    5.esport,\n",
    "    6.extreme,\n",
    "    7.football,\n",
    "    8.hockey,\n",
    "    9.martial arts,\n",
    "    10.motosport,\n",
    "    11.tennis,\n",
    "    12.volleyball,\n",
    "    13.winter_sport\n",
    "    \n",
    "### Оценочная метрика:"
   ]
  },
  {
   "cell_type": "code",
   "execution_count": 52,
   "id": "e32e6f90",
   "metadata": {},
   "outputs": [],
   "source": [
    "def score(true, pred, n_samples):\n",
    "    counter = 0\n",
    "    if true == pred:\n",
    "        counter += 1\n",
    "    else:\n",
    "        counter -= 1\n",
    "    return counter / n_samples"
   ]
  },
  {
   "cell_type": "markdown",
   "id": "f60fc918",
   "metadata": {},
   "source": [
    "## Часть 1: Импорт, загрузка данных"
   ]
  },
  {
   "cell_type": "markdown",
   "id": "de33c315",
   "metadata": {},
   "source": [
    "### Загрузка библиотек"
   ]
  },
  {
   "cell_type": "code",
   "execution_count": 85,
   "id": "d6180e39",
   "metadata": {},
   "outputs": [],
   "source": [
    "import pandas as pd\n",
    "import numpy as np\n",
    "\n",
    "import re\n",
    "from collections import Counter\n",
    "\n",
    "from sklearn.model_selection import train_test_split\n",
    "\n",
    "from sklearn.pipeline import Pipeline\n",
    "from sklearn.feature_extraction.text import TfidfVectorizer\n",
    "\n",
    "from sklearn.linear_model import SGDClassifier\n",
    "from sklearn.neighbors import KNeighborsClassifier\n"
   ]
  },
  {
   "cell_type": "markdown",
   "id": "323accc3",
   "metadata": {},
   "source": [
    "### Загрузка данных в датафрейм vk_sport"
   ]
  },
  {
   "cell_type": "code",
   "execution_count": 54,
   "id": "d7d8c73a",
   "metadata": {},
   "outputs": [],
   "source": [
    "vk_sport = pd.read_csv('train.csv', encoding_errors = 'ignore')"
   ]
  },
  {
   "cell_type": "markdown",
   "id": "6bc02876",
   "metadata": {},
   "source": [
    "## Часть 2. Анализ данных (EDA)"
   ]
  },
  {
   "cell_type": "code",
   "execution_count": 55,
   "id": "65e92055",
   "metadata": {},
   "outputs": [
    {
     "data": {
      "text/html": [
       "<div>\n",
       "<style scoped>\n",
       "    .dataframe tbody tr th:only-of-type {\n",
       "        vertical-align: middle;\n",
       "    }\n",
       "\n",
       "    .dataframe tbody tr th {\n",
       "        vertical-align: top;\n",
       "    }\n",
       "\n",
       "    .dataframe thead th {\n",
       "        text-align: right;\n",
       "    }\n",
       "</style>\n",
       "<table border=\"1\" class=\"dataframe\">\n",
       "  <thead>\n",
       "    <tr style=\"text-align: right;\">\n",
       "      <th></th>\n",
       "      <th>oid</th>\n",
       "      <th>category</th>\n",
       "      <th>text</th>\n",
       "    </tr>\n",
       "  </thead>\n",
       "  <tbody>\n",
       "    <tr>\n",
       "      <th>0</th>\n",
       "      <td>365271984</td>\n",
       "      <td>winter_sport</td>\n",
       "      <td>Волшебные фото Виктория Поплавская ЕвгенияМедв...</td>\n",
       "    </tr>\n",
       "    <tr>\n",
       "      <th>1</th>\n",
       "      <td>503385563</td>\n",
       "      <td>extreme</td>\n",
       "      <td>Возвращение в подземелье Треша 33 Эйфория тупо...</td>\n",
       "    </tr>\n",
       "    <tr>\n",
       "      <th>2</th>\n",
       "      <td>146016084</td>\n",
       "      <td>football</td>\n",
       "      <td>Лучшие чешские вратари – Доминик Доминатор Гаш...</td>\n",
       "    </tr>\n",
       "    <tr>\n",
       "      <th>3</th>\n",
       "      <td>933865449</td>\n",
       "      <td>boardgames</td>\n",
       "      <td>Rtokenoid Warhammer40k валрак решил нас подкор...</td>\n",
       "    </tr>\n",
       "    <tr>\n",
       "      <th>4</th>\n",
       "      <td>713550145</td>\n",
       "      <td>hockey</td>\n",
       "      <td>Шестеркин затаскивает Рейнджерс в финал Восточ...</td>\n",
       "    </tr>\n",
       "  </tbody>\n",
       "</table>\n",
       "</div>"
      ],
      "text/plain": [
       "         oid      category                                               text\n",
       "0  365271984  winter_sport  Волшебные фото Виктория Поплавская ЕвгенияМедв...\n",
       "1  503385563       extreme  Возвращение в подземелье Треша 33 Эйфория тупо...\n",
       "2  146016084      football  Лучшие чешские вратари – Доминик Доминатор Гаш...\n",
       "3  933865449    boardgames  Rtokenoid Warhammer40k валрак решил нас подкор...\n",
       "4  713550145        hockey  Шестеркин затаскивает Рейнджерс в финал Восточ..."
      ]
     },
     "execution_count": 55,
     "metadata": {},
     "output_type": "execute_result"
    }
   ],
   "source": [
    "vk_sport.head()"
   ]
  },
  {
   "cell_type": "code",
   "execution_count": 56,
   "id": "7840a579",
   "metadata": {},
   "outputs": [
    {
     "name": "stdout",
     "output_type": "stream",
     "text": [
      "<class 'pandas.core.frame.DataFrame'>\n",
      "RangeIndex: 38740 entries, 0 to 38739\n",
      "Data columns (total 3 columns):\n",
      " #   Column    Non-Null Count  Dtype \n",
      "---  ------    --------------  ----- \n",
      " 0   oid       38740 non-null  int64 \n",
      " 1   category  38740 non-null  object\n",
      " 2   text      38740 non-null  object\n",
      "dtypes: int64(1), object(2)\n",
      "memory usage: 908.1+ KB\n"
     ]
    }
   ],
   "source": [
    "vk_sport.info()"
   ]
  },
  {
   "cell_type": "markdown",
   "id": "0ba1a14c",
   "metadata": {},
   "source": [
    "В таблице 3 колонки и 38740 строк.  \n",
    "2 типа данных int64(1 колонка) и object(2 колонки)  \n",
    "Пропущенных значений нет"
   ]
  },
  {
   "cell_type": "code",
   "execution_count": 57,
   "id": "76eb17a5",
   "metadata": {},
   "outputs": [
    {
     "data": {
      "text/html": [
       "<div>\n",
       "<style scoped>\n",
       "    .dataframe tbody tr th:only-of-type {\n",
       "        vertical-align: middle;\n",
       "    }\n",
       "\n",
       "    .dataframe tbody tr th {\n",
       "        vertical-align: top;\n",
       "    }\n",
       "\n",
       "    .dataframe thead th {\n",
       "        text-align: right;\n",
       "    }\n",
       "</style>\n",
       "<table border=\"1\" class=\"dataframe\">\n",
       "  <thead>\n",
       "    <tr style=\"text-align: right;\">\n",
       "      <th></th>\n",
       "      <th>category</th>\n",
       "      <th>text</th>\n",
       "    </tr>\n",
       "  </thead>\n",
       "  <tbody>\n",
       "    <tr>\n",
       "      <th>count</th>\n",
       "      <td>38740</td>\n",
       "      <td>38740</td>\n",
       "    </tr>\n",
       "    <tr>\n",
       "      <th>unique</th>\n",
       "      <td>13</td>\n",
       "      <td>35774</td>\n",
       "    </tr>\n",
       "    <tr>\n",
       "      <th>top</th>\n",
       "      <td>autosport</td>\n",
       "      <td>За кроссовками в Баскетбольный магазин Ghetto ...</td>\n",
       "    </tr>\n",
       "    <tr>\n",
       "      <th>freq</th>\n",
       "      <td>3160</td>\n",
       "      <td>163</td>\n",
       "    </tr>\n",
       "  </tbody>\n",
       "</table>\n",
       "</div>"
      ],
      "text/plain": [
       "         category                                               text\n",
       "count       38740                                              38740\n",
       "unique         13                                              35774\n",
       "top     autosport  За кроссовками в Баскетбольный магазин Ghetto ...\n",
       "freq         3160                                                163"
      ]
     },
     "execution_count": 57,
     "metadata": {},
     "output_type": "execute_result"
    }
   ],
   "source": [
    "vk_sport.describe(include=[object])"
   ]
  },
  {
   "cell_type": "markdown",
   "id": "435dbac6",
   "metadata": {},
   "source": [
    "В колонке category - 13 уникальных значений.  \n",
    "В колонке text - есть дублирующие тексты"
   ]
  },
  {
   "cell_type": "code",
   "execution_count": 58,
   "id": "aaa9f65a",
   "metadata": {},
   "outputs": [
    {
     "data": {
      "text/plain": [
       "3874"
      ]
     },
     "execution_count": 58,
     "metadata": {},
     "output_type": "execute_result"
    }
   ],
   "source": [
    "# количество уникальных сообществ\n",
    "vk_sport.oid.nunique()"
   ]
  },
  {
   "cell_type": "code",
   "execution_count": 59,
   "id": "ba7d3667",
   "metadata": {},
   "outputs": [
    {
     "data": {
      "text/html": [
       "<div>\n",
       "<style scoped>\n",
       "    .dataframe tbody tr th:only-of-type {\n",
       "        vertical-align: middle;\n",
       "    }\n",
       "\n",
       "    .dataframe tbody tr th {\n",
       "        vertical-align: top;\n",
       "    }\n",
       "\n",
       "    .dataframe thead th {\n",
       "        text-align: right;\n",
       "    }\n",
       "</style>\n",
       "<table border=\"1\" class=\"dataframe\">\n",
       "  <thead>\n",
       "    <tr style=\"text-align: right;\">\n",
       "      <th></th>\n",
       "      <th>category</th>\n",
       "    </tr>\n",
       "    <tr>\n",
       "      <th>oid</th>\n",
       "      <th></th>\n",
       "    </tr>\n",
       "  </thead>\n",
       "  <tbody>\n",
       "  </tbody>\n",
       "</table>\n",
       "</div>"
      ],
      "text/plain": [
       "Empty DataFrame\n",
       "Columns: [category]\n",
       "Index: []"
      ]
     },
     "execution_count": 59,
     "metadata": {},
     "output_type": "execute_result"
    }
   ],
   "source": [
    "# есть ли сообщества с несколькими категориями?\n",
    "vk_sport.groupby('oid').category.nunique().to_frame().query('category>1')"
   ]
  },
  {
   "cell_type": "markdown",
   "id": "3da79716",
   "metadata": {},
   "source": [
    "Все сообщества в данном датасете имеют по одной категории"
   ]
  },
  {
   "cell_type": "code",
   "execution_count": 60,
   "id": "b89469df",
   "metadata": {},
   "outputs": [
    {
     "name": "stdout",
     "output_type": "stream",
     "text": [
      "Количество классов: 13\n",
      "Распределение количества строк по категориям:\n"
     ]
    },
    {
     "data": {
      "text/plain": [
       "autosport       3160\n",
       "extreme         3110\n",
       "martial_arts    3050\n",
       "motosport       3030\n",
       "boardgames      3020\n",
       "tennis          3000\n",
       "esport          2990\n",
       "athletics       2970\n",
       "hockey          2950\n",
       "volleyball      2950\n",
       "football        2860\n",
       "basketball      2850\n",
       "winter_sport    2800\n",
       "Name: category, dtype: int64"
      ]
     },
     "execution_count": 60,
     "metadata": {},
     "output_type": "execute_result"
    }
   ],
   "source": [
    "print('Количество классов:', vk_sport.category.nunique())\n",
    "print('Распределение количества строк по категориям:')\n",
    "vk_sport.category.value_counts()"
   ]
  },
  {
   "cell_type": "code",
   "execution_count": 61,
   "id": "f1a820e4",
   "metadata": {},
   "outputs": [
    {
     "data": {
      "text/plain": [
       "<AxesSubplot:>"
      ]
     },
     "execution_count": 61,
     "metadata": {},
     "output_type": "execute_result"
    },
    {
     "data": {
      "image/png": "[encoded data removed]",
      "text/plain": [
       "<Figure size 432x288 with 1 Axes>"
      ]
     },
     "metadata": {
      "needs_background": "light"
     },
     "output_type": "display_data"
    }
   ],
   "source": [
    "# визуализация распределения таргета \"category\"\n",
    "vk_sport['category'].value_counts().plot(x = vk_sport['category'], kind='bar')"
   ]
  },
  {
   "cell_type": "code",
   "execution_count": 106,
   "id": "23f69532",
   "metadata": {},
   "outputs": [
    {
     "data": {
      "text/plain": [
       "array([10])"
      ]
     },
     "execution_count": 106,
     "metadata": {},
     "output_type": "execute_result"
    }
   ],
   "source": [
    "vk_sport['oid'].value_counts().unique()"
   ]
  },
  {
   "cell_type": "markdown",
   "id": "63885a5b",
   "metadata": {},
   "source": [
    "Имеем сбалансированный датасет"
   ]
  },
  {
   "cell_type": "markdown",
   "id": "2a134f27",
   "metadata": {},
   "source": [
    "### Анализ колонки 'text'"
   ]
  },
  {
   "cell_type": "code",
   "execution_count": 78,
   "id": "52415821",
   "metadata": {},
   "outputs": [
    {
     "data": {
      "text/plain": [
       "'Коллеги традиционно объявляем очередной гильдейский настольныйсубботник ГРаНИ 33 По аналогии с индустрией компьютерных игр это предложение по субботам в течение дня выкладывать в комментарии к посту фото своих разработок с кратким описанием. А в ответ на выложенное другими интересоваться советовать предлагать сотрудничество и просто ставить лайки. Рассказывайте над чем сейчас работаете?'"
      ]
     },
     "execution_count": 78,
     "metadata": {},
     "output_type": "execute_result"
    }
   ],
   "source": [
    "# посмотрим на пример текста\n",
    "vk_sport.at [406,'text']"
   ]
  },
  {
   "cell_type": "markdown",
   "id": "6eeaea15",
   "metadata": {},
   "source": [
    "В тексте есть слова содержащие 'tokenoid' - скорее всего являются заменой ссылок.\n",
    "Есть слова на латинице.\n",
    "А также цифры и пунктуация.  \n",
    "Все слова написаны с применением разных регистров.\n"
   ]
  },
  {
   "cell_type": "code",
   "execution_count": 64,
   "id": "c6f8a0b3",
   "metadata": {},
   "outputs": [
    {
     "name": "stdout",
     "output_type": "stream",
     "text": [
      "В колонке текст имеются дублирующие посты в количестве = 2966 строк\n"
     ]
    }
   ],
   "source": [
    "print(f\"В колонке текст имеются дублирующие посты в количестве = {vk_sport['text'].shape[0] - vk_sport['text'].nunique()} строк\")"
   ]
  },
  {
   "cell_type": "markdown",
   "id": "a6f50194",
   "metadata": {},
   "source": [
    "## Часть 3. Обработка и преобразование данных"
   ]
  },
  {
   "cell_type": "markdown",
   "id": "a5d8ef60",
   "metadata": {},
   "source": [
    "### Приведем тексты постов к общему виду:\n",
    " - переводим символы в нижний регистр\n",
    " - удалим все слова цифры, пунктуацию и слова содержащие подстроку 'tokenoid'(видимо зашифрованы ссылки)"
   ]
  },
  {
   "cell_type": "code",
   "execution_count": 79,
   "id": "319e79e4",
   "metadata": {},
   "outputs": [],
   "source": [
    "def prepose_text(text):\n",
    "    text = text.lower()\n",
    "    # убираем цифры \n",
    "    clean_text = re.sub(\"[0-9]\", \"\", text)\n",
    "    # убираем ссылки\n",
    "    clean_text = re.sub(r\"([a-z]+)?tokenoid([a-z]+)?\", \"\", text)\n",
    "    # оставляем только буквенные символы\n",
    "    clean_text = re.sub(\"[^а-яa-z]\",\" \", clean_text)\n",
    "    # убираем лишние пробелы\n",
    "    clean_text = re.sub(\" +\", \" \", clean_text)\n",
    "    return clean_text"
   ]
  },
  {
   "cell_type": "code",
   "execution_count": 80,
   "id": "3178b03f",
   "metadata": {},
   "outputs": [],
   "source": [
    "# создаем колонку с преобразованным текстом\n",
    "vk_sport['clean_text'] = vk_sport['text'].map(prepose_text)"
   ]
  },
  {
   "cell_type": "code",
   "execution_count": 81,
   "id": "72f677bc",
   "metadata": {},
   "outputs": [
    {
     "name": "stdout",
     "output_type": "stream",
     "text": [
      "В колонке 'clean_text' количество дублирующих постов = 3154 строк\n"
     ]
    }
   ],
   "source": [
    "print(f\"В колонке 'clean_text' количество дублирующих постов = {vk_sport['text'].shape[0] - vk_sport['clean_text'].nunique()} строк\")"
   ]
  },
  {
   "cell_type": "markdown",
   "id": "7aed8b25",
   "metadata": {},
   "source": [
    "### Разделение данных на train, valid и test"
   ]
  },
  {
   "cell_type": "code",
   "execution_count": null,
   "id": "962367af",
   "metadata": {},
   "outputs": [],
   "source": [
    "train, valid = train_test_split(vk_sport[['oid','clean_text','category']], test_size=0.1, random_state=42)\n",
    "train, test = train_test_split(train, test_size=0.2, random_state=42)"
   ]
  },
  {
   "cell_type": "code",
   "execution_count": 84,
   "id": "2db75e56",
   "metadata": {},
   "outputs": [
    {
     "name": "stdout",
     "output_type": "stream",
     "text": [
      "Размер датасетов train=24793, valid=7748, test=6199\n"
     ]
    }
   ],
   "source": [
    "# размеры полученных датасетов\n",
    "len_train = train.shape[0]\n",
    "len_valid = valid.shape[0]\n",
    "len_test = test.shape[0]\n",
    "\n",
    "print(f'Размер датасетов train={len_train}, valid={len_valid}, test={len_test}')"
   ]
  },
  {
   "cell_type": "markdown",
   "id": "d0f2e0d1",
   "metadata": {},
   "source": [
    "### Удаление дубликатов"
   ]
  },
  {
   "cell_type": "code",
   "execution_count": 102,
   "id": "45564501",
   "metadata": {},
   "outputs": [],
   "source": [
    "train_no_duplicated = train.drop_duplicates(subset=['clean_text'])\n",
    "valid_no_duplicated = valid.drop_duplicates(subset=['clean_text'])\n",
    "test_no_duplicated = test.drop_duplicates(subset=['clean_text'])"
   ]
  },
  {
   "cell_type": "code",
   "execution_count": 103,
   "id": "045c424e",
   "metadata": {},
   "outputs": [
    {
     "name": "stdout",
     "output_type": "stream",
     "text": [
      "Размер датасетов train=23350, valid=7506, test=6047\n"
     ]
    }
   ],
   "source": [
    "len_train_no_duplicated = train_no_duplicated.shape[0]\n",
    "len_valid_no_duplicated = valid_no_duplicated.shape[0]\n",
    "len_test_no_duplicated = test_no_duplicated.shape[0]\n",
    "\n",
    "print(f'Размер датасетов train={len_train_no_duplicated}, valid={len_valid_no_duplicated}, test={len_test_no_duplicated}')"
   ]
  },
  {
   "cell_type": "code",
   "execution_count": 110,
   "id": "7a8d88db",
   "metadata": {},
   "outputs": [
    {
     "data": {
      "text/plain": [
       "array([515, 513, 503, 502, 471, 470, 459, 458, 451, 440, 434, 426, 405])"
      ]
     },
     "execution_count": 110,
     "metadata": {},
     "output_type": "execute_result"
    }
   ],
   "source": [
    "test_no_duplicated['category'].value_counts().unique()"
   ]
  },
  {
   "cell_type": "code",
   "execution_count": 112,
   "id": "46ec353c",
   "metadata": {},
   "outputs": [
    {
     "data": {
      "text/html": [
       "<div>\n",
       "<style scoped>\n",
       "    .dataframe tbody tr th:only-of-type {\n",
       "        vertical-align: middle;\n",
       "    }\n",
       "\n",
       "    .dataframe tbody tr th {\n",
       "        vertical-align: top;\n",
       "    }\n",
       "\n",
       "    .dataframe thead th {\n",
       "        text-align: right;\n",
       "    }\n",
       "</style>\n",
       "<table border=\"1\" class=\"dataframe\">\n",
       "  <thead>\n",
       "    <tr style=\"text-align: right;\">\n",
       "      <th></th>\n",
       "      <th>oid</th>\n",
       "      <th>category</th>\n",
       "      <th>text</th>\n",
       "      <th>clean_text</th>\n",
       "      <th>occurrence</th>\n",
       "    </tr>\n",
       "  </thead>\n",
       "  <tbody>\n",
       "    <tr>\n",
       "      <th>12415</th>\n",
       "      <td>943594482</td>\n",
       "      <td>basketball</td>\n",
       "      <td>Тут это. . Лейкерс играли против Наггетс но иг...</td>\n",
       "      <td>тут это    лейкерс играли против наггетс но иг...</td>\n",
       "      <td>1</td>\n",
       "    </tr>\n",
       "    <tr>\n",
       "      <th>31186</th>\n",
       "      <td>807866759</td>\n",
       "      <td>winter_sport</td>\n",
       "      <td>Мартен делится секретами биатлонной стрельбы н...</td>\n",
       "      <td>мартен делится секретами биатлонной стрельбы н...</td>\n",
       "      <td>1</td>\n",
       "    </tr>\n",
       "    <tr>\n",
       "      <th>35973</th>\n",
       "      <td>569789680</td>\n",
       "      <td>athletics</td>\n",
       "      <td>МЫ ПРИГЛАШАЕМ ВАС В КОМПАНИЮ ЕДИНОМЫШЛЕННИКОВ ...</td>\n",
       "      <td>мы приглашаем вас в компанию единомышленников ...</td>\n",
       "      <td>1</td>\n",
       "    </tr>\n",
       "    <tr>\n",
       "      <th>32619</th>\n",
       "      <td>241706654</td>\n",
       "      <td>autosport</td>\n",
       "      <td>Ничего так не учит слесарному делу как русские...</td>\n",
       "      <td>ничего так не учит слесарному делу как русские...</td>\n",
       "      <td>1</td>\n",
       "    </tr>\n",
       "    <tr>\n",
       "      <th>15795</th>\n",
       "      <td>194568678</td>\n",
       "      <td>winter_sport</td>\n",
       "      <td>Четырехкратный олимпийский чемпион по биатлону...</td>\n",
       "      <td>четырехкратный олимпийский чемпион по биатлону...</td>\n",
       "      <td>1</td>\n",
       "    </tr>\n",
       "    <tr>\n",
       "      <th>...</th>\n",
       "      <td>...</td>\n",
       "      <td>...</td>\n",
       "      <td>...</td>\n",
       "      <td>...</td>\n",
       "      <td>...</td>\n",
       "    </tr>\n",
       "    <tr>\n",
       "      <th>36062</th>\n",
       "      <td>77264253</td>\n",
       "      <td>athletics</td>\n",
       "      <td>Интенсивное зажигательное ОФП Силовые трениров...</td>\n",
       "      <td>интенсивное зажигательное офп силовые трениров...</td>\n",
       "      <td>1</td>\n",
       "    </tr>\n",
       "    <tr>\n",
       "      <th>2703</th>\n",
       "      <td>101460995</td>\n",
       "      <td>martial_arts</td>\n",
       "      <td>А вы знали что у олимпийского чемпиона по воль...</td>\n",
       "      <td>а вы знали что у олимпийского чемпиона по воль...</td>\n",
       "      <td>1</td>\n",
       "    </tr>\n",
       "    <tr>\n",
       "      <th>762</th>\n",
       "      <td>408171989</td>\n",
       "      <td>boardgames</td>\n",
       "      <td>Предзаказ игры Войны Черной розы продолжается ...</td>\n",
       "      <td>предзаказ игры войны черной розы продолжается ...</td>\n",
       "      <td>1</td>\n",
       "    </tr>\n",
       "    <tr>\n",
       "      <th>5541</th>\n",
       "      <td>118939182</td>\n",
       "      <td>volleyball</td>\n",
       "      <td>Ирина Воронкова В финале статистика не имеет з...</td>\n",
       "      <td>ирина воронкова в финале статистика не имеет з...</td>\n",
       "      <td>1</td>\n",
       "    </tr>\n",
       "    <tr>\n",
       "      <th>9281</th>\n",
       "      <td>118449993</td>\n",
       "      <td>basketball</td>\n",
       "      <td>За именными кроссовками Рассела Вестбрука в Ба...</td>\n",
       "      <td>за именными кроссовками рассела вестбрука в ба...</td>\n",
       "      <td>1</td>\n",
       "    </tr>\n",
       "  </tbody>\n",
       "</table>\n",
       "<p>23350 rows × 5 columns</p>\n",
       "</div>"
      ],
      "text/plain": [
       "             oid      category  \\\n",
       "12415  943594482    basketball   \n",
       "31186  807866759  winter_sport   \n",
       "35973  569789680     athletics   \n",
       "32619  241706654     autosport   \n",
       "15795  194568678  winter_sport   \n",
       "...          ...           ...   \n",
       "36062   77264253     athletics   \n",
       "2703   101460995  martial_arts   \n",
       "762    408171989    boardgames   \n",
       "5541   118939182    volleyball   \n",
       "9281   118449993    basketball   \n",
       "\n",
       "                                                    text  \\\n",
       "12415  Тут это. . Лейкерс играли против Наггетс но иг...   \n",
       "31186  Мартен делится секретами биатлонной стрельбы н...   \n",
       "35973  МЫ ПРИГЛАШАЕМ ВАС В КОМПАНИЮ ЕДИНОМЫШЛЕННИКОВ ...   \n",
       "32619  Ничего так не учит слесарному делу как русские...   \n",
       "15795  Четырехкратный олимпийский чемпион по биатлону...   \n",
       "...                                                  ...   \n",
       "36062  Интенсивное зажигательное ОФП Силовые трениров...   \n",
       "2703   А вы знали что у олимпийского чемпиона по воль...   \n",
       "762    Предзаказ игры Войны Черной розы продолжается ...   \n",
       "5541   Ирина Воронкова В финале статистика не имеет з...   \n",
       "9281   За именными кроссовками Рассела Вестбрука в Ба...   \n",
       "\n",
       "                                              clean_text  occurrence  \n",
       "12415  тут это    лейкерс играли против наггетс но иг...           1  \n",
       "31186  мартен делится секретами биатлонной стрельбы н...           1  \n",
       "35973  мы приглашаем вас в компанию единомышленников ...           1  \n",
       "32619  ничего так не учит слесарному делу как русские...           1  \n",
       "15795  четырехкратный олимпийский чемпион по биатлону...           1  \n",
       "...                                                  ...         ...  \n",
       "36062  интенсивное зажигательное офп силовые трениров...           1  \n",
       "2703   а вы знали что у олимпийского чемпиона по воль...           1  \n",
       "762    предзаказ игры войны черной розы продолжается ...           1  \n",
       "5541   ирина воронкова в финале статистика не имеет з...           1  \n",
       "9281   за именными кроссовками рассела вестбрука в ба...           1  \n",
       "\n",
       "[23350 rows x 5 columns]"
      ]
     },
     "execution_count": 112,
     "metadata": {},
     "output_type": "execute_result"
    }
   ],
   "source": [
    "train_no_duplicated"
   ]
  },
  {
   "cell_type": "markdown",
   "id": "b529fc17",
   "metadata": {},
   "source": [
    "## Часть 4: Машинное обучение"
   ]
  },
  {
   "cell_type": "code",
   "execution_count": 113,
   "id": "ab79bef4",
   "metadata": {},
   "outputs": [],
   "source": [
    "X_train = train_no_duplicated[['oid','clean_text']]\n",
    "y_train = train_no_duplicated['category']\n",
    "\n",
    "X_valid = valid_no_duplicated[['oid','clean_text']]\n",
    "y_valid = valid_no_duplicated['category']\n",
    "\n",
    "X_test = test_no_duplicated[['oid','clean_text']]\n",
    "y_test = test_no_duplicated['category']\n"
   ]
  },
  {
   "cell_type": "code",
   "execution_count": null,
   "id": "b381554d",
   "metadata": {},
   "outputs": [],
   "source": []
  }
 ],
 "metadata": {
  "kernelspec": {
   "display_name": "Python 3 (ipykernel)",
   "language": "python",
   "name": "python3"
  },
  "language_info": {
   "codemirror_mode": {
    "name": "ipython",
    "version": 3
   },
   "file_extension": ".py",
   "mimetype": "text/x-python",
   "name": "python",
   "nbconvert_exporter": "python",
   "pygments_lexer": "ipython3",
   "version": "3.9.2"
  }
 },
 "nbformat": 4,
 "nbformat_minor": 5
}
