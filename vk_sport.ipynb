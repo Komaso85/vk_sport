{
 "cells": [
  {
   "cell_type": "markdown",
   "id": "e10ee5e3",
   "metadata": {},
   "source": [
    "# Спортивные сообщества VK"
   ]
  },
  {
   "cell_type": "markdown",
   "id": "74559386",
   "metadata": {},
   "source": [
    "## _\"Определить вид спорта по посту\" (Задача классификации)_\n",
    "\n",
    "\n",
    "Данные: https://www.kaggle.com/datasets/mikhailma/russian-social-media-text-classification"
   ]
  },
  {
   "cell_type": "markdown",
   "id": "e6d1a097",
   "metadata": {},
   "source": [
    "## Часть 0. Введение"
   ]
  },
  {
   "cell_type": "markdown",
   "id": "552ee528",
   "metadata": {},
   "source": [
    "### Обзор\n",
    "\n",
    "Данный датасет, как мы увидим здесь состоит из 3 колонок и 38740 строк.\n",
    "\n",
    "**Метаданные**\n",
    "\n",
    "* **oid** - id сообщества\n",
    "* **category** - вид спорта (таргет)\n",
    "* **text** - текст поста\n",
    "\n",
    "### Контекст:\n",
    "На основе заданного набора постов определите, какой вид спорта обсуждается в выбранном сообществе.\n",
    "\n",
    "**Список категорий**\n",
    "\n",
    "    1.athletics,\n",
    "    2.autosport,\n",
    "    3.basketball,\n",
    "    4.boardgames,\n",
    "    5.esport,\n",
    "    6.extreme,\n",
    "    7.football,\n",
    "    8.hockey,\n",
    "    9.martial arts,\n",
    "    10.motosport,\n",
    "    11.tennis,\n",
    "    12.volleyball,\n",
    "    13.winter_sport\n",
    "    \n",
    "### Оценочная метрика:"
   ]
  },
  {
   "cell_type": "code",
   "execution_count": null,
   "id": "e32e6f90",
   "metadata": {},
   "outputs": [],
   "source": [
    "def score(true, pred, n_samples):\n",
    "    counter = 0\n",
    "    if true == pred:\n",
    "        counter += 1\n",
    "    else:\n",
    "        counter -= 1\n",
    "    return counter / n_samples"
   ]
  },
  {
   "cell_type": "markdown",
   "id": "f60fc918",
   "metadata": {},
   "source": [
    "## Часть 1: Импорт, загрузка данных"
   ]
  },
  {
   "cell_type": "markdown",
   "id": "de33c315",
   "metadata": {},
   "source": [
    "### Загрузка библиотек"
   ]
  },
  {
   "cell_type": "code",
   "execution_count": 212,
   "id": "d6180e39",
   "metadata": {},
   "outputs": [],
   "source": [
    "import pandas as pd\n",
    "import numpy as np\n",
    "\n",
    "import re\n",
    "\n",
    "from collections import Counter\n"
   ]
  },
  {
   "cell_type": "markdown",
   "id": "323accc3",
   "metadata": {},
   "source": [
    "### Загрузка данных в датафрейм vk_sport"
   ]
  },
  {
   "cell_type": "code",
   "execution_count": 243,
   "id": "d7d8c73a",
   "metadata": {},
   "outputs": [],
   "source": [
    "vk_sport = pd.read_csv('train.csv', encoding_errors = 'ignore')"
   ]
  },
  {
   "cell_type": "markdown",
   "id": "6bc02876",
   "metadata": {},
   "source": [
    "## Часть 2. Анализ данных (EDA)"
   ]
  },
  {
   "cell_type": "code",
   "execution_count": 244,
   "id": "65e92055",
   "metadata": {},
   "outputs": [
    {
     "data": {
      "text/html": [
       "<div>\n",
       "<style scoped>\n",
       "    .dataframe tbody tr th:only-of-type {\n",
       "        vertical-align: middle;\n",
       "    }\n",
       "\n",
       "    .dataframe tbody tr th {\n",
       "        vertical-align: top;\n",
       "    }\n",
       "\n",
       "    .dataframe thead th {\n",
       "        text-align: right;\n",
       "    }\n",
       "</style>\n",
       "<table border=\"1\" class=\"dataframe\">\n",
       "  <thead>\n",
       "    <tr style=\"text-align: right;\">\n",
       "      <th></th>\n",
       "      <th>oid</th>\n",
       "      <th>category</th>\n",
       "      <th>text</th>\n",
       "    </tr>\n",
       "  </thead>\n",
       "  <tbody>\n",
       "    <tr>\n",
       "      <th>0</th>\n",
       "      <td>365271984</td>\n",
       "      <td>winter_sport</td>\n",
       "      <td>Волшебные фото Виктория Поплавская ЕвгенияМедв...</td>\n",
       "    </tr>\n",
       "    <tr>\n",
       "      <th>1</th>\n",
       "      <td>503385563</td>\n",
       "      <td>extreme</td>\n",
       "      <td>Возвращение в подземелье Треша 33 Эйфория тупо...</td>\n",
       "    </tr>\n",
       "    <tr>\n",
       "      <th>2</th>\n",
       "      <td>146016084</td>\n",
       "      <td>football</td>\n",
       "      <td>Лучшие чешские вратари – Доминик Доминатор Гаш...</td>\n",
       "    </tr>\n",
       "    <tr>\n",
       "      <th>3</th>\n",
       "      <td>933865449</td>\n",
       "      <td>boardgames</td>\n",
       "      <td>Rtokenoid Warhammer40k валрак решил нас подкор...</td>\n",
       "    </tr>\n",
       "    <tr>\n",
       "      <th>4</th>\n",
       "      <td>713550145</td>\n",
       "      <td>hockey</td>\n",
       "      <td>Шестеркин затаскивает Рейнджерс в финал Восточ...</td>\n",
       "    </tr>\n",
       "  </tbody>\n",
       "</table>\n",
       "</div>"
      ],
      "text/plain": [
       "         oid      category                                               text\n",
       "0  365271984  winter_sport  Волшебные фото Виктория Поплавская ЕвгенияМедв...\n",
       "1  503385563       extreme  Возвращение в подземелье Треша 33 Эйфория тупо...\n",
       "2  146016084      football  Лучшие чешские вратари – Доминик Доминатор Гаш...\n",
       "3  933865449    boardgames  Rtokenoid Warhammer40k валрак решил нас подкор...\n",
       "4  713550145        hockey  Шестеркин затаскивает Рейнджерс в финал Восточ..."
      ]
     },
     "execution_count": 244,
     "metadata": {},
     "output_type": "execute_result"
    }
   ],
   "source": [
    "vk_sport.head()"
   ]
  },
  {
   "cell_type": "code",
   "execution_count": 160,
   "id": "7840a579",
   "metadata": {},
   "outputs": [
    {
     "name": "stdout",
     "output_type": "stream",
     "text": [
      "<class 'pandas.core.frame.DataFrame'>\n",
      "RangeIndex: 38740 entries, 0 to 38739\n",
      "Data columns (total 3 columns):\n",
      " #   Column    Non-Null Count  Dtype \n",
      "---  ------    --------------  ----- \n",
      " 0   oid       38740 non-null  int64 \n",
      " 1   category  38740 non-null  object\n",
      " 2   text      38740 non-null  object\n",
      "dtypes: int64(1), object(2)\n",
      "memory usage: 908.1+ KB\n"
     ]
    }
   ],
   "source": [
    "vk_sport.info()"
   ]
  },
  {
   "cell_type": "markdown",
   "id": "0ba1a14c",
   "metadata": {},
   "source": [
    "В таблице 3 колонки и 38740 строк.  \n",
    "2 типа данных int64(1 колонка) и object(2 колонки)  \n",
    "Пропущенных значений нет"
   ]
  },
  {
   "cell_type": "code",
   "execution_count": 161,
   "id": "76eb17a5",
   "metadata": {},
   "outputs": [
    {
     "data": {
      "text/html": [
       "<div>\n",
       "<style scoped>\n",
       "    .dataframe tbody tr th:only-of-type {\n",
       "        vertical-align: middle;\n",
       "    }\n",
       "\n",
       "    .dataframe tbody tr th {\n",
       "        vertical-align: top;\n",
       "    }\n",
       "\n",
       "    .dataframe thead th {\n",
       "        text-align: right;\n",
       "    }\n",
       "</style>\n",
       "<table border=\"1\" class=\"dataframe\">\n",
       "  <thead>\n",
       "    <tr style=\"text-align: right;\">\n",
       "      <th></th>\n",
       "      <th>category</th>\n",
       "      <th>text</th>\n",
       "    </tr>\n",
       "  </thead>\n",
       "  <tbody>\n",
       "    <tr>\n",
       "      <th>count</th>\n",
       "      <td>38740</td>\n",
       "      <td>38740</td>\n",
       "    </tr>\n",
       "    <tr>\n",
       "      <th>unique</th>\n",
       "      <td>13</td>\n",
       "      <td>35774</td>\n",
       "    </tr>\n",
       "    <tr>\n",
       "      <th>top</th>\n",
       "      <td>autosport</td>\n",
       "      <td>За кроссовками в Баскетбольный магазин Ghetto ...</td>\n",
       "    </tr>\n",
       "    <tr>\n",
       "      <th>freq</th>\n",
       "      <td>3160</td>\n",
       "      <td>163</td>\n",
       "    </tr>\n",
       "  </tbody>\n",
       "</table>\n",
       "</div>"
      ],
      "text/plain": [
       "         category                                               text\n",
       "count       38740                                              38740\n",
       "unique         13                                              35774\n",
       "top     autosport  За кроссовками в Баскетбольный магазин Ghetto ...\n",
       "freq         3160                                                163"
      ]
     },
     "execution_count": 161,
     "metadata": {},
     "output_type": "execute_result"
    }
   ],
   "source": [
    "vk_sport.describe(include=[object])"
   ]
  },
  {
   "cell_type": "markdown",
   "id": "435dbac6",
   "metadata": {},
   "source": [
    "В колонке category - 13 уникальных значений.  \n",
    "В колонке text - есть дублирующие тексты"
   ]
  },
  {
   "cell_type": "code",
   "execution_count": 162,
   "id": "aaa9f65a",
   "metadata": {},
   "outputs": [
    {
     "data": {
      "text/plain": [
       "3874"
      ]
     },
     "execution_count": 162,
     "metadata": {},
     "output_type": "execute_result"
    }
   ],
   "source": [
    "# количество уникальных сообществ\n",
    "vk_sport.oid.nunique()"
   ]
  },
  {
   "cell_type": "code",
   "execution_count": 163,
   "id": "ba7d3667",
   "metadata": {},
   "outputs": [
    {
     "data": {
      "text/html": [
       "<div>\n",
       "<style scoped>\n",
       "    .dataframe tbody tr th:only-of-type {\n",
       "        vertical-align: middle;\n",
       "    }\n",
       "\n",
       "    .dataframe tbody tr th {\n",
       "        vertical-align: top;\n",
       "    }\n",
       "\n",
       "    .dataframe thead th {\n",
       "        text-align: right;\n",
       "    }\n",
       "</style>\n",
       "<table border=\"1\" class=\"dataframe\">\n",
       "  <thead>\n",
       "    <tr style=\"text-align: right;\">\n",
       "      <th></th>\n",
       "      <th>category</th>\n",
       "    </tr>\n",
       "    <tr>\n",
       "      <th>oid</th>\n",
       "      <th></th>\n",
       "    </tr>\n",
       "  </thead>\n",
       "  <tbody>\n",
       "  </tbody>\n",
       "</table>\n",
       "</div>"
      ],
      "text/plain": [
       "Empty DataFrame\n",
       "Columns: [category]\n",
       "Index: []"
      ]
     },
     "execution_count": 163,
     "metadata": {},
     "output_type": "execute_result"
    }
   ],
   "source": [
    "# есть ли сообщества с несколькими категориями?\n",
    "vk_sport.groupby('oid').category.nunique().to_frame().query('category>1')"
   ]
  },
  {
   "cell_type": "markdown",
   "id": "3da79716",
   "metadata": {},
   "source": [
    "Все сообщества в данном датасете имеют по одной категории"
   ]
  },
  {
   "cell_type": "code",
   "execution_count": 164,
   "id": "b89469df",
   "metadata": {},
   "outputs": [
    {
     "name": "stdout",
     "output_type": "stream",
     "text": [
      "Количество классов: 13\n",
      "Распределение количества строк по категориям:\n"
     ]
    },
    {
     "data": {
      "text/plain": [
       "autosport       3160\n",
       "extreme         3110\n",
       "martial_arts    3050\n",
       "motosport       3030\n",
       "boardgames      3020\n",
       "tennis          3000\n",
       "esport          2990\n",
       "athletics       2970\n",
       "hockey          2950\n",
       "volleyball      2950\n",
       "football        2860\n",
       "basketball      2850\n",
       "winter_sport    2800\n",
       "Name: category, dtype: int64"
      ]
     },
     "execution_count": 164,
     "metadata": {},
     "output_type": "execute_result"
    }
   ],
   "source": [
    "print('Количество классов:', vk_sport.category.nunique())\n",
    "print('Распределение количества строк по категориям:')\n",
    "vk_sport.category.value_counts()"
   ]
  },
  {
   "cell_type": "code",
   "execution_count": 245,
   "id": "f1a820e4",
   "metadata": {},
   "outputs": [
    {
     "data": {
      "text/plain": [
       "<AxesSubplot:>"
      ]
     },
     "execution_count": 245,
     "metadata": {},
     "output_type": "execute_result"
    },
    {
     "data": {
      "image/png": "[encoded data removed]",
      "text/plain": [
       "<Figure size 432x288 with 1 Axes>"
      ]
     },
     "metadata": {
      "needs_background": "light"
     },
     "output_type": "display_data"
    }
   ],
   "source": [
    "# визуализация распределения таргета \"category\"\n",
    "vk_sport['category'].value_counts().plot(x = vk_sport['category'], kind='bar')"
   ]
  },
  {
   "cell_type": "markdown",
   "id": "63885a5b",
   "metadata": {},
   "source": [
    "Имеем сбалансированный датасет"
   ]
  },
  {
   "cell_type": "markdown",
   "id": "2a134f27",
   "metadata": {},
   "source": [
    "### Анализ колонки 'text'"
   ]
  },
  {
   "cell_type": "code",
   "execution_count": 240,
   "id": "52415821",
   "metadata": {},
   "outputs": [
    {
     "data": {
      "text/plain": [
       "'Твое лицо когда написал слишком большой текст Всем йоу 33 С вами Игорь. Мы прямо сейчас колбасим с Димоном монтаж Почему велосипеды такие дорогие. Выпустить хотим 12го числа. 15 страниц текста смены локаций интервьюхи шуточки Крест Очкарик и черновик на 50 минут. . . Давно мы не делали настолько замороченной душнины. Может даже никогда. Поэтому с вас в обязательном порядке посмотреть. Вангую что либо очень понравится либо очень не понравится. А еще мы вкорячили сюда аж три рекламных интеграции но каждая из них несет смысл и дополняет сценарий. Возможно даже они вам зайдут. Кароч мы продолжим в ужасе колбасить а вы запаситесь вкусняхами или помидорами обнял приподнял убежал RADАнонс'"
      ]
     },
     "execution_count": 240,
     "metadata": {},
     "output_type": "execute_result"
    }
   ],
   "source": [
    "# посмотрим на пример текста\n",
    "vk_sport.at [23171,'text']"
   ]
  },
  {
   "cell_type": "code",
   "execution_count": 166,
   "id": "b3be50a6",
   "metadata": {},
   "outputs": [
    {
     "data": {
      "text/plain": [
       "'autosport'"
      ]
     },
     "execution_count": 166,
     "metadata": {},
     "output_type": "execute_result"
    }
   ],
   "source": [
    "vk_sport.at [32619,'category']"
   ]
  },
  {
   "cell_type": "code",
   "execution_count": 239,
   "id": "cf86defb",
   "metadata": {},
   "outputs": [
    {
     "data": {
      "text/html": [
       "<div>\n",
       "<style scoped>\n",
       "    .dataframe tbody tr th:only-of-type {\n",
       "        vertical-align: middle;\n",
       "    }\n",
       "\n",
       "    .dataframe tbody tr th {\n",
       "        vertical-align: top;\n",
       "    }\n",
       "\n",
       "    .dataframe thead th {\n",
       "        text-align: right;\n",
       "    }\n",
       "</style>\n",
       "<table border=\"1\" class=\"dataframe\">\n",
       "  <thead>\n",
       "    <tr style=\"text-align: right;\">\n",
       "      <th></th>\n",
       "      <th>oid</th>\n",
       "      <th>category</th>\n",
       "      <th>text</th>\n",
       "      <th>clean_text</th>\n",
       "    </tr>\n",
       "  </thead>\n",
       "  <tbody>\n",
       "    <tr>\n",
       "      <th>1134</th>\n",
       "      <td>827878679</td>\n",
       "      <td>extreme</td>\n",
       "      <td>RAD Show возвращается 33 В новом выпуске чемпи...</td>\n",
       "      <td>rad show возвращается    в новом выпуске чемпи...</td>\n",
       "    </tr>\n",
       "    <tr>\n",
       "      <th>4782</th>\n",
       "      <td>892798849</td>\n",
       "      <td>extreme</td>\n",
       "      <td>Полезное Калькулятор давления в покрышках от S...</td>\n",
       "      <td>полезное калькулятор давления в покрышках от s...</td>\n",
       "    </tr>\n",
       "    <tr>\n",
       "      <th>5861</th>\n",
       "      <td>197500793</td>\n",
       "      <td>extreme</td>\n",
       "      <td>Привет RAD хочу купить втулки что лучше? Катат...</td>\n",
       "      <td>привет rad хочу купить втулки что лучше  катат...</td>\n",
       "    </tr>\n",
       "    <tr>\n",
       "      <th>6693</th>\n",
       "      <td>892798849</td>\n",
       "      <td>extreme</td>\n",
       "      <td>Привет RAD собрал себе хардтейл с амортизирующ...</td>\n",
       "      <td>привет rad собрал себе хардтейл с амортизирующ...</td>\n",
       "    </tr>\n",
       "    <tr>\n",
       "      <th>7099</th>\n",
       "      <td>201841889</td>\n",
       "      <td>extreme</td>\n",
       "      <td>Приветсвую сообщество RAD. Во время очередной ...</td>\n",
       "      <td>приветсвую сообщество rad  во время очередной ...</td>\n",
       "    </tr>\n",
       "    <tr>\n",
       "      <th>10922</th>\n",
       "      <td>825367288</td>\n",
       "      <td>extreme</td>\n",
       "      <td>Привет RADовчане такой вопрос есть желание соб...</td>\n",
       "      <td>привет radовчане такой вопрос есть желание соб...</td>\n",
       "    </tr>\n",
       "    <tr>\n",
       "      <th>17497</th>\n",
       "      <td>825367288</td>\n",
       "      <td>extreme</td>\n",
       "      <td>Привет RAD 33 Посоветуйте хорошие толстые цепк...</td>\n",
       "      <td>привет rad    посоветуйте хорошие толстые цепк...</td>\n",
       "    </tr>\n",
       "    <tr>\n",
       "      <th>19118</th>\n",
       "      <td>627910585</td>\n",
       "      <td>extreme</td>\n",
       "      <td>Привет RAD 33 Нужен совет 33 Хочу купить новый...</td>\n",
       "      <td>привет rad    нужен совет    хочу купить новый...</td>\n",
       "    </tr>\n",
       "    <tr>\n",
       "      <th>23171</th>\n",
       "      <td>184205944</td>\n",
       "      <td>extreme</td>\n",
       "      <td>Твое лицо когда написал слишком большой текст ...</td>\n",
       "      <td>твое лицо когда написал слишком большой текст ...</td>\n",
       "    </tr>\n",
       "    <tr>\n",
       "      <th>23720</th>\n",
       "      <td>330944968</td>\n",
       "      <td>extreme</td>\n",
       "      <td>Здраствуй RAD. Я купил подседельный штырь на ч...</td>\n",
       "      <td>здраствуй rad  я купил подседельный штырь на ч...</td>\n",
       "    </tr>\n",
       "    <tr>\n",
       "      <th>24111</th>\n",
       "      <td>330944968</td>\n",
       "      <td>extreme</td>\n",
       "      <td>Хай RAD. Хочу перейти на систему Shtokenoid De...</td>\n",
       "      <td>хай rad  хочу перейти на систему   deore m    ...</td>\n",
       "    </tr>\n",
       "    <tr>\n",
       "      <th>29098</th>\n",
       "      <td>627910585</td>\n",
       "      <td>extreme</td>\n",
       "      <td>Хай RAD. Есть у кого нибудь опыт эксплуатации....</td>\n",
       "      <td>хай rad  есть у кого нибудь опыт эксплуатации ...</td>\n",
       "    </tr>\n",
       "    <tr>\n",
       "      <th>34043</th>\n",
       "      <td>201841889</td>\n",
       "      <td>extreme</td>\n",
       "      <td>Вова приглашает на субботник в Ерино Москва Вс...</td>\n",
       "      <td>вова приглашает на субботник в ерино москва вс...</td>\n",
       "    </tr>\n",
       "    <tr>\n",
       "      <th>34330</th>\n",
       "      <td>201841889</td>\n",
       "      <td>extreme</td>\n",
       "      <td>Хай RAD 33 Олимпийские чемпионы тоже плачут. Б...</td>\n",
       "      <td>хай rad    олимпийские чемпионы тоже плачут  б...</td>\n",
       "    </tr>\n",
       "    <tr>\n",
       "      <th>34701</th>\n",
       "      <td>461041665</td>\n",
       "      <td>autosport</td>\n",
       "      <td>НОВЫЙ CHEVROLET SILVERADO EV 33 Традиционной р...</td>\n",
       "      <td>новый chevrolet silverado ev    традиционной р...</td>\n",
       "    </tr>\n",
       "    <tr>\n",
       "      <th>37697</th>\n",
       "      <td>330944968</td>\n",
       "      <td>extreme</td>\n",
       "      <td>Привет котаны 33 Ловите сложный спойлер из обз...</td>\n",
       "      <td>привет котаны    ловите сложный спойлер из обз...</td>\n",
       "    </tr>\n",
       "    <tr>\n",
       "      <th>37979</th>\n",
       "      <td>148251471</td>\n",
       "      <td>extreme</td>\n",
       "      <td>Привет RAD Недавно приобрел Spetokenoid Demo 7...</td>\n",
       "      <td>привет rad недавно приобрел   demo   за   т  р...</td>\n",
       "    </tr>\n",
       "  </tbody>\n",
       "</table>\n",
       "</div>"
      ],
      "text/plain": [
       "             oid   category  \\\n",
       "1134   827878679    extreme   \n",
       "4782   892798849    extreme   \n",
       "5861   197500793    extreme   \n",
       "6693   892798849    extreme   \n",
       "7099   201841889    extreme   \n",
       "10922  825367288    extreme   \n",
       "17497  825367288    extreme   \n",
       "19118  627910585    extreme   \n",
       "23171  184205944    extreme   \n",
       "23720  330944968    extreme   \n",
       "24111  330944968    extreme   \n",
       "29098  627910585    extreme   \n",
       "34043  201841889    extreme   \n",
       "34330  201841889    extreme   \n",
       "34701  461041665  autosport   \n",
       "37697  330944968    extreme   \n",
       "37979  148251471    extreme   \n",
       "\n",
       "                                                    text  \\\n",
       "1134   RAD Show возвращается 33 В новом выпуске чемпи...   \n",
       "4782   Полезное Калькулятор давления в покрышках от S...   \n",
       "5861   Привет RAD хочу купить втулки что лучше? Катат...   \n",
       "6693   Привет RAD собрал себе хардтейл с амортизирующ...   \n",
       "7099   Приветсвую сообщество RAD. Во время очередной ...   \n",
       "10922  Привет RADовчане такой вопрос есть желание соб...   \n",
       "17497  Привет RAD 33 Посоветуйте хорошие толстые цепк...   \n",
       "19118  Привет RAD 33 Нужен совет 33 Хочу купить новый...   \n",
       "23171  Твое лицо когда написал слишком большой текст ...   \n",
       "23720  Здраствуй RAD. Я купил подседельный штырь на ч...   \n",
       "24111  Хай RAD. Хочу перейти на систему Shtokenoid De...   \n",
       "29098  Хай RAD. Есть у кого нибудь опыт эксплуатации....   \n",
       "34043  Вова приглашает на субботник в Ерино Москва Вс...   \n",
       "34330  Хай RAD 33 Олимпийские чемпионы тоже плачут. Б...   \n",
       "34701  НОВЫЙ CHEVROLET SILVERADO EV 33 Традиционной р...   \n",
       "37697  Привет котаны 33 Ловите сложный спойлер из обз...   \n",
       "37979  Привет RAD Недавно приобрел Spetokenoid Demo 7...   \n",
       "\n",
       "                                              clean_text  \n",
       "1134   rad show возвращается    в новом выпуске чемпи...  \n",
       "4782   полезное калькулятор давления в покрышках от s...  \n",
       "5861   привет rad хочу купить втулки что лучше  катат...  \n",
       "6693   привет rad собрал себе хардтейл с амортизирующ...  \n",
       "7099   приветсвую сообщество rad  во время очередной ...  \n",
       "10922  привет radовчане такой вопрос есть желание соб...  \n",
       "17497  привет rad    посоветуйте хорошие толстые цепк...  \n",
       "19118  привет rad    нужен совет    хочу купить новый...  \n",
       "23171  твое лицо когда написал слишком большой текст ...  \n",
       "23720  здраствуй rad  я купил подседельный штырь на ч...  \n",
       "24111  хай rad  хочу перейти на систему   deore m    ...  \n",
       "29098  хай rad  есть у кого нибудь опыт эксплуатации ...  \n",
       "34043  вова приглашает на субботник в ерино москва вс...  \n",
       "34330  хай rad    олимпийские чемпионы тоже плачут  б...  \n",
       "34701  новый chevrolet silverado ev    традиционной р...  \n",
       "37697  привет котаны    ловите сложный спойлер из обз...  \n",
       "37979  привет rad недавно приобрел   demo   за   т  р...  "
      ]
     },
     "execution_count": 239,
     "metadata": {},
     "output_type": "execute_result"
    }
   ],
   "source": [
    "vk_sport[vk_sport.text.str.contains('RAD')]"
   ]
  },
  {
   "cell_type": "code",
   "execution_count": null,
   "id": "dc10ecb8",
   "metadata": {},
   "outputs": [],
   "source": []
  },
  {
   "cell_type": "markdown",
   "id": "a5d8ef60",
   "metadata": {},
   "source": [
    "Приведем текст к общему виду:\n",
    " - переводим символы в нижний регистр\n",
    " - удалим все слова цифры, пунктуацию и слова содержащие подстроку 'tokenoid'(видимо зашифрованы ссылки)"
   ]
  },
  {
   "cell_type": "code",
   "execution_count": 236,
   "id": "319e79e4",
   "metadata": {},
   "outputs": [],
   "source": [
    "def prepose_text(text):\n",
    "    text = text.lower()\n",
    "    # убираем ссылки\n",
    "    clean_text = re.sub(r\"([a-z0-9]+)?tokenoid([a-z0-9]+)?\", \" \", text)\n",
    "    # оставляем только буквенные символы\n",
    "    clean_text = re.sub(\"[^а-яa-z]\",\" \", clean_text)\n",
    "    return clean_text\n",
    "\n",
    "vk_sport['clean_text'] = vk_sport['text'].map(prepose_text)"
   ]
  },
  {
   "cell_type": "code",
   "execution_count": null,
   "id": "6f891f97",
   "metadata": {},
   "outputs": [],
   "source": []
  },
  {
   "cell_type": "code",
   "execution_count": 188,
   "id": "775a394a",
   "metadata": {},
   "outputs": [],
   "source": [
    "def text_to_wordlist(text, remove_stopwords=False ):\n",
    "    # убираем ссылки\n",
    "    clean_text = re.sub(r\"http[s]?://(?:[a-zA-Z]|[0-9]|[$-_@.&+]|[!*\\(\\),]|(?:%[0-9a-fA-F][0-9a-fA-F]))+\", \" \", text)\n",
    "    # оставляем только буквенные символы\n",
    "    clean_text = re.sub(\"[^а-яА-Я]\",\" \", review_text)\n",
    "    # приводим к нижнему регистру и разбиваем на слова\n",
    "    words = word_tokenize(review_text.lower(), language='russian')\n",
    "    if remove_stopwords: # убираем стоп-слова\n",
    "        words = [w for w in words if not w in remove_stopwords]\n",
    "\n",
    "    lemma_words = [m.parse(w)[0].normal_form for w in words]\n",
    "\n",
    "    if remove_stopwords: # убираем стоп-слова\n",
    "        lemma_words_nostops = [w for w in lemma_words if not w in remove_stopwords]\n",
    "\n",
    "    return(lemma_words_nostops)"
   ]
  },
  {
   "cell_type": "markdown",
   "id": "6d22e8cb",
   "metadata": {},
   "source": [
    "## Разделим данные на тренировочные, валидационные и тестовые"
   ]
  },
  {
   "cell_type": "code",
   "execution_count": 197,
   "id": "3778f58e",
   "metadata": {},
   "outputs": [],
   "source": [
    "from sklearn.model_selection import train_test_split\n",
    "\n",
    "train, valid = train_test_split(vk_sport, test_size=0.2, random_state=42)\n",
    "train, test = train_test_split(train, test_size=0.2, random_state=42)\n"
   ]
  },
  {
   "cell_type": "code",
   "execution_count": 198,
   "id": "7c2029b6",
   "metadata": {},
   "outputs": [
    {
     "name": "stdout",
     "output_type": "stream",
     "text": [
      "Размеры train=24793, valid=7748 и test=6199\n"
     ]
    }
   ],
   "source": [
    "print(f'Размеры train={train.shape[0]}, valid={valid.shape[0]} и test={test.shape[0]}')"
   ]
  },
  {
   "cell_type": "code",
   "execution_count": 199,
   "id": "846018c4",
   "metadata": {},
   "outputs": [
    {
     "data": {
      "text/html": [
       "<div>\n",
       "<style scoped>\n",
       "    .dataframe tbody tr th:only-of-type {\n",
       "        vertical-align: middle;\n",
       "    }\n",
       "\n",
       "    .dataframe tbody tr th {\n",
       "        vertical-align: top;\n",
       "    }\n",
       "\n",
       "    .dataframe thead th {\n",
       "        text-align: right;\n",
       "    }\n",
       "</style>\n",
       "<table border=\"1\" class=\"dataframe\">\n",
       "  <thead>\n",
       "    <tr style=\"text-align: right;\">\n",
       "      <th></th>\n",
       "      <th>category</th>\n",
       "      <th>text</th>\n",
       "    </tr>\n",
       "  </thead>\n",
       "  <tbody>\n",
       "    <tr>\n",
       "      <th>count</th>\n",
       "      <td>24793</td>\n",
       "      <td>24793</td>\n",
       "    </tr>\n",
       "    <tr>\n",
       "      <th>unique</th>\n",
       "      <td>13</td>\n",
       "      <td>23416</td>\n",
       "    </tr>\n",
       "    <tr>\n",
       "      <th>top</th>\n",
       "      <td>autosport</td>\n",
       "      <td>За кроссовками в Баскетбольный магазин Ghetto ...</td>\n",
       "    </tr>\n",
       "    <tr>\n",
       "      <th>freq</th>\n",
       "      <td>1994</td>\n",
       "      <td>93</td>\n",
       "    </tr>\n",
       "  </tbody>\n",
       "</table>\n",
       "</div>"
      ],
      "text/plain": [
       "         category                                               text\n",
       "count       24793                                              24793\n",
       "unique         13                                              23416\n",
       "top     autosport  За кроссовками в Баскетбольный магазин Ghetto ...\n",
       "freq         1994                                                 93"
      ]
     },
     "execution_count": 199,
     "metadata": {},
     "output_type": "execute_result"
    }
   ],
   "source": [
    "train.describe(include=[object])"
   ]
  },
  {
   "cell_type": "code",
   "execution_count": 169,
   "id": "e0561645",
   "metadata": {},
   "outputs": [],
   "source": [
    "# удалим полные дубликаты\n",
    "train_drop_duplicates = train.drop_duplicates (['text'])"
   ]
  },
  {
   "cell_type": "code",
   "execution_count": 206,
   "id": "60deacbe",
   "metadata": {},
   "outputs": [
    {
     "data": {
      "text/plain": [
       "Pipeline(steps=[('tfidf', TfidfVectorizer()), ('clf', MultinomialNB())])"
      ]
     },
     "execution_count": 206,
     "metadata": {},
     "output_type": "execute_result"
    }
   ],
   "source": [
    "from sklearn.naive_bayes import MultinomialNB\n",
    "\n",
    "mnb_ppl_clf = Pipeline([\n",
    "   ('tfidf', TfidfVectorizer()),\n",
    "   ('clf', MultinomialNB()),\n",
    " ])\n",
    "\n",
    "mnb_ppl_clf.fit(train['text'], train['category'])"
   ]
  },
  {
   "cell_type": "code",
   "execution_count": 207,
   "id": "5a3ecc3c",
   "metadata": {},
   "outputs": [
    {
     "name": "stdout",
     "output_type": "stream",
     "text": [
      "              precision    recall  f1-score   support\n",
      "\n",
      "   athletics       0.94      0.75      0.83       679\n",
      "   autosport       0.86      0.70      0.77       805\n",
      "  basketball       0.79      0.96      0.87       462\n",
      "  boardgames       0.96      0.78      0.86       739\n",
      "      esport       0.68      0.87      0.76       460\n",
      "     extreme       0.76      0.65      0.70       736\n",
      "    football       0.63      0.91      0.74       407\n",
      "      hockey       0.82      0.85      0.83       602\n",
      "martial_arts       0.67      0.84      0.75       464\n",
      "   motosport       0.89      0.82      0.85       671\n",
      "      tennis       0.93      0.94      0.94       603\n",
      "  volleyball       0.82      0.81      0.82       607\n",
      "winter_sport       0.80      0.87      0.83       513\n",
      "\n",
      "    accuracy                           0.81      7748\n",
      "   macro avg       0.81      0.83      0.81      7748\n",
      "weighted avg       0.83      0.81      0.81      7748\n",
      "\n"
     ]
    }
   ],
   "source": [
    "predicted_sgd = mnb_ppl_clf.predict(valid['text'])\n",
    "print(metrics.classification_report(predicted_sgd, valid['category']))"
   ]
  },
  {
   "cell_type": "code",
   "execution_count": 200,
   "id": "471d60ce",
   "metadata": {},
   "outputs": [
    {
     "data": {
      "text/plain": [
       "Pipeline(steps=[('tfidf', TfidfVectorizer()),\n",
       "                ('knb_clf', KNeighborsClassifier(n_neighbors=15))])"
      ]
     },
     "execution_count": 200,
     "metadata": {},
     "output_type": "execute_result"
    }
   ],
   "source": [
    "sgd_ppl_clf = Pipeline([\n",
    "    ('tfidf', TfidfVectorizer()),\n",
    "    ('sgd_clf', SGDClassifier(random_state=42))])\n",
    "knb_ppl_clf = Pipeline([\n",
    "    ('tfidf', TfidfVectorizer()),\n",
    "    ('knb_clf', KNeighborsClassifier(n_neighbors=15))])\n",
    "sgd_ppl_clf.fit(train['text'], train['category'])\n",
    "knb_ppl_clf.fit(train['text'], train['category'])"
   ]
  },
  {
   "cell_type": "code",
   "execution_count": 201,
   "id": "72de32e6",
   "metadata": {},
   "outputs": [
    {
     "name": "stdout",
     "output_type": "stream",
     "text": [
      "              precision    recall  f1-score   support\n",
      "\n",
      "   athletics       0.89      0.65      0.75       745\n",
      "   autosport       0.75      0.78      0.77       626\n",
      "  basketball       0.81      0.79      0.80       574\n",
      "  boardgames       0.91      0.87      0.89       625\n",
      "      esport       0.66      0.77      0.71       507\n",
      "     extreme       0.60      0.74      0.66       517\n",
      "    football       0.67      0.79      0.72       494\n",
      "      hockey       0.75      0.79      0.77       593\n",
      "martial_arts       0.63      0.80      0.71       461\n",
      "   motosport       0.88      0.71      0.79       778\n",
      "      tennis       0.93      0.79      0.86       716\n",
      "  volleyball       0.78      0.73      0.75       640\n",
      "winter_sport       0.75      0.89      0.81       472\n",
      "\n",
      "    accuracy                           0.77      7748\n",
      "   macro avg       0.77      0.78      0.77      7748\n",
      "weighted avg       0.79      0.77      0.77      7748\n",
      "\n"
     ]
    }
   ],
   "source": [
    "predicted_sgd = knb_ppl_clf.predict(valid['text'])\n",
    "print(metrics.classification_report(predicted_sgd, valid['category']))"
   ]
  },
  {
   "cell_type": "code",
   "execution_count": 202,
   "id": "cc292e9e",
   "metadata": {},
   "outputs": [
    {
     "name": "stdout",
     "output_type": "stream",
     "text": [
      "              precision    recall  f1-score   support\n",
      "\n",
      "   athletics       0.89      0.65      0.75       745\n",
      "   autosport       0.75      0.78      0.77       626\n",
      "  basketball       0.81      0.79      0.80       574\n",
      "  boardgames       0.91      0.87      0.89       625\n",
      "      esport       0.66      0.77      0.71       507\n",
      "     extreme       0.60      0.74      0.66       517\n",
      "    football       0.67      0.79      0.72       494\n",
      "      hockey       0.75      0.79      0.77       593\n",
      "martial_arts       0.63      0.80      0.71       461\n",
      "   motosport       0.88      0.71      0.79       778\n",
      "      tennis       0.93      0.79      0.86       716\n",
      "  volleyball       0.78      0.73      0.75       640\n",
      "winter_sport       0.75      0.89      0.81       472\n",
      "\n",
      "    accuracy                           0.77      7748\n",
      "   macro avg       0.77      0.78      0.77      7748\n",
      "weighted avg       0.79      0.77      0.77      7748\n",
      "\n"
     ]
    }
   ],
   "source": [
    "predicted_sgd = knb_ppl_clf.predict(valid['text'])\n",
    "print(metrics.classification_report(predicted_sgd, valid['category']))"
   ]
  },
  {
   "cell_type": "code",
   "execution_count": 203,
   "id": "f416cd3d",
   "metadata": {},
   "outputs": [
    {
     "data": {
      "text/plain": [
       "Pipeline(steps=[('tfidf', TfidfVectorizer()),\n",
       "                ('knb_clf', KNeighborsClassifier(n_neighbors=15))])"
      ]
     },
     "execution_count": 203,
     "metadata": {},
     "output_type": "execute_result"
    }
   ],
   "source": [
    "sgd_ppl_clf = Pipeline([\n",
    "    ('tfidf', TfidfVectorizer()),\n",
    "    ('sgd_clf', SGDClassifier(random_state=42))])\n",
    "knb_ppl_clf = Pipeline([\n",
    "    ('tfidf', TfidfVectorizer()),\n",
    "    ('knb_clf', KNeighborsClassifier(n_neighbors=15))])\n",
    "sgd_ppl_clf.fit(train_drop_duplicates['text'], train_drop_duplicates['category'])\n",
    "knb_ppl_clf.fit(train_drop_duplicates['text'], train_drop_duplicates['category'])"
   ]
  },
  {
   "cell_type": "code",
   "execution_count": 174,
   "id": "35b227d7",
   "metadata": {},
   "outputs": [
    {
     "name": "stdout",
     "output_type": "stream",
     "text": [
      "              precision    recall  f1-score   support\n",
      "\n",
      "   athletics       0.88      0.92      0.90       457\n",
      "   autosport       0.89      0.89      0.89       523\n",
      "  basketball       0.88      0.92      0.90       438\n",
      "  boardgames       0.97      0.85      0.91       528\n",
      "      esport       0.81      0.83      0.82       472\n",
      "     extreme       0.71      0.78      0.74       464\n",
      "    football       0.78      0.82      0.80       410\n",
      "      hockey       0.86      0.86      0.86       471\n",
      "martial_arts       0.80      0.79      0.80       527\n",
      "   motosport       0.91      0.86      0.88       485\n",
      "      tennis       0.96      0.94      0.95       519\n",
      "  volleyball       0.86      0.88      0.87       452\n",
      "winter_sport       0.86      0.84      0.85       453\n",
      "\n",
      "    accuracy                           0.86      6199\n",
      "   macro avg       0.86      0.86      0.86      6199\n",
      "weighted avg       0.86      0.86      0.86      6199\n",
      "\n"
     ]
    }
   ],
   "source": [
    "predicted_sgd = sgd_ppl_clf.predict(valid['text'])\n",
    "print(metrics.classification_report(predicted_sgd, valid['category']))"
   ]
  },
  {
   "cell_type": "code",
   "execution_count": null,
   "id": "da7674ad",
   "metadata": {},
   "outputs": [],
   "source": []
  },
  {
   "cell_type": "code",
   "execution_count": 204,
   "id": "668830bb",
   "metadata": {},
   "outputs": [
    {
     "name": "stdout",
     "output_type": "stream",
     "text": [
      "              precision    recall  f1-score   support\n",
      "\n",
      "   athletics       0.89      0.65      0.75       732\n",
      "   autosport       0.77      0.77      0.77       641\n",
      "  basketball       0.78      0.80      0.79       548\n",
      "  boardgames       0.90      0.87      0.88       618\n",
      "      esport       0.68      0.76      0.72       526\n",
      "     extreme       0.61      0.76      0.67       508\n",
      "    football       0.66      0.79      0.72       492\n",
      "      hockey       0.75      0.77      0.76       608\n",
      "martial_arts       0.63      0.81      0.71       453\n",
      "   motosport       0.88      0.70      0.78       787\n",
      "      tennis       0.94      0.79      0.86       727\n",
      "  volleyball       0.77      0.73      0.75       639\n",
      "winter_sport       0.75      0.88      0.81       469\n",
      "\n",
      "    accuracy                           0.77      7748\n",
      "   macro avg       0.77      0.78      0.77      7748\n",
      "weighted avg       0.78      0.77      0.77      7748\n",
      "\n"
     ]
    }
   ],
   "source": [
    "predicted_sgd = knb_ppl_clf.predict(valid['text'])\n",
    "print(metrics.classification_report(predicted_sgd, valid['category']))"
   ]
  },
  {
   "cell_type": "markdown",
   "id": "36338a75",
   "metadata": {},
   "source": [
    "## Очистка данных\n",
    "\n",
    "Как показано в коде автора из kaggle. Есть посты, относящиеся к рекламе и предложением работы"
   ]
  },
  {
   "cell_type": "code",
   "execution_count": 176,
   "id": "f56d671c",
   "metadata": {},
   "outputs": [],
   "source": [
    "list_of_adv_words = ['Ищете работу','Синергия','МАГАЗИН','Вакансия','вакансия','рекламу','кэшбэк','оплата','оплаты', 'АКЦИЯ']\n",
    "\n",
    "for adv_word in list_of_adv_words:\n",
    "    X_train = X_train.drop(X_train[X_train['text'].str.contains(adv_word,regex=False)].index)"
   ]
  },
  {
   "cell_type": "code",
   "execution_count": 177,
   "id": "7dada2dd",
   "metadata": {},
   "outputs": [],
   "source": [
    "X_train = X_train.drop_duplicates (subset=['text'])"
   ]
  },
  {
   "cell_type": "code",
   "execution_count": 178,
   "id": "3cc3ec7d",
   "metadata": {},
   "outputs": [
    {
     "name": "stdout",
     "output_type": "stream",
     "text": [
      "<class 'pandas.core.frame.DataFrame'>\n",
      "Int64Index: 23250 entries, 12415 to 9281\n",
      "Data columns (total 1 columns):\n",
      " #   Column  Non-Null Count  Dtype \n",
      "---  ------  --------------  ----- \n",
      " 0   text    23250 non-null  object\n",
      "dtypes: object(1)\n",
      "memory usage: 363.3+ KB\n"
     ]
    }
   ],
   "source": [
    "X_train.info()"
   ]
  },
  {
   "cell_type": "code",
   "execution_count": 179,
   "id": "e99ea2cd",
   "metadata": {},
   "outputs": [
    {
     "data": {
      "text/html": [
       "<div>\n",
       "<style scoped>\n",
       "    .dataframe tbody tr th:only-of-type {\n",
       "        vertical-align: middle;\n",
       "    }\n",
       "\n",
       "    .dataframe tbody tr th {\n",
       "        vertical-align: top;\n",
       "    }\n",
       "\n",
       "    .dataframe thead th {\n",
       "        text-align: right;\n",
       "    }\n",
       "</style>\n",
       "<table border=\"1\" class=\"dataframe\">\n",
       "  <thead>\n",
       "    <tr style=\"text-align: right;\">\n",
       "      <th></th>\n",
       "      <th>text</th>\n",
       "    </tr>\n",
       "  </thead>\n",
       "  <tbody>\n",
       "    <tr>\n",
       "      <th>33853</th>\n",
       "      <td>Тссс Нужен человек который будет зарабатывать ...</td>\n",
       "    </tr>\n",
       "    <tr>\n",
       "      <th>32487</th>\n",
       "      <td>Тссс Нужен человек который будет зарабатывать ...</td>\n",
       "    </tr>\n",
       "    <tr>\n",
       "      <th>24381</th>\n",
       "      <td>В ПАМЯТЬ О НАТЕШЕ ПЕЩЕРИКОВОЙ 01. 10. 1946 09....</td>\n",
       "    </tr>\n",
       "    <tr>\n",
       "      <th>37482</th>\n",
       "      <td>Профессия тестировщик как стать востребованным...</td>\n",
       "    </tr>\n",
       "    <tr>\n",
       "      <th>18807</th>\n",
       "      <td>Юридический факультет дистанционно или заочно ...</td>\n",
       "    </tr>\n",
       "    <tr>\n",
       "      <th>27563</th>\n",
       "      <td>В Ж ПЕ МНОГО ПРЫЖКА ️ Так выразился один из лю...</td>\n",
       "    </tr>\n",
       "    <tr>\n",
       "      <th>20963</th>\n",
       "      <td>ЕСТЬ ТУТ ПАРНИ? КОТОРЫЕ ХОТЯТ ЗАРАБОТАТЬ НА ИГ...</td>\n",
       "    </tr>\n",
       "  </tbody>\n",
       "</table>\n",
       "</div>"
      ],
      "text/plain": [
       "                                                    text\n",
       "33853  Тссс Нужен человек который будет зарабатывать ...\n",
       "32487  Тссс Нужен человек который будет зарабатывать ...\n",
       "24381  В ПАМЯТЬ О НАТЕШЕ ПЕЩЕРИКОВОЙ 01. 10. 1946 09....\n",
       "37482  Профессия тестировщик как стать востребованным...\n",
       "18807  Юридический факультет дистанционно или заочно ...\n",
       "27563  В Ж ПЕ МНОГО ПРЫЖКА ️ Так выразился один из лю...\n",
       "20963  ЕСТЬ ТУТ ПАРНИ? КОТОРЫЕ ХОТЯТ ЗАРАБОТАТЬ НА ИГ..."
      ]
     },
     "execution_count": 179,
     "metadata": {},
     "output_type": "execute_result"
    }
   ],
   "source": [
    "X_train[X_train['text'].str.contains(r'\\ЗП')]"
   ]
  },
  {
   "cell_type": "code",
   "execution_count": 180,
   "id": "92e3acee",
   "metadata": {},
   "outputs": [],
   "source": [
    "import pymorphy2\n",
    "m = pymorphy2.MorphAnalyzer()"
   ]
  },
  {
   "cell_type": "code",
   "execution_count": 181,
   "id": "b9547c2b",
   "metadata": {},
   "outputs": [
    {
     "name": "stderr",
     "output_type": "stream",
     "text": [
      "[nltk_data] Downloading package punkt to /home/marina/nltk_data...\n",
      "[nltk_data]   Package punkt is already up-to-date!\n"
     ]
    }
   ],
   "source": [
    "import nltk\n",
    "nltk.download('punkt')\n",
    "\n",
    "from nltk.corpus import stopwords\n",
    "from string import punctuation\n",
    "russian_stopwords = stopwords.words(\"russian\")\n",
    "\n",
    "tokenizer = nltk.data.load('tokenizers/punkt/russian.pickle')"
   ]
  },
  {
   "cell_type": "code",
   "execution_count": 182,
   "id": "b63243d3",
   "metadata": {},
   "outputs": [
    {
     "data": {
      "text/html": [
       "<div>\n",
       "<style scoped>\n",
       "    .dataframe tbody tr th:only-of-type {\n",
       "        vertical-align: middle;\n",
       "    }\n",
       "\n",
       "    .dataframe tbody tr th {\n",
       "        vertical-align: top;\n",
       "    }\n",
       "\n",
       "    .dataframe thead th {\n",
       "        text-align: right;\n",
       "    }\n",
       "</style>\n",
       "<table border=\"1\" class=\"dataframe\">\n",
       "  <thead>\n",
       "    <tr style=\"text-align: right;\">\n",
       "      <th></th>\n",
       "      <th>text</th>\n",
       "    </tr>\n",
       "  </thead>\n",
       "  <tbody>\n",
       "    <tr>\n",
       "      <th>12415</th>\n",
       "      <td>Тут это. . Лейкерс играли против Наггетс но иг...</td>\n",
       "    </tr>\n",
       "    <tr>\n",
       "      <th>31186</th>\n",
       "      <td>Мартен делится секретами биатлонной стрельбы н...</td>\n",
       "    </tr>\n",
       "    <tr>\n",
       "      <th>35973</th>\n",
       "      <td>МЫ ПРИГЛАШАЕМ ВАС В КОМПАНИЮ ЕДИНОМЫШЛЕННИКОВ ...</td>\n",
       "    </tr>\n",
       "    <tr>\n",
       "      <th>32619</th>\n",
       "      <td>Ничего так не учит слесарному делу как русские...</td>\n",
       "    </tr>\n",
       "    <tr>\n",
       "      <th>15795</th>\n",
       "      <td>Четырехкратный олимпийский чемпион по биатлону...</td>\n",
       "    </tr>\n",
       "    <tr>\n",
       "      <th>...</th>\n",
       "      <td>...</td>\n",
       "    </tr>\n",
       "    <tr>\n",
       "      <th>36062</th>\n",
       "      <td>Интенсивное зажигательное ОФП Силовые трениров...</td>\n",
       "    </tr>\n",
       "    <tr>\n",
       "      <th>2703</th>\n",
       "      <td>А вы знали что у олимпийского чемпиона по воль...</td>\n",
       "    </tr>\n",
       "    <tr>\n",
       "      <th>762</th>\n",
       "      <td>Предзаказ игры Войны Черной розы продолжается ...</td>\n",
       "    </tr>\n",
       "    <tr>\n",
       "      <th>5541</th>\n",
       "      <td>Ирина Воронкова В финале статистика не имеет з...</td>\n",
       "    </tr>\n",
       "    <tr>\n",
       "      <th>9281</th>\n",
       "      <td>За именными кроссовками Рассела Вестбрука в Ба...</td>\n",
       "    </tr>\n",
       "  </tbody>\n",
       "</table>\n",
       "<p>23250 rows × 1 columns</p>\n",
       "</div>"
      ],
      "text/plain": [
       "                                                    text\n",
       "12415  Тут это. . Лейкерс играли против Наггетс но иг...\n",
       "31186  Мартен делится секретами биатлонной стрельбы н...\n",
       "35973  МЫ ПРИГЛАШАЕМ ВАС В КОМПАНИЮ ЕДИНОМЫШЛЕННИКОВ ...\n",
       "32619  Ничего так не учит слесарному делу как русские...\n",
       "15795  Четырехкратный олимпийский чемпион по биатлону...\n",
       "...                                                  ...\n",
       "36062  Интенсивное зажигательное ОФП Силовые трениров...\n",
       "2703   А вы знали что у олимпийского чемпиона по воль...\n",
       "762    Предзаказ игры Войны Черной розы продолжается ...\n",
       "5541   Ирина Воронкова В финале статистика не имеет з...\n",
       "9281   За именными кроссовками Рассела Вестбрука в Ба...\n",
       "\n",
       "[23250 rows x 1 columns]"
      ]
     },
     "execution_count": 182,
     "metadata": {},
     "output_type": "execute_result"
    }
   ],
   "source": [
    "X_train"
   ]
  },
  {
   "cell_type": "code",
   "execution_count": 183,
   "id": "a815e6ea",
   "metadata": {},
   "outputs": [],
   "source": [
    "from sklearn.feature_extraction.text import CountVectorizer"
   ]
  },
  {
   "cell_type": "code",
   "execution_count": 184,
   "id": "1460c201",
   "metadata": {},
   "outputs": [],
   "source": [
    "vec = CountVectorizer(ngram_range=(1,1), stop_words=russian_stopwords)\n",
    "bow = vec.fit_transform(X_train['text'])"
   ]
  },
  {
   "cell_type": "code",
   "execution_count": 185,
   "id": "d4dac13a",
   "metadata": {},
   "outputs": [],
   "source": [
    "from sklearn.pipeline import Pipeline\n",
    "# pipeline позволяет объединить в один блок трансформер и модель, что упрощает написание кода и улучшает его читаемость\n",
    "from sklearn.feature_extraction.text import TfidfVectorizer\n",
    "# TfidfVectorizer преобразует тексты в числовые вектора, отражающие важность использования каждого слова из некоторого набора слов (количество слов набора определяет размерность вектора) в каждом тексте\n",
    "from sklearn.linear_model import SGDClassifier\n",
    "from sklearn.neighbors import KNeighborsClassifier\n",
    "# линейный классификатор и классификатор методом ближайших соседей\n",
    "from sklearn import metrics\n",
    "# набор метрик для оценки качества модели\n",
    "from sklearn.model_selection import GridSearchCV\n",
    "# модуль поиска по сетке параметров"
   ]
  },
  {
   "cell_type": "code",
   "execution_count": 186,
   "id": "7177f9a7",
   "metadata": {},
   "outputs": [],
   "source": [
    "from nltk import tokenize\n",
    "from nltk.tokenize import word_tokenize\n",
    "from nltk.probability import FreqDist"
   ]
  },
  {
   "cell_type": "code",
   "execution_count": 187,
   "id": "48ccef0d",
   "metadata": {},
   "outputs": [],
   "source": [
    "X_train['tokenized_text'] = X_train['text'].apply(word_tokenize)"
   ]
  },
  {
   "cell_type": "code",
   "execution_count": 189,
   "id": "864735df",
   "metadata": {},
   "outputs": [],
   "source": [
    "from sklearn.cluster import KMeans"
   ]
  },
  {
   "cell_type": "code",
   "execution_count": 190,
   "id": "5cb14395",
   "metadata": {},
   "outputs": [],
   "source": [
    "model = KMeans(n_clusters=3)"
   ]
  },
  {
   "cell_type": "code",
   "execution_count": 191,
   "id": "1075c0c6",
   "metadata": {},
   "outputs": [
    {
     "ename": "NameError",
     "evalue": "name 'iris_df' is not defined",
     "output_type": "error",
     "traceback": [
      "\u001b[0;31m---------------------------------------------------------------------------\u001b[0m",
      "\u001b[0;31mNameError\u001b[0m                                 Traceback (most recent call last)",
      "Input \u001b[0;32mIn [191]\u001b[0m, in \u001b[0;36m<module>\u001b[0;34m\u001b[0m\n\u001b[1;32m      1\u001b[0m \u001b[38;5;66;03m# Проводим моделирование\u001b[39;00m\n\u001b[0;32m----> 2\u001b[0m model\u001b[38;5;241m.\u001b[39mfit(\u001b[43miris_df\u001b[49m\u001b[38;5;241m.\u001b[39mdata)\n\u001b[1;32m      4\u001b[0m \u001b[38;5;66;03m# Предсказание на единичном примере\u001b[39;00m\n\u001b[1;32m      5\u001b[0m predicted_label \u001b[38;5;241m=\u001b[39m model\u001b[38;5;241m.\u001b[39mpredict([[\u001b[38;5;241m7.2\u001b[39m, \u001b[38;5;241m3.5\u001b[39m, \u001b[38;5;241m0.8\u001b[39m, \u001b[38;5;241m1.6\u001b[39m]])\n",
      "\u001b[0;31mNameError\u001b[0m: name 'iris_df' is not defined"
     ]
    }
   ],
   "source": [
    "# Проводим моделирование\n",
    "model.fit(iris_df.data)\n",
    "\n",
    "# Предсказание на единичном примере\n",
    "predicted_label = model.predict([[7.2, 3.5, 0.8, 1.6]])\n",
    "\n",
    "# Предсказание на всем наборе данных\n",
    "all_predictions = model.predict(iris_df.data)\n",
    "\n",
    "# Выводим предсказания\n",
    "print(predicted_label)\n",
    "print(all_predictions)"
   ]
  }
 ],
 "metadata": {
  "kernelspec": {
   "display_name": "Python 3 (ipykernel)",
   "language": "python",
   "name": "python3"
  },
  "language_info": {
   "codemirror_mode": {
    "name": "ipython",
    "version": 3
   },
   "file_extension": ".py",
   "mimetype": "text/x-python",
   "name": "python",
   "nbconvert_exporter": "python",
   "pygments_lexer": "ipython3",
   "version": "3.9.2"
  }
 },
 "nbformat": 4,
 "nbformat_minor": 5
}
