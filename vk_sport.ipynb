{
 "cells": [
  {
   "cell_type": "markdown",
   "id": "e10ee5e3",
   "metadata": {},
   "source": [
    "# Спортивные сообщества VK"
   ]
  },
  {
   "cell_type": "markdown",
   "id": "74559386",
   "metadata": {},
   "source": [
    "## _\"Определить вид спорта по посту\" (Задача классификации)_\n",
    "\n",
    "\n",
    "Данные: https://www.kaggle.com/datasets/mikhailma/russian-social-media-text-classification"
   ]
  },
  {
   "cell_type": "markdown",
   "id": "e6d1a097",
   "metadata": {},
   "source": [
    "## Часть 0. Введение"
   ]
  },
  {
   "cell_type": "markdown",
   "id": "552ee528",
   "metadata": {},
   "source": [
    "### Обзор\n",
    "\n",
    "Данный датасет, как мы увидим здесь состоит из 3 колонок и 38740 строк.\n",
    "\n",
    "**Метаданные**\n",
    "\n",
    "* **oid** - id сообщества\n",
    "* **category** - вид спорта (таргет)\n",
    "* **text** - текст поста\n",
    "\n",
    "### Контекст:\n",
    "На основе заданного набора постов определите, какой вид спорта обсуждается в выбранном сообществе.\n",
    "\n",
    "**Список категорий**\n",
    "\n",
    "    1.athletics,\n",
    "    2.autosport,\n",
    "    3.basketball,\n",
    "    4.boardgames,\n",
    "    5.esport,\n",
    "    6.extreme,\n",
    "    7.football,\n",
    "    8.hockey,\n",
    "    9.martial arts,\n",
    "    10.motosport,\n",
    "    11.tennis,\n",
    "    12.volleyball,\n",
    "    13.winter_sport\n",
    "    \n",
    "### Оценочная метрика:"
   ]
  },
  {
   "cell_type": "code",
   "execution_count": 1,
   "id": "e32e6f90",
   "metadata": {},
   "outputs": [],
   "source": [
    "def score(true, pred, n_samples):\n",
    "    counter = 0    \n",
    "    if true == pred:\n",
    "        counter += 1\n",
    "    else:\n",
    "        counter -= 1\n",
    "    return counter / n_samples"
   ]
  },
  {
   "cell_type": "markdown",
   "id": "f60fc918",
   "metadata": {},
   "source": [
    "## Часть 1: Импорт, загрузка данных"
   ]
  },
  {
   "cell_type": "markdown",
   "id": "de33c315",
   "metadata": {},
   "source": [
    "### Загрузка библиотек"
   ]
  },
  {
   "cell_type": "code",
   "execution_count": 1,
   "id": "d6180e39",
   "metadata": {},
   "outputs": [],
   "source": [
    "import pandas as pd\n",
    "import numpy as np\n",
    "\n",
    "import re\n",
    "from collections import Counter\n",
    "\n",
    "from sklearn.model_selection import train_test_split\n",
    "\n",
    "from sklearn.pipeline import Pipeline\n",
    "from sklearn.feature_extraction.text import TfidfVectorizer\n",
    "\n",
    "from sklearn.naive_bayes import MultinomialNB\n",
    "from sklearn.ensemble import RandomForestClassifier\n",
    "from sklearn.linear_model import SGDClassifier\n",
    "from sklearn.neighbors import KNeighborsClassifier\n",
    "from sklearn.model_selection import GridSearchCV\n",
    "\n",
    "from sklearn import metrics\n",
    "\n",
    "from gensim.models import word2vec\n",
    "\n",
    "%matplotlib inline\n",
    "import matplotlib.pyplot as plt\n",
    "import seaborn as sns\n",
    "\n"
   ]
  },
  {
   "cell_type": "markdown",
   "id": "323accc3",
   "metadata": {},
   "source": [
    "### Загрузка данных в датафрейм vk_sport"
   ]
  },
  {
   "cell_type": "code",
   "execution_count": 3,
   "id": "d7d8c73a",
   "metadata": {},
   "outputs": [],
   "source": [
    "vk_sport = pd.read_csv('train.csv', encoding_errors = 'ignore')"
   ]
  },
  {
   "cell_type": "markdown",
   "id": "6bc02876",
   "metadata": {},
   "source": [
    "## Часть 2. Анализ данных (EDA)"
   ]
  },
  {
   "cell_type": "code",
   "execution_count": 4,
   "id": "65e92055",
   "metadata": {},
   "outputs": [
    {
     "data": {
      "text/html": [
       "<div>\n",
       "<style scoped>\n",
       "    .dataframe tbody tr th:only-of-type {\n",
       "        vertical-align: middle;\n",
       "    }\n",
       "\n",
       "    .dataframe tbody tr th {\n",
       "        vertical-align: top;\n",
       "    }\n",
       "\n",
       "    .dataframe thead th {\n",
       "        text-align: right;\n",
       "    }\n",
       "</style>\n",
       "<table border=\"1\" class=\"dataframe\">\n",
       "  <thead>\n",
       "    <tr style=\"text-align: right;\">\n",
       "      <th></th>\n",
       "      <th>oid</th>\n",
       "      <th>category</th>\n",
       "      <th>text</th>\n",
       "    </tr>\n",
       "  </thead>\n",
       "  <tbody>\n",
       "    <tr>\n",
       "      <th>0</th>\n",
       "      <td>365271984</td>\n",
       "      <td>winter_sport</td>\n",
       "      <td>Волшебные фото Виктория Поплавская ЕвгенияМедв...</td>\n",
       "    </tr>\n",
       "    <tr>\n",
       "      <th>1</th>\n",
       "      <td>503385563</td>\n",
       "      <td>extreme</td>\n",
       "      <td>Возвращение в подземелье Треша 33 Эйфория тупо...</td>\n",
       "    </tr>\n",
       "    <tr>\n",
       "      <th>2</th>\n",
       "      <td>146016084</td>\n",
       "      <td>football</td>\n",
       "      <td>Лучшие чешские вратари – Доминик Доминатор Гаш...</td>\n",
       "    </tr>\n",
       "    <tr>\n",
       "      <th>3</th>\n",
       "      <td>933865449</td>\n",
       "      <td>boardgames</td>\n",
       "      <td>Rtokenoid Warhammer40k валрак решил нас подкор...</td>\n",
       "    </tr>\n",
       "    <tr>\n",
       "      <th>4</th>\n",
       "      <td>713550145</td>\n",
       "      <td>hockey</td>\n",
       "      <td>Шестеркин затаскивает Рейнджерс в финал Восточ...</td>\n",
       "    </tr>\n",
       "  </tbody>\n",
       "</table>\n",
       "</div>"
      ],
      "text/plain": [
       "         oid      category                                               text\n",
       "0  365271984  winter_sport  Волшебные фото Виктория Поплавская ЕвгенияМедв...\n",
       "1  503385563       extreme  Возвращение в подземелье Треша 33 Эйфория тупо...\n",
       "2  146016084      football  Лучшие чешские вратари – Доминик Доминатор Гаш...\n",
       "3  933865449    boardgames  Rtokenoid Warhammer40k валрак решил нас подкор...\n",
       "4  713550145        hockey  Шестеркин затаскивает Рейнджерс в финал Восточ..."
      ]
     },
     "execution_count": 4,
     "metadata": {},
     "output_type": "execute_result"
    }
   ],
   "source": [
    "vk_sport.head()"
   ]
  },
  {
   "cell_type": "code",
   "execution_count": 5,
   "id": "7840a579",
   "metadata": {},
   "outputs": [
    {
     "name": "stdout",
     "output_type": "stream",
     "text": [
      "<class 'pandas.core.frame.DataFrame'>\n",
      "RangeIndex: 38740 entries, 0 to 38739\n",
      "Data columns (total 3 columns):\n",
      " #   Column    Non-Null Count  Dtype \n",
      "---  ------    --------------  ----- \n",
      " 0   oid       38740 non-null  int64 \n",
      " 1   category  38740 non-null  object\n",
      " 2   text      38740 non-null  object\n",
      "dtypes: int64(1), object(2)\n",
      "memory usage: 908.1+ KB\n"
     ]
    }
   ],
   "source": [
    "vk_sport.info()"
   ]
  },
  {
   "cell_type": "markdown",
   "id": "0ba1a14c",
   "metadata": {},
   "source": [
    "В таблице 3 колонки и 38740 строк.  \n",
    "2 типа данных int64(1 колонка) и object(2 колонки)  \n",
    "Пропущенных значений нет"
   ]
  },
  {
   "cell_type": "code",
   "execution_count": 6,
   "id": "76eb17a5",
   "metadata": {},
   "outputs": [
    {
     "data": {
      "text/html": [
       "<div>\n",
       "<style scoped>\n",
       "    .dataframe tbody tr th:only-of-type {\n",
       "        vertical-align: middle;\n",
       "    }\n",
       "\n",
       "    .dataframe tbody tr th {\n",
       "        vertical-align: top;\n",
       "    }\n",
       "\n",
       "    .dataframe thead th {\n",
       "        text-align: right;\n",
       "    }\n",
       "</style>\n",
       "<table border=\"1\" class=\"dataframe\">\n",
       "  <thead>\n",
       "    <tr style=\"text-align: right;\">\n",
       "      <th></th>\n",
       "      <th>category</th>\n",
       "      <th>text</th>\n",
       "    </tr>\n",
       "  </thead>\n",
       "  <tbody>\n",
       "    <tr>\n",
       "      <th>count</th>\n",
       "      <td>38740</td>\n",
       "      <td>38740</td>\n",
       "    </tr>\n",
       "    <tr>\n",
       "      <th>unique</th>\n",
       "      <td>13</td>\n",
       "      <td>35774</td>\n",
       "    </tr>\n",
       "    <tr>\n",
       "      <th>top</th>\n",
       "      <td>autosport</td>\n",
       "      <td>За кроссовками в Баскетбольный магазин Ghetto ...</td>\n",
       "    </tr>\n",
       "    <tr>\n",
       "      <th>freq</th>\n",
       "      <td>3160</td>\n",
       "      <td>163</td>\n",
       "    </tr>\n",
       "  </tbody>\n",
       "</table>\n",
       "</div>"
      ],
      "text/plain": [
       "         category                                               text\n",
       "count       38740                                              38740\n",
       "unique         13                                              35774\n",
       "top     autosport  За кроссовками в Баскетбольный магазин Ghetto ...\n",
       "freq         3160                                                163"
      ]
     },
     "execution_count": 6,
     "metadata": {},
     "output_type": "execute_result"
    }
   ],
   "source": [
    "vk_sport.describe(include=[object])"
   ]
  },
  {
   "cell_type": "markdown",
   "id": "435dbac6",
   "metadata": {},
   "source": [
    "В колонке category - 13 уникальных значений.  \n",
    "В колонке text - есть дублирующие тексты"
   ]
  },
  {
   "cell_type": "code",
   "execution_count": 7,
   "id": "aaa9f65a",
   "metadata": {},
   "outputs": [
    {
     "data": {
      "text/plain": [
       "3874"
      ]
     },
     "execution_count": 7,
     "metadata": {},
     "output_type": "execute_result"
    }
   ],
   "source": [
    "# количество уникальных сообществ\n",
    "vk_sport.oid.nunique()"
   ]
  },
  {
   "cell_type": "code",
   "execution_count": 8,
   "id": "ba7d3667",
   "metadata": {},
   "outputs": [
    {
     "data": {
      "text/html": [
       "<div>\n",
       "<style scoped>\n",
       "    .dataframe tbody tr th:only-of-type {\n",
       "        vertical-align: middle;\n",
       "    }\n",
       "\n",
       "    .dataframe tbody tr th {\n",
       "        vertical-align: top;\n",
       "    }\n",
       "\n",
       "    .dataframe thead th {\n",
       "        text-align: right;\n",
       "    }\n",
       "</style>\n",
       "<table border=\"1\" class=\"dataframe\">\n",
       "  <thead>\n",
       "    <tr style=\"text-align: right;\">\n",
       "      <th></th>\n",
       "      <th>category</th>\n",
       "    </tr>\n",
       "    <tr>\n",
       "      <th>oid</th>\n",
       "      <th></th>\n",
       "    </tr>\n",
       "  </thead>\n",
       "  <tbody>\n",
       "  </tbody>\n",
       "</table>\n",
       "</div>"
      ],
      "text/plain": [
       "Empty DataFrame\n",
       "Columns: [category]\n",
       "Index: []"
      ]
     },
     "execution_count": 8,
     "metadata": {},
     "output_type": "execute_result"
    }
   ],
   "source": [
    "# есть ли сообщества с несколькими категориями?\n",
    "vk_sport.groupby('oid').category.nunique().to_frame().query('category>1')"
   ]
  },
  {
   "cell_type": "markdown",
   "id": "3da79716",
   "metadata": {},
   "source": [
    "Все сообщества в данном датасете имеют по одной категории"
   ]
  },
  {
   "cell_type": "code",
   "execution_count": 9,
   "id": "b89469df",
   "metadata": {},
   "outputs": [
    {
     "name": "stdout",
     "output_type": "stream",
     "text": [
      "Количество классов: 13\n",
      "Распределение количества строк по категориям:\n"
     ]
    },
    {
     "data": {
      "text/plain": [
       "autosport       3160\n",
       "extreme         3110\n",
       "martial_arts    3050\n",
       "motosport       3030\n",
       "boardgames      3020\n",
       "tennis          3000\n",
       "esport          2990\n",
       "athletics       2970\n",
       "hockey          2950\n",
       "volleyball      2950\n",
       "football        2860\n",
       "basketball      2850\n",
       "winter_sport    2800\n",
       "Name: category, dtype: int64"
      ]
     },
     "execution_count": 9,
     "metadata": {},
     "output_type": "execute_result"
    }
   ],
   "source": [
    "print('Количество классов:', vk_sport.category.nunique())\n",
    "print('Распределение количества строк по категориям:')\n",
    "vk_sport.category.value_counts()"
   ]
  },
  {
   "cell_type": "code",
   "execution_count": 10,
   "id": "f1a820e4",
   "metadata": {},
   "outputs": [
    {
     "data": {
      "text/plain": [
       "<AxesSubplot:>"
      ]
     },
     "execution_count": 10,
     "metadata": {},
     "output_type": "execute_result"
    },
    {
     "data": {
      "image/png": "[encoded data removed]",
      "text/plain": [
       "<Figure size 432x288 with 1 Axes>"
      ]
     },
     "metadata": {
      "needs_background": "light"
     },
     "output_type": "display_data"
    }
   ],
   "source": [
    "# визуализация распределения таргета \"category\"\n",
    "vk_sport['category'].value_counts().plot(x = vk_sport['category'], kind='bar')"
   ]
  },
  {
   "cell_type": "code",
   "execution_count": 11,
   "id": "2aefb5c4",
   "metadata": {},
   "outputs": [
    {
     "data": {
      "text/plain": [
       "array([10])"
      ]
     },
     "execution_count": 11,
     "metadata": {},
     "output_type": "execute_result"
    }
   ],
   "source": [
    "vk_sport['oid'].value_counts().unique()"
   ]
  },
  {
   "cell_type": "markdown",
   "id": "63885a5b",
   "metadata": {},
   "source": [
    "Имеем сбалансированный датасет"
   ]
  },
  {
   "cell_type": "markdown",
   "id": "2a134f27",
   "metadata": {},
   "source": [
    "### Анализ колонки 'text'"
   ]
  },
  {
   "cell_type": "code",
   "execution_count": 12,
   "id": "52415821",
   "metadata": {},
   "outputs": [
    {
     "data": {
      "text/plain": [
       "'Коллеги традиционно объявляем очередной гильдейский настольныйсубботник ГРаНИ 33 По аналогии с индустрией компьютерных игр это предложение по субботам в течение дня выкладывать в комментарии к посту фото своих разработок с кратким описанием. А в ответ на выложенное другими интересоваться советовать предлагать сотрудничество и просто ставить лайки. Рассказывайте над чем сейчас работаете?'"
      ]
     },
     "execution_count": 12,
     "metadata": {},
     "output_type": "execute_result"
    }
   ],
   "source": [
    "# посмотрим на пример текста\n",
    "vk_sport.at [406,'text']"
   ]
  },
  {
   "cell_type": "markdown",
   "id": "f0f721e8",
   "metadata": {},
   "source": [
    "В тексте есть слова содержащие 'tokenoid' - скорее всего являются заменой ссылок.\n",
    "Есть слова на латинице.\n",
    "А также цифры и пунктуация.  \n",
    "Все слова написаны с применением разных регистров.\n"
   ]
  },
  {
   "cell_type": "code",
   "execution_count": 13,
   "id": "6635b7ba",
   "metadata": {},
   "outputs": [
    {
     "name": "stdout",
     "output_type": "stream",
     "text": [
      "В колонке текст имеются дублирующие посты в количестве = 2966 строк\n"
     ]
    }
   ],
   "source": [
    "print(f\"В колонке текст имеются дублирующие посты в количестве = {vk_sport['text'].shape[0] - vk_sport['text'].nunique()} строк\")"
   ]
  },
  {
   "cell_type": "markdown",
   "id": "cd77bae1",
   "metadata": {},
   "source": [
    "Также в постах имеется реклама не по тематике спорта, например:"
   ]
  },
  {
   "cell_type": "code",
   "execution_count": 14,
   "id": "f301fb96",
   "metadata": {},
   "outputs": [
    {
     "data": {
      "text/plain": [
       "'Плюс – это такой робот помощник который научит вас отдыхать в реальном не киберпанковом мире. Если вы сдали ЕГЭ на 80 и больше баллов получите подписку Яндекс Плюс бесплатно на целый год 33 Подробности здесь'"
      ]
     },
     "execution_count": 14,
     "metadata": {},
     "output_type": "execute_result"
    }
   ],
   "source": [
    "vk_sport.at [21139,'text']"
   ]
  },
  {
   "cell_type": "markdown",
   "id": "adf7ba6c",
   "metadata": {},
   "source": [
    "## Часть 3. Обработка и преобразование данных"
   ]
  },
  {
   "cell_type": "markdown",
   "id": "6b15a269",
   "metadata": {},
   "source": [
    "### Разделение данных на train и test"
   ]
  },
  {
   "cell_type": "code",
   "execution_count": 15,
   "id": "8734413c",
   "metadata": {},
   "outputs": [],
   "source": [
    "train, test = train_test_split(vk_sport, test_size=0.25, random_state=42)"
   ]
  },
  {
   "cell_type": "code",
   "execution_count": 16,
   "id": "d665903e",
   "metadata": {},
   "outputs": [
    {
     "name": "stdout",
     "output_type": "stream",
     "text": [
      "Размер датасетов train=29055, test=9685\n"
     ]
    }
   ],
   "source": [
    "# размеры полученных датасетов\n",
    "print(f'Размер датасетов train={len(train)}, test={len(test)}')"
   ]
  },
  {
   "cell_type": "markdown",
   "id": "a5d8ef60",
   "metadata": {},
   "source": [
    "### Приведем тексты постов к общему виду:\n",
    " - переводим символы в нижний регистр\n",
    " - удалим все слова цифры, пунктуацию и слова содержащие подстроку 'tokenoid'(видимо зашифрованы ссылки)"
   ]
  },
  {
   "cell_type": "code",
   "execution_count": 17,
   "id": "319e79e4",
   "metadata": {},
   "outputs": [],
   "source": [
    "def clean_text(text):\n",
    "    text = text.lower()\n",
    "    # убираем цифры \n",
    "    clean_text = re.sub(\"[0-9]\", \"\", text)\n",
    "    # убираем ссылки\n",
    "    clean_text = re.sub(r\"([a-z]+)?tokenoid([a-z]+)?\", \"\", text)\n",
    "    # оставляем только буквенные символы\n",
    "    clean_text = re.sub(\"[^а-яa-z]\",\" \", clean_text)\n",
    "    # убираем лишние пробелы\n",
    "    clean_text = re.sub(\" +\", \" \", clean_text)\n",
    "    return clean_text"
   ]
  },
  {
   "cell_type": "code",
   "execution_count": 18,
   "id": "84734ec7",
   "metadata": {},
   "outputs": [],
   "source": [
    "# создаем колонку с преобразованным текстом\n",
    "train['clean_text'] = train['text'].map(clean_text)"
   ]
  },
  {
   "cell_type": "code",
   "execution_count": 19,
   "id": "b9668879",
   "metadata": {},
   "outputs": [
    {
     "name": "stdout",
     "output_type": "stream",
     "text": [
      "В колонке 'clean_text' количество дублирующих постов = 1886 строк\n"
     ]
    }
   ],
   "source": [
    "print(f\"В колонке 'clean_text' количество дублирующих постов = {train['text'].shape[0] - train['clean_text'].nunique()} строк\")"
   ]
  },
  {
   "cell_type": "markdown",
   "id": "d4f9f9a1",
   "metadata": {},
   "source": [
    "Посчитаем сколько раз каждый пост входит в датасет.\n",
    "Рассмотрим посты, имеющие дубликаты"
   ]
  },
  {
   "cell_type": "code",
   "execution_count": 20,
   "id": "b96cc512",
   "metadata": {},
   "outputs": [],
   "source": [
    "train['occurrence'] = train['clean_text'].map(dict(Counter( train['clean_text'].to_list())))"
   ]
  },
  {
   "cell_type": "markdown",
   "id": "eeb98243",
   "metadata": {},
   "source": [
    "Посмотрим сколько раз дублируются посты."
   ]
  },
  {
   "cell_type": "code",
   "execution_count": 21,
   "id": "57347e88",
   "metadata": {},
   "outputs": [
    {
     "data": {
      "text/plain": [
       "array([  1,   2, 118,   9,  19,   3,  13,   8,   4,   5,   7,   6,  25,\n",
       "        24,  10,  37,  11,  26,  14])"
      ]
     },
     "execution_count": 21,
     "metadata": {},
     "output_type": "execute_result"
    }
   ],
   "source": [
    "train['occurrence'].unique()"
   ]
  },
  {
   "cell_type": "markdown",
   "id": "3879c7f8",
   "metadata": {},
   "source": [
    "Рассмотрим в ручную каждые дубликаты, количество которых больше 3. Создадим список выражений, используемых в тексте реклам.\n",
    "\n",
    "Например, какие посты были продублированы 13 раз в данном датасете."
   ]
  },
  {
   "cell_type": "code",
   "execution_count": 22,
   "id": "634484dc",
   "metadata": {},
   "outputs": [
    {
     "data": {
      "text/html": [
       "<div>\n",
       "<style scoped>\n",
       "    .dataframe tbody tr th:only-of-type {\n",
       "        vertical-align: middle;\n",
       "    }\n",
       "\n",
       "    .dataframe tbody tr th {\n",
       "        vertical-align: top;\n",
       "    }\n",
       "\n",
       "    .dataframe thead th {\n",
       "        text-align: right;\n",
       "    }\n",
       "</style>\n",
       "<table border=\"1\" class=\"dataframe\">\n",
       "  <thead>\n",
       "    <tr style=\"text-align: right;\">\n",
       "      <th></th>\n",
       "      <th>oid</th>\n",
       "      <th>category</th>\n",
       "      <th>text</th>\n",
       "      <th>clean_text</th>\n",
       "      <th>occurrence</th>\n",
       "    </tr>\n",
       "  </thead>\n",
       "  <tbody>\n",
       "    <tr>\n",
       "      <th>30941</th>\n",
       "      <td>211851544</td>\n",
       "      <td>extreme</td>\n",
       "      <td>Друзья кидайте в предложку свои фото и видео с...</td>\n",
       "      <td>друзья кидайте в предложку свои фото и видео с...</td>\n",
       "      <td>13</td>\n",
       "    </tr>\n",
       "    <tr>\n",
       "      <th>26439</th>\n",
       "      <td>676443746</td>\n",
       "      <td>boardgames</td>\n",
       "      <td>Приветствуем коллеги 33 А во что вы играли на ...</td>\n",
       "      <td>приветствуем коллеги а во что вы играли на про...</td>\n",
       "      <td>13</td>\n",
       "    </tr>\n",
       "    <tr>\n",
       "      <th>1834</th>\n",
       "      <td>933394281</td>\n",
       "      <td>boardgames</td>\n",
       "      <td>Приветствуем коллеги 33 А во что вы играли на ...</td>\n",
       "      <td>приветствуем коллеги а во что вы играли на про...</td>\n",
       "      <td>13</td>\n",
       "    </tr>\n",
       "    <tr>\n",
       "      <th>36330</th>\n",
       "      <td>211851544</td>\n",
       "      <td>extreme</td>\n",
       "      <td>Друзья кидайте в предложку свои фото и видео с...</td>\n",
       "      <td>друзья кидайте в предложку свои фото и видео с...</td>\n",
       "      <td>13</td>\n",
       "    </tr>\n",
       "    <tr>\n",
       "      <th>38024</th>\n",
       "      <td>702430194</td>\n",
       "      <td>football</td>\n",
       "      <td>Вам не нужно теперь ломать голову что подарить...</td>\n",
       "      <td>вам не нужно теперь ломать голову что подарить...</td>\n",
       "      <td>13</td>\n",
       "    </tr>\n",
       "  </tbody>\n",
       "</table>\n",
       "</div>"
      ],
      "text/plain": [
       "             oid    category  \\\n",
       "30941  211851544     extreme   \n",
       "26439  676443746  boardgames   \n",
       "1834   933394281  boardgames   \n",
       "36330  211851544     extreme   \n",
       "38024  702430194    football   \n",
       "\n",
       "                                                    text  \\\n",
       "30941  Друзья кидайте в предложку свои фото и видео с...   \n",
       "26439  Приветствуем коллеги 33 А во что вы играли на ...   \n",
       "1834   Приветствуем коллеги 33 А во что вы играли на ...   \n",
       "36330  Друзья кидайте в предложку свои фото и видео с...   \n",
       "38024  Вам не нужно теперь ломать голову что подарить...   \n",
       "\n",
       "                                              clean_text  occurrence  \n",
       "30941  друзья кидайте в предложку свои фото и видео с...          13  \n",
       "26439  приветствуем коллеги а во что вы играли на про...          13  \n",
       "1834   приветствуем коллеги а во что вы играли на про...          13  \n",
       "36330  друзья кидайте в предложку свои фото и видео с...          13  \n",
       "38024  вам не нужно теперь ломать голову что подарить...          13  "
      ]
     },
     "execution_count": 22,
     "metadata": {},
     "output_type": "execute_result"
    }
   ],
   "source": [
    "train[train['occurrence']==13].head()"
   ]
  },
  {
   "cell_type": "code",
   "execution_count": 23,
   "id": "439ecae0",
   "metadata": {},
   "outputs": [
    {
     "data": {
      "text/plain": [
       "'Вам не нужно теперь ломать голову что подарить на праздник. Порадуйте своих близких подарите им бурю эмоций 33 Цены снижены 33 Подробности здесь tokentokenoid'"
      ]
     },
     "execution_count": 23,
     "metadata": {},
     "output_type": "execute_result"
    }
   ],
   "source": [
    "train.at [38024,'text']"
   ]
  },
  {
   "cell_type": "code",
   "execution_count": 24,
   "id": "510e7f5f",
   "metadata": {},
   "outputs": [
    {
     "data": {
      "text/plain": [
       "13    13\n",
       "1      9\n",
       "6      6\n",
       "2      2\n",
       "Name: occurrence, dtype: int64"
      ]
     },
     "execution_count": 24,
     "metadata": {},
     "output_type": "execute_result"
    }
   ],
   "source": [
    "train[train.clean_text.str.contains('что подарить')].occurrence.value_counts()"
   ]
  },
  {
   "cell_type": "code",
   "execution_count": 25,
   "id": "58c2bf78",
   "metadata": {},
   "outputs": [],
   "source": [
    "advertisement_words = ['синергия','вакансия','подработка','кэшбэк','постель', 'аналитик данных',\\\n",
    "                       'профессия тестировщик','массажер','свою рекламу','что подарить','яндекс плюс',\\\n",
    "                       'яндекс еда','икеа','бесплатные курсы','бесплатного обслуживания','буст рейтинга',\\\n",
    "                       'ищете подарок']"
   ]
  },
  {
   "cell_type": "markdown",
   "id": "ece05e06",
   "metadata": {},
   "source": [
    "### Удаление постов с рекламой"
   ]
  },
  {
   "cell_type": "markdown",
   "id": "c9fa2bd8",
   "metadata": {},
   "source": [
    "Проверяем есть ли выржание из списка и создаем колонку, маркирующую рекламу 1. Сохраняем датасет без рекламы."
   ]
  },
  {
   "cell_type": "code",
   "execution_count": 26,
   "id": "5bc6468f",
   "metadata": {},
   "outputs": [],
   "source": [
    "def adv_posts(row,words_list):\n",
    "    adv = 0\n",
    "    for word in words_list:\n",
    "        if word in row:\n",
    "            adv = 1\n",
    "    return adv"
   ]
  },
  {
   "cell_type": "code",
   "execution_count": 27,
   "id": "dbd30ee9",
   "metadata": {},
   "outputs": [],
   "source": [
    "train['adv'] = train.clean_text.apply(lambda row: adv_posts(row,advertisement_words))"
   ]
  },
  {
   "cell_type": "code",
   "execution_count": 28,
   "id": "5524f922",
   "metadata": {},
   "outputs": [
    {
     "data": {
      "text/html": [
       "<div>\n",
       "<style scoped>\n",
       "    .dataframe tbody tr th:only-of-type {\n",
       "        vertical-align: middle;\n",
       "    }\n",
       "\n",
       "    .dataframe tbody tr th {\n",
       "        vertical-align: top;\n",
       "    }\n",
       "\n",
       "    .dataframe thead th {\n",
       "        text-align: right;\n",
       "    }\n",
       "</style>\n",
       "<table border=\"1\" class=\"dataframe\">\n",
       "  <thead>\n",
       "    <tr style=\"text-align: right;\">\n",
       "      <th></th>\n",
       "      <th>oid</th>\n",
       "      <th>category</th>\n",
       "      <th>text</th>\n",
       "      <th>clean_text</th>\n",
       "      <th>occurrence</th>\n",
       "      <th>adv</th>\n",
       "    </tr>\n",
       "  </thead>\n",
       "  <tbody>\n",
       "    <tr>\n",
       "      <th>3179</th>\n",
       "      <td>209435461</td>\n",
       "      <td>esport</td>\n",
       "      <td>Желаете видеть свою рекламу здесь пишите в лс ...</td>\n",
       "      <td>желаете видеть свою рекламу здесь пишите в лс ...</td>\n",
       "      <td>4</td>\n",
       "      <td>1</td>\n",
       "    </tr>\n",
       "    <tr>\n",
       "      <th>14981</th>\n",
       "      <td>381255868</td>\n",
       "      <td>martial_arts</td>\n",
       "      <td>Да мы предлагаем вам оформить карту Ttokenoid ...</td>\n",
       "      <td>да мы предлагаем вам оформить карту с кэшбэком...</td>\n",
       "      <td>2</td>\n",
       "      <td>1</td>\n",
       "    </tr>\n",
       "    <tr>\n",
       "      <th>29862</th>\n",
       "      <td>435839274</td>\n",
       "      <td>volleyball</td>\n",
       "      <td>Альбом Votokenoid Sports Heatokenoid Resort – ...</td>\n",
       "      <td>альбом sports resort всесезонный семейный куро...</td>\n",
       "      <td>1</td>\n",
       "      <td>1</td>\n",
       "    </tr>\n",
       "    <tr>\n",
       "      <th>705</th>\n",
       "      <td>449610640</td>\n",
       "      <td>esport</td>\n",
       "      <td>ЗАКАЗ 95309 Буст рейтинга 1530 3780 Доп. опция...</td>\n",
       "      <td>заказ буст рейтинга доп опция выполнить быстре...</td>\n",
       "      <td>6</td>\n",
       "      <td>1</td>\n",
       "    </tr>\n",
       "    <tr>\n",
       "      <th>33491</th>\n",
       "      <td>209435461</td>\n",
       "      <td>esport</td>\n",
       "      <td>Желаете видеть свою рекламу здесь пишите в лс ...</td>\n",
       "      <td>желаете видеть свою рекламу здесь пишите в лс ...</td>\n",
       "      <td>4</td>\n",
       "      <td>1</td>\n",
       "    </tr>\n",
       "    <tr>\n",
       "      <th>...</th>\n",
       "      <td>...</td>\n",
       "      <td>...</td>\n",
       "      <td>...</td>\n",
       "      <td>...</td>\n",
       "      <td>...</td>\n",
       "      <td>...</td>\n",
       "    </tr>\n",
       "    <tr>\n",
       "      <th>25184</th>\n",
       "      <td>671964543</td>\n",
       "      <td>extreme</td>\n",
       "      <td>С картой Wortokenoid of Tanks ваш прогресс в и...</td>\n",
       "      <td>с картой of tanks ваш прогресс в игре пойдет е...</td>\n",
       "      <td>1</td>\n",
       "      <td>1</td>\n",
       "    </tr>\n",
       "    <tr>\n",
       "      <th>13773</th>\n",
       "      <td>352942541</td>\n",
       "      <td>martial_arts</td>\n",
       "      <td>Да да это все вам. Бесплатная карта с бесплатн...</td>\n",
       "      <td>да да это все вам бесплатная карта с бесплатно...</td>\n",
       "      <td>5</td>\n",
       "      <td>1</td>\n",
       "    </tr>\n",
       "    <tr>\n",
       "      <th>24253</th>\n",
       "      <td>744276650</td>\n",
       "      <td>athletics</td>\n",
       "      <td>Желаете видеть свою рекламу здесь пишите в лс ...</td>\n",
       "      <td>желаете видеть свою рекламу здесь пишите в лс ...</td>\n",
       "      <td>1</td>\n",
       "      <td>1</td>\n",
       "    </tr>\n",
       "    <tr>\n",
       "      <th>11653</th>\n",
       "      <td>364867243</td>\n",
       "      <td>esport</td>\n",
       "      <td>ЗАКАЗ 97956 Буст рейтинга 2940 3440 Доп. опция...</td>\n",
       "      <td>заказ буст рейтинга доп опция выполнить быстре...</td>\n",
       "      <td>6</td>\n",
       "      <td>1</td>\n",
       "    </tr>\n",
       "    <tr>\n",
       "      <th>11284</th>\n",
       "      <td>808044941</td>\n",
       "      <td>football</td>\n",
       "      <td>Универсальная кредитная карта Тинькофф Платину...</td>\n",
       "      <td>универсальная кредитная карта тинькофф платину...</td>\n",
       "      <td>4</td>\n",
       "      <td>1</td>\n",
       "    </tr>\n",
       "  </tbody>\n",
       "</table>\n",
       "<p>250 rows × 6 columns</p>\n",
       "</div>"
      ],
      "text/plain": [
       "             oid      category  \\\n",
       "3179   209435461        esport   \n",
       "14981  381255868  martial_arts   \n",
       "29862  435839274    volleyball   \n",
       "705    449610640        esport   \n",
       "33491  209435461        esport   \n",
       "...          ...           ...   \n",
       "25184  671964543       extreme   \n",
       "13773  352942541  martial_arts   \n",
       "24253  744276650     athletics   \n",
       "11653  364867243        esport   \n",
       "11284  808044941      football   \n",
       "\n",
       "                                                    text  \\\n",
       "3179   Желаете видеть свою рекламу здесь пишите в лс ...   \n",
       "14981  Да мы предлагаем вам оформить карту Ttokenoid ...   \n",
       "29862  Альбом Votokenoid Sports Heatokenoid Resort – ...   \n",
       "705    ЗАКАЗ 95309 Буст рейтинга 1530 3780 Доп. опция...   \n",
       "33491  Желаете видеть свою рекламу здесь пишите в лс ...   \n",
       "...                                                  ...   \n",
       "25184  С картой Wortokenoid of Tanks ваш прогресс в и...   \n",
       "13773  Да да это все вам. Бесплатная карта с бесплатн...   \n",
       "24253  Желаете видеть свою рекламу здесь пишите в лс ...   \n",
       "11653  ЗАКАЗ 97956 Буст рейтинга 2940 3440 Доп. опция...   \n",
       "11284  Универсальная кредитная карта Тинькофф Платину...   \n",
       "\n",
       "                                              clean_text  occurrence  adv  \n",
       "3179   желаете видеть свою рекламу здесь пишите в лс ...           4    1  \n",
       "14981  да мы предлагаем вам оформить карту с кэшбэком...           2    1  \n",
       "29862  альбом sports resort всесезонный семейный куро...           1    1  \n",
       "705    заказ буст рейтинга доп опция выполнить быстре...           6    1  \n",
       "33491  желаете видеть свою рекламу здесь пишите в лс ...           4    1  \n",
       "...                                                  ...         ...  ...  \n",
       "25184  с картой of tanks ваш прогресс в игре пойдет е...           1    1  \n",
       "13773  да да это все вам бесплатная карта с бесплатно...           5    1  \n",
       "24253  желаете видеть свою рекламу здесь пишите в лс ...           1    1  \n",
       "11653  заказ буст рейтинга доп опция выполнить быстре...           6    1  \n",
       "11284  универсальная кредитная карта тинькофф платину...           4    1  \n",
       "\n",
       "[250 rows x 6 columns]"
      ]
     },
     "execution_count": 28,
     "metadata": {},
     "output_type": "execute_result"
    }
   ],
   "source": [
    "train[train.adv==1]"
   ]
  },
  {
   "cell_type": "code",
   "execution_count": 29,
   "id": "ef21b353",
   "metadata": {},
   "outputs": [],
   "source": [
    "train_no_adv = train[train.adv!=1]"
   ]
  },
  {
   "cell_type": "markdown",
   "id": "a32d7543",
   "metadata": {},
   "source": [
    "### Удаление дубликатов"
   ]
  },
  {
   "cell_type": "code",
   "execution_count": 30,
   "id": "3a0b5da8",
   "metadata": {},
   "outputs": [],
   "source": [
    "train_no_adv = train_no_adv.drop_duplicates(subset='clean_text')"
   ]
  },
  {
   "cell_type": "code",
   "execution_count": 31,
   "id": "8d3564d2",
   "metadata": {},
   "outputs": [
    {
     "name": "stdout",
     "output_type": "stream",
     "text": [
      "Размер датасетов train=29055 и train_no_adv=27037\n"
     ]
    }
   ],
   "source": [
    "print(f'Размер датасетов train={len(train)} и train_no_adv={len(train_no_adv)}')"
   ]
  },
  {
   "cell_type": "code",
   "execution_count": 32,
   "id": "23a4f34a",
   "metadata": {},
   "outputs": [
    {
     "data": {
      "text/plain": [
       "array([2270, 2210, 2205, 2147, 2084, 2075, 2069, 2048, 2026, 2017, 1963,\n",
       "       1875])"
      ]
     },
     "execution_count": 32,
     "metadata": {},
     "output_type": "execute_result"
    }
   ],
   "source": [
    "train_no_adv['category'].value_counts().unique()"
   ]
  },
  {
   "cell_type": "markdown",
   "id": "6cfa7bc6",
   "metadata": {},
   "source": [
    "## Токенизация"
   ]
  },
  {
   "cell_type": "code",
   "execution_count": 33,
   "id": "cde8a7ac",
   "metadata": {},
   "outputs": [],
   "source": [
    "import nltk\n",
    "from nltk import tokenize\n",
    "from nltk.tokenize import word_tokenize\n",
    "from nltk.probability import FreqDist"
   ]
  },
  {
   "cell_type": "markdown",
   "id": "422d523e",
   "metadata": {},
   "source": [
    "### Удаление стоп-слов"
   ]
  },
  {
   "cell_type": "markdown",
   "id": "4b03eb12",
   "metadata": {},
   "source": [
    "Список стоп-слов для русского языка из библиотеки nltk"
   ]
  },
  {
   "cell_type": "code",
   "execution_count": 34,
   "id": "30acb33e",
   "metadata": {},
   "outputs": [
    {
     "name": "stdout",
     "output_type": "stream",
     "text": [
      "Количество стоп-слов библиотеки nltk = 151\n"
     ]
    }
   ],
   "source": [
    "from nltk.corpus import stopwords\n",
    "\n",
    "stop_words_nltk = list(stopwords.words('russian'))\n",
    "\n",
    "print('Количество стоп-слов библиотеки nltk =',len(stop_words_nltk))"
   ]
  },
  {
   "cell_type": "markdown",
   "id": "a0dcc987",
   "metadata": {},
   "source": [
    "Список стоп слов для русского языка, взят из https://countwordsfree.com/stopwords/russian"
   ]
  },
  {
   "cell_type": "code",
   "execution_count": 35,
   "id": "acb7540b",
   "metadata": {},
   "outputs": [
    {
     "name": "stdout",
     "output_type": "stream",
     "text": [
      "Количество стоп-слов из countwordsfree.com = 421\n"
     ]
    }
   ],
   "source": [
    "# opening the file in read mode\n",
    "my_file = open(\"stop_words_russian.txt\", \"r\")\n",
    "  \n",
    "# reading the file\n",
    "stopwords = my_file.read()\n",
    "  \n",
    "# replacing end splitting the text \n",
    "# when newline ('\\n') is seen.\n",
    "stopwords_list = stopwords.split(\"\\n\")\n",
    "print('Количество стоп-слов из countwordsfree.com =',len(stopwords_list))\n",
    "my_file.close()"
   ]
  },
  {
   "cell_type": "code",
   "execution_count": 36,
   "id": "1fee0ad5",
   "metadata": {},
   "outputs": [],
   "source": [
    "stop_words_of_sport = ['трансляция','видео','канал']\n",
    "stopwords_list+=stop_words_of_sport"
   ]
  },
  {
   "cell_type": "markdown",
   "id": "ab29fdd2",
   "metadata": {},
   "source": [
    "### Лемматизация"
   ]
  },
  {
   "cell_type": "markdown",
   "id": "445fc87f",
   "metadata": {},
   "source": [
    "Лемматизация с помощью библиотеки pymorphy2"
   ]
  },
  {
   "cell_type": "code",
   "execution_count": 37,
   "id": "65318ab4",
   "metadata": {},
   "outputs": [],
   "source": [
    "from pymorphy2 import MorphAnalyzer\n",
    "\n",
    "lemmatyzer = MorphAnalyzer()"
   ]
  },
  {
   "cell_type": "markdown",
   "id": "70ca3186",
   "metadata": {},
   "source": [
    "Напишем функцию разделяющее предложение на слова-токены, удаляющее стоп-слова и получающее список токенок лемм"
   ]
  },
  {
   "cell_type": "code",
   "execution_count": 38,
   "id": "f0e4ef41",
   "metadata": {},
   "outputs": [],
   "source": [
    "def post_to_wordlist(post_sentence, remove_stopwords=False ):\n",
    "    # разбиваем предложение на слова по символу пробела\n",
    "    words = post_sentence.split()\n",
    "    if remove_stopwords: # убираем стоп-слова\n",
    "        words = [w for w in words if not w in remove_stopwords and len(w)>1]\n",
    "\n",
    "    lemma_words = [lemmatyzer.parse(w)[0].normal_form for w in words]\n",
    "\n",
    "    if remove_stopwords: # убираем стоп-слова\n",
    "        lemma_words_nostops = [w for w in lemma_words if not w in remove_stopwords]\n",
    "\n",
    "    return(lemma_words_nostops)"
   ]
  },
  {
   "cell_type": "markdown",
   "id": "560746d7",
   "metadata": {},
   "source": [
    "Модель разделения текста на предложения"
   ]
  },
  {
   "cell_type": "code",
   "execution_count": 39,
   "id": "c1d14e1b",
   "metadata": {},
   "outputs": [],
   "source": [
    "tokenizer = nltk.data.load('tokenizers/punkt/russian.pickle')\n",
    "\n"
   ]
  },
  {
   "cell_type": "markdown",
   "id": "d87f5ddc",
   "metadata": {},
   "source": [
    "Функция разделяющая тексты постов на предложения и применяющая к ним функцию post_to_wordlist"
   ]
  },
  {
   "cell_type": "code",
   "execution_count": 40,
   "id": "898691bf",
   "metadata": {},
   "outputs": [],
   "source": [
    "def post_to_sentences(post, tokenizer, remove_stopwords=False):\n",
    "    # разбиваем пост на предложения\n",
    "    raw_sentences = tokenizer.tokenize(post.strip())\n",
    "    sentences = []\n",
    "    # применяем функцию post_to_wordlist к каждому предложению\n",
    "    for raw_sentence in raw_sentences:\n",
    "        if len(raw_sentence) > 0:\n",
    "            sentences.append(post_to_wordlist(raw_sentence, remove_stopwords))\n",
    "    return sentences"
   ]
  },
  {
   "cell_type": "code",
   "execution_count": 41,
   "id": "0a7bebf3",
   "metadata": {},
   "outputs": [],
   "source": [
    "train_no_adv['tokenized_text'] = train_no_adv['clean_text'].apply(lambda row: post_to_wordlist(row, stopwords_list))\n",
    "train_no_adv['lemmas_string'] = train_no_adv['tokenized_text'].apply(lambda row: ' '.join(row))"
   ]
  },
  {
   "cell_type": "markdown",
   "id": "2a7ac64e",
   "metadata": {},
   "source": [
    "## Часть 4: Машинное обучение"
   ]
  },
  {
   "cell_type": "code",
   "execution_count": 42,
   "id": "d2b2474e",
   "metadata": {},
   "outputs": [],
   "source": [
    "def prepose_text(df_text):\n",
    "    df_text['clean_text'] = df_text['text'].map(clean_text)\n",
    "    df_text['adv'] = df_text.clean_text.apply(lambda row: adv_posts(row,advertisement_words))\n",
    "    df_no_adv = df_text[df_text.adv!=1].drop_duplicates(subset='clean_text')\n",
    "    df_no_adv['tokenized_text'] = df_no_adv['clean_text'].apply(lambda row: post_to_wordlist(row, stopwords_list))\n",
    "    df_no_adv['lemmas_string'] = df_no_adv['tokenized_text'].apply(lambda row: ' '.join(row))\n",
    "    return df_no_adv"
   ]
  },
  {
   "cell_type": "code",
   "execution_count": 43,
   "id": "387687e1",
   "metadata": {},
   "outputs": [],
   "source": [
    "\n",
    "test_no_adv = prepose_text(test)"
   ]
  },
  {
   "cell_type": "code",
   "execution_count": 77,
   "id": "437181e5",
   "metadata": {},
   "outputs": [],
   "source": [
    "X_train = train_no_adv['lemmas_string']\n",
    "y_train = train_no_adv['category']\n",
    "\n",
    "X_test = test_no_adv['lemmas_string']\n",
    "y_test = test_no_adv['category']\n"
   ]
  },
  {
   "cell_type": "code",
   "execution_count": 45,
   "id": "200ca481",
   "metadata": {},
   "outputs": [],
   "source": [
    "X_train.to_csv('x_train.csv')\n",
    "y_train.to_csv('y_train.csv')\n",
    "X_test.to_csv('x_test.csv')\n",
    "y_test.to_csv('y_test.csv')"
   ]
  },
  {
   "cell_type": "code",
   "execution_count": 2,
   "id": "6695e707",
   "metadata": {},
   "outputs": [],
   "source": [
    "X_train = pd.read_csv('x_train.csv', index_col=0)\n",
    "X_test = pd.read_csv('x_test.csv', index_col=0)\n",
    "\n",
    "y_train = pd.read_csv('y_train.csv', index_col=0)\n",
    "y_test = pd.read_csv('y_test.csv', index_col=0)"
   ]
  },
  {
   "cell_type": "markdown",
   "id": "6fbdb1ea",
   "metadata": {},
   "source": [
    "### Создаем таблицу метрик\n",
    "Таблица с результатами полученных метрик для разных моделей"
   ]
  },
  {
   "cell_type": "code",
   "execution_count": 46,
   "id": "e0ff22bd",
   "metadata": {},
   "outputs": [],
   "source": [
    "df_models_accuracy = pd.DataFrame(columns=['Название модели', 'Векторизатор текста', 'Accuracy'])"
   ]
  },
  {
   "cell_type": "markdown",
   "id": "fe4242f6",
   "metadata": {},
   "source": [
    "**Naive Bayes model - baseline -**"
   ]
  },
  {
   "cell_type": "code",
   "execution_count": 47,
   "id": "66999f96",
   "metadata": {},
   "outputs": [
    {
     "data": {
      "text/plain": [
       "Pipeline(steps=[('tfidf', TfidfVectorizer()), ('mnb_clf', MultinomialNB())])"
      ]
     },
     "execution_count": 47,
     "metadata": {},
     "output_type": "execute_result"
    }
   ],
   "source": [
    "mnb_ppl_clf = Pipeline([\n",
    "    ('tfidf', TfidfVectorizer()),\n",
    "    ('mnb_clf', MultinomialNB())])\n",
    "\n",
    "mnb_ppl_clf.fit(X_train, y_train)"
   ]
  },
  {
   "cell_type": "code",
   "execution_count": 48,
   "id": "6b459f14",
   "metadata": {},
   "outputs": [
    {
     "name": "stdout",
     "output_type": "stream",
     "text": [
      "              precision    recall  f1-score   support\n",
      "\n",
      "   athletics       0.92      0.81      0.86       754\n",
      "   autosport       0.90      0.79      0.84       887\n",
      "  basketball       0.81      0.97      0.89       514\n",
      "  boardgames       0.96      0.84      0.89       797\n",
      "      esport       0.69      0.88      0.77       548\n",
      "     extreme       0.75      0.68      0.71       816\n",
      "    football       0.72      0.89      0.80       569\n",
      "      hockey       0.89      0.86      0.88       777\n",
      "martial_arts       0.75      0.84      0.79       616\n",
      "   motosport       0.84      0.89      0.87       694\n",
      "      tennis       0.97      0.92      0.94       784\n",
      "  volleyball       0.87      0.82      0.85       793\n",
      "winter_sport       0.88      0.85      0.87       729\n",
      "\n",
      "    accuracy                           0.84      9278\n",
      "   macro avg       0.84      0.85      0.84      9278\n",
      "weighted avg       0.85      0.84      0.84      9278\n",
      "\n"
     ]
    }
   ],
   "source": [
    "predicted_mnb = mnb_ppl_clf.predict(X_test)\n",
    "\n",
    "print(metrics.classification_report(predicted_mnb, y_test))"
   ]
  },
  {
   "cell_type": "code",
   "execution_count": 49,
   "id": "7ca0de75",
   "metadata": {},
   "outputs": [],
   "source": [
    "# добавляем первую полученную метрику в таблицу\n",
    "df_models_accuracy.loc[len(df_models_accuracy.index)] = ['Naive Bayes', 'TF-IDF', metrics.accuracy_score(predicted_mnb, y_test)]"
   ]
  },
  {
   "cell_type": "code",
   "execution_count": 50,
   "id": "d454d470",
   "metadata": {},
   "outputs": [
    {
     "data": {
      "text/html": [
       "<div>\n",
       "<style scoped>\n",
       "    .dataframe tbody tr th:only-of-type {\n",
       "        vertical-align: middle;\n",
       "    }\n",
       "\n",
       "    .dataframe tbody tr th {\n",
       "        vertical-align: top;\n",
       "    }\n",
       "\n",
       "    .dataframe thead th {\n",
       "        text-align: right;\n",
       "    }\n",
       "</style>\n",
       "<table border=\"1\" class=\"dataframe\">\n",
       "  <thead>\n",
       "    <tr style=\"text-align: right;\">\n",
       "      <th></th>\n",
       "      <th>Название модели</th>\n",
       "      <th>Векторизатор текста</th>\n",
       "      <th>Accuracy</th>\n",
       "    </tr>\n",
       "  </thead>\n",
       "  <tbody>\n",
       "    <tr>\n",
       "      <th>0</th>\n",
       "      <td>Naive Bayes</td>\n",
       "      <td>TF-IDF</td>\n",
       "      <td>0.843285</td>\n",
       "    </tr>\n",
       "  </tbody>\n",
       "</table>\n",
       "</div>"
      ],
      "text/plain": [
       "  Название модели Векторизатор текста  Accuracy\n",
       "0     Naive Bayes              TF-IDF  0.843285"
      ]
     },
     "execution_count": 50,
     "metadata": {},
     "output_type": "execute_result"
    }
   ],
   "source": [
    "df_models_accuracy"
   ]
  },
  {
   "cell_type": "markdown",
   "id": "eced25e9",
   "metadata": {},
   "source": [
    "**RandomForest model**"
   ]
  },
  {
   "cell_type": "code",
   "execution_count": 51,
   "id": "984f5d2c",
   "metadata": {},
   "outputs": [
    {
     "data": {
      "text/plain": [
       "Pipeline(steps=[('tfidf', TfidfVectorizer()),\n",
       "                ('rf_clf', RandomForestClassifier())])"
      ]
     },
     "execution_count": 51,
     "metadata": {},
     "output_type": "execute_result"
    }
   ],
   "source": [
    "rf_ppl_clf = Pipeline([\n",
    "    ('tfidf', TfidfVectorizer()),\n",
    "    ('rf_clf', RandomForestClassifier())])\n",
    "\n",
    "rf_ppl_clf.fit(X_train, y_train)"
   ]
  },
  {
   "cell_type": "code",
   "execution_count": 52,
   "id": "763bf4b9",
   "metadata": {},
   "outputs": [
    {
     "name": "stdout",
     "output_type": "stream",
     "text": [
      "              precision    recall  f1-score   support\n",
      "\n",
      "   athletics       0.91      0.89      0.90       675\n",
      "   autosport       0.83      0.85      0.84       756\n",
      "  basketball       0.82      0.89      0.85       566\n",
      "  boardgames       0.93      0.91      0.92       714\n",
      "      esport       0.75      0.66      0.70       791\n",
      "     extreme       0.77      0.63      0.70       904\n",
      "    football       0.73      0.74      0.73       696\n",
      "      hockey       0.78      0.84      0.81       700\n",
      "martial_arts       0.74      0.80      0.77       636\n",
      "   motosport       0.85      0.88      0.86       709\n",
      "      tennis       0.95      0.93      0.94       766\n",
      "  volleyball       0.83      0.93      0.88       664\n",
      "winter_sport       0.83      0.84      0.84       701\n",
      "\n",
      "    accuracy                           0.82      9278\n",
      "   macro avg       0.82      0.83      0.83      9278\n",
      "weighted avg       0.82      0.82      0.82      9278\n",
      "\n"
     ]
    }
   ],
   "source": [
    "predicted_rf = rf_ppl_clf.predict(X_test)\n",
    "\n",
    "print(metrics.classification_report(predicted_rf, y_test))"
   ]
  },
  {
   "cell_type": "code",
   "execution_count": 53,
   "id": "e4e2a738",
   "metadata": {},
   "outputs": [],
   "source": [
    "# добавляем первую полученную метрику в таблицу\n",
    "df_models_accuracy.loc[len(df_models_accuracy.index)] = ['Random Forest', 'TF-IDF', metrics.accuracy_score(predicted_rf, y_test)]"
   ]
  },
  {
   "cell_type": "markdown",
   "id": "32087698",
   "metadata": {},
   "source": [
    "**Стохастический градиентный спуск - SGD**"
   ]
  },
  {
   "cell_type": "code",
   "execution_count": 54,
   "id": "2705075d",
   "metadata": {},
   "outputs": [
    {
     "data": {
      "text/plain": [
       "Pipeline(steps=[('tfidf', TfidfVectorizer()),\n",
       "                ('sgd_clf', SGDClassifier(random_state=42))])"
      ]
     },
     "execution_count": 54,
     "metadata": {},
     "output_type": "execute_result"
    }
   ],
   "source": [
    "sgd_ppl_clf = Pipeline([\n",
    "    ('tfidf', TfidfVectorizer()),\n",
    "    ('sgd_clf', SGDClassifier(random_state=42))])\n",
    "\n",
    "sgd_ppl_clf.fit(X_train, y_train)\n"
   ]
  },
  {
   "cell_type": "code",
   "execution_count": 55,
   "id": "3682ae42",
   "metadata": {},
   "outputs": [
    {
     "name": "stdout",
     "output_type": "stream",
     "text": [
      "              precision    recall  f1-score   support\n",
      "\n",
      "   athletics       0.93      0.91      0.92       671\n",
      "   autosport       0.88      0.88      0.88       779\n",
      "  basketball       0.91      0.93      0.92       603\n",
      "  boardgames       0.97      0.83      0.90       811\n",
      "      esport       0.77      0.84      0.80       634\n",
      "     extreme       0.75      0.81      0.78       694\n",
      "    football       0.82      0.84      0.83       692\n",
      "      hockey       0.85      0.92      0.88       706\n",
      "martial_arts       0.83      0.83      0.83       682\n",
      "   motosport       0.90      0.86      0.88       774\n",
      "      tennis       0.97      0.95      0.96       771\n",
      "  volleyball       0.91      0.91      0.91       743\n",
      "winter_sport       0.91      0.89      0.90       718\n",
      "\n",
      "    accuracy                           0.88      9278\n",
      "   macro avg       0.88      0.88      0.88      9278\n",
      "weighted avg       0.88      0.88      0.88      9278\n",
      "\n"
     ]
    }
   ],
   "source": [
    "predicted_sgd = sgd_ppl_clf.predict(X_test)\n",
    "\n",
    "print(metrics.classification_report(predicted_sgd, y_test))"
   ]
  },
  {
   "cell_type": "code",
   "execution_count": 56,
   "id": "8ab38214",
   "metadata": {},
   "outputs": [],
   "source": [
    "# добавляем первую полученную метрику в таблицу\n",
    "df_models_accuracy.loc[len(df_models_accuracy.index)] = ['SGDClassifier', 'TF-IDF', metrics.accuracy_score(predicted_sgd, y_test)]"
   ]
  },
  {
   "cell_type": "markdown",
   "id": "be86968e",
   "metadata": {},
   "source": [
    "**KNeighbors Model**"
   ]
  },
  {
   "cell_type": "code",
   "execution_count": 57,
   "id": "b21474f8",
   "metadata": {},
   "outputs": [
    {
     "data": {
      "text/plain": [
       "Pipeline(steps=[('tfidf', TfidfVectorizer()),\n",
       "                ('knb_clf', KNeighborsClassifier(n_neighbors=10))])"
      ]
     },
     "execution_count": 57,
     "metadata": {},
     "output_type": "execute_result"
    }
   ],
   "source": [
    "knb_ppl_clf = Pipeline([\n",
    "    ('tfidf', TfidfVectorizer()),\n",
    "    ('knb_clf', KNeighborsClassifier(n_neighbors=10))])\n",
    "\n",
    "knb_ppl_clf.fit(X_train, y_train)"
   ]
  },
  {
   "cell_type": "code",
   "execution_count": 58,
   "id": "77517273",
   "metadata": {},
   "outputs": [
    {
     "name": "stdout",
     "output_type": "stream",
     "text": [
      "              precision    recall  f1-score   support\n",
      "\n",
      "   athletics       0.92      0.68      0.78       887\n",
      "   autosport       0.81      0.82      0.81       772\n",
      "  basketball       0.85      0.80      0.82       656\n",
      "  boardgames       0.94      0.86      0.90       764\n",
      "      esport       0.72      0.76      0.74       661\n",
      "     extreme       0.66      0.76      0.71       645\n",
      "    football       0.71      0.81      0.76       616\n",
      "      hockey       0.80      0.82      0.81       737\n",
      "martial_arts       0.74      0.82      0.77       619\n",
      "   motosport       0.84      0.86      0.85       720\n",
      "      tennis       0.94      0.93      0.94       763\n",
      "  volleyball       0.84      0.78      0.81       806\n",
      "winter_sport       0.81      0.90      0.85       632\n",
      "\n",
      "    accuracy                           0.81      9278\n",
      "   macro avg       0.81      0.82      0.81      9278\n",
      "weighted avg       0.82      0.81      0.81      9278\n",
      "\n"
     ]
    }
   ],
   "source": [
    "predicted_knb = knb_ppl_clf.predict(X_test)\n",
    "\n",
    "print(metrics.classification_report(predicted_knb, y_test))"
   ]
  },
  {
   "cell_type": "code",
   "execution_count": 59,
   "id": "5f93a4cc",
   "metadata": {},
   "outputs": [],
   "source": [
    "# добавляем первую полученную метрику в таблицу\n",
    "df_models_accuracy.loc[len(df_models_accuracy.index)] = ['KNeighbors', 'TF-IDF', metrics.accuracy_score(predicted_knb, y_test)]"
   ]
  },
  {
   "cell_type": "code",
   "execution_count": 60,
   "id": "35c34c3f",
   "metadata": {},
   "outputs": [
    {
     "data": {
      "text/html": [
       "<div>\n",
       "<style scoped>\n",
       "    .dataframe tbody tr th:only-of-type {\n",
       "        vertical-align: middle;\n",
       "    }\n",
       "\n",
       "    .dataframe tbody tr th {\n",
       "        vertical-align: top;\n",
       "    }\n",
       "\n",
       "    .dataframe thead th {\n",
       "        text-align: right;\n",
       "    }\n",
       "</style>\n",
       "<table border=\"1\" class=\"dataframe\">\n",
       "  <thead>\n",
       "    <tr style=\"text-align: right;\">\n",
       "      <th></th>\n",
       "      <th>Название модели</th>\n",
       "      <th>Векторизатор текста</th>\n",
       "      <th>Accuracy</th>\n",
       "    </tr>\n",
       "  </thead>\n",
       "  <tbody>\n",
       "    <tr>\n",
       "      <th>0</th>\n",
       "      <td>Naive Bayes</td>\n",
       "      <td>TF-IDF</td>\n",
       "      <td>0.843285</td>\n",
       "    </tr>\n",
       "    <tr>\n",
       "      <th>1</th>\n",
       "      <td>Random Forest</td>\n",
       "      <td>TF-IDF</td>\n",
       "      <td>0.823992</td>\n",
       "    </tr>\n",
       "    <tr>\n",
       "      <th>2</th>\n",
       "      <td>SGDClassifier</td>\n",
       "      <td>TF-IDF</td>\n",
       "      <td>0.877236</td>\n",
       "    </tr>\n",
       "    <tr>\n",
       "      <th>3</th>\n",
       "      <td>KNeighbors</td>\n",
       "      <td>TF-IDF</td>\n",
       "      <td>0.813322</td>\n",
       "    </tr>\n",
       "  </tbody>\n",
       "</table>\n",
       "</div>"
      ],
      "text/plain": [
       "  Название модели Векторизатор текста  Accuracy\n",
       "0     Naive Bayes              TF-IDF  0.843285\n",
       "1   Random Forest              TF-IDF  0.823992\n",
       "2   SGDClassifier              TF-IDF  0.877236\n",
       "3      KNeighbors              TF-IDF  0.813322"
      ]
     },
     "execution_count": 60,
     "metadata": {},
     "output_type": "execute_result"
    }
   ],
   "source": [
    "df_models_accuracy"
   ]
  },
  {
   "cell_type": "code",
   "execution_count": 62,
   "id": "594142e5",
   "metadata": {},
   "outputs": [
    {
     "name": "stdout",
     "output_type": "stream",
     "text": [
      "Best parameter (CV score=0.858):\n",
      "{'sgd_clf__alpha': 0.0001, 'tfidf__ngram_range': (1, 1), 'tfidf__use_idf': True}\n"
     ]
    }
   ],
   "source": [
    "from sklearn.model_selection import GridSearchCV\n",
    "parameters = {'tfidf__ngram_range': [(1, 1), (1, 2)],\n",
    "              'tfidf__use_idf': (True, False),\n",
    "              'sgd_clf__alpha': (1e-2, 1e-3, 1e-4)\n",
    "             }\n",
    "\n",
    "search = GridSearchCV(sgd_ppl_clf, parameters)\n",
    "search.fit(X_train, y_train)\n",
    "print(\"Best parameter (CV score=%0.3f):\" % search.best_score_)\n",
    "print(search.best_params_)"
   ]
  },
  {
   "cell_type": "code",
   "execution_count": 61,
   "id": "b516e92e",
   "metadata": {},
   "outputs": [
    {
     "data": {
      "image/png": "[encoded data removed]",
      "text/plain": [
       "<Figure size 1080x1080 with 2 Axes>"
      ]
     },
     "metadata": {
      "needs_background": "light"
     },
     "output_type": "display_data"
    }
   ],
   "source": [
    "cmm = metrics.confusion_matrix(y_test, predicted_sgd, normalize='true')\n",
    "\n",
    "lables = y_train.drop_duplicates()\n",
    "T13_lables = sorted(lables)\n",
    "\n",
    "plt.figure(figsize=(15, 15))\n",
    "\n",
    "ax= plt.subplot()\n",
    "\n",
    "sns.heatmap(np.rint(cmm*100), cmap=\"Spectral\", annot=True, fmt='g', ax=ax);\n",
    "\n",
    "ax.set_xlabel('Predicted labels');ax.set_ylabel('True labels'); \n",
    "ax.set_title('Confusion Matrix', fontdict={'fontsize':20}, pad=5); \n",
    "ax.xaxis.set_ticklabels(T13_lables); ax.yaxis.set_ticklabels(T13_lables);"
   ]
  },
  {
   "cell_type": "markdown",
   "id": "e6fa84e5",
   "metadata": {},
   "source": [
    "## Нейронные сети"
   ]
  },
  {
   "cell_type": "code",
   "execution_count": 3,
   "id": "a2cc23e2",
   "metadata": {},
   "outputs": [
    {
     "name": "stderr",
     "output_type": "stream",
     "text": [
      "2023-08-14 15:53:19.065847: I tensorflow/tsl/cuda/cudart_stub.cc:28] Could not find cuda drivers on your machine, GPU will not be used.\n",
      "2023-08-14 15:53:19.412136: I tensorflow/tsl/cuda/cudart_stub.cc:28] Could not find cuda drivers on your machine, GPU will not be used.\n",
      "2023-08-14 15:53:21.193929: W tensorflow/compiler/tf2tensorrt/utils/py_utils.cc:38] TF-TRT Warning: Could not find TensorRT\n"
     ]
    }
   ],
   "source": [
    "# Функции-утилиты для работы с категориальными данными\n",
    "from tensorflow.keras import utils\n",
    "\n",
    "# Класс для конструирования последовательной модели нейронной сети\n",
    "from keras.models import Sequential\n",
    "from keras.layers import Dense, Activation, Dropout\n",
    "from keras.layers import Embedding, LSTM\n",
    "\n",
    "from tensorflow.keras.callbacks import EarlyStopping\n",
    "\n",
    "# Токенизатор для преобразование текстов в последовательности\n",
    "from tensorflow.keras.preprocessing.text import Tokenizer, text_to_word_sequence\n",
    "\n",
    "# Рисование схемы модели\n",
    "from tensorflow.keras.utils import plot_model\n",
    "\n",
    "# Работа со временем\n",
    "import time\n",
    "\n",
    "%matplotlib inline"
   ]
  },
  {
   "cell_type": "code",
   "execution_count": 4,
   "id": "cadca3dd",
   "metadata": {},
   "outputs": [],
   "source": [
    "X_train = X_train['lemmas_string']\n",
    "y_train = y_train['category']\n",
    "\n",
    "X_test = X_test['lemmas_string']\n",
    "y_test = y_test['category']"
   ]
  },
  {
   "cell_type": "markdown",
   "id": "f37b0fc3",
   "metadata": {},
   "source": [
    "Для обучения нейронных сетей выделим из датасета train валидационные данные"
   ]
  },
  {
   "cell_type": "code",
   "execution_count": 5,
   "id": "a827a964",
   "metadata": {},
   "outputs": [],
   "source": [
    "X_train, X_val, y_train, y_val = train_test_split(X_train, y_train, test_size=0.25, random_state=42)"
   ]
  },
  {
   "cell_type": "markdown",
   "id": "b8671cb8",
   "metadata": {},
   "source": [
    "Создадим таблицу с данными моделями и полученной метрикой"
   ]
  },
  {
   "cell_type": "code",
   "execution_count": 6,
   "id": "df217491",
   "metadata": {},
   "outputs": [],
   "source": [
    "df_nn_accuracy = pd.DataFrame(columns=['Название модели', 'Слои','Параметры', 'Accuracy'])"
   ]
  },
  {
   "cell_type": "markdown",
   "id": "8dfa0c78",
   "metadata": {},
   "source": [
    "## Векторизация текста"
   ]
  },
  {
   "cell_type": "code",
   "execution_count": 10,
   "id": "30845d1a",
   "metadata": {},
   "outputs": [
    {
     "ename": "NameError",
     "evalue": "name 'train_no_adv' is not defined",
     "output_type": "error",
     "traceback": [
      "\u001b[0;31m---------------------------------------------------------------------------\u001b[0m",
      "\u001b[0;31mNameError\u001b[0m                                 Traceback (most recent call last)",
      "Input \u001b[0;32mIn [10]\u001b[0m, in \u001b[0;36m<module>\u001b[0;34m\u001b[0m\n\u001b[1;32m      1\u001b[0m \u001b[38;5;66;03m# Посчитаем максимальную длину поста в словах\u001b[39;00m\n\u001b[0;32m----> 2\u001b[0m \u001b[43mtrain_no_adv\u001b[49m[\u001b[38;5;124m'\u001b[39m\u001b[38;5;124mtokenized_text\u001b[39m\u001b[38;5;124m'\u001b[39m]\n\u001b[1;32m      4\u001b[0m max_words \u001b[38;5;241m=\u001b[39m \u001b[38;5;241m0\u001b[39m\n\u001b[1;32m      5\u001b[0m \u001b[38;5;28;01mfor\u001b[39;00m post \u001b[38;5;129;01min\u001b[39;00m train_no_adv[\u001b[38;5;124m'\u001b[39m\u001b[38;5;124mtokenized_text\u001b[39m\u001b[38;5;124m'\u001b[39m]:\n",
      "\u001b[0;31mNameError\u001b[0m: name 'train_no_adv' is not defined"
     ]
    }
   ],
   "source": [
    "# Посчитаем максимальную длину поста в словах\n",
    "train_no_adv['tokenized_text']\n",
    "\n",
    "max_words = 0\n",
    "for post in train_no_adv['tokenized_text']:\n",
    "    words = len(post)\n",
    "    if words > max_words:\n",
    "        max_words = words\n",
    "print('Максимальная длина поста: {} слов'.format(max_words))\n"
   ]
  },
  {
   "cell_type": "code",
   "execution_count": 7,
   "id": "6a2e7015",
   "metadata": {},
   "outputs": [],
   "source": [
    "from keras.preprocessing.text import Tokenizer\n",
    "\n",
    "# создаем единый словарь (слово -> число) для преобразования\n",
    "tokenizer = Tokenizer()\n",
    "tokenizer.fit_on_texts(X_train.tolist())\n",
    "\n",
    "# Преобразуем все описания в числовые последовательности, заменяя слова на числа по словарю.\n",
    "trainSequences = tokenizer.texts_to_sequences(X_train.tolist())\n",
    "valSequences = tokenizer.texts_to_sequences(X_val.tolist())\n",
    "testSequences = tokenizer.texts_to_sequences(X_test.tolist())"
   ]
  },
  {
   "cell_type": "code",
   "execution_count": 8,
   "id": "90e76d67",
   "metadata": {},
   "outputs": [
    {
     "name": "stdout",
     "output_type": "stream",
     "text": [
      "В словаре 51443 слов\n"
     ]
    }
   ],
   "source": [
    "total_words = len(tokenizer.word_index)\n",
    "print('В словаре {} слов'.format(total_words))"
   ]
  },
  {
   "cell_type": "code",
   "execution_count": 9,
   "id": "b39ea1b3",
   "metadata": {},
   "outputs": [
    {
     "name": "stdout",
     "output_type": "stream",
     "text": [
      "Преобразуем описания заявок в векторы чисел...\n",
      "Размерность X_train для нейронной сети: (20277, 10000)\n",
      "Размерность X_val для нейронной сети: (6760, 10000)\n",
      "Размерность X_test для нейронной сети: (9278, 10000)\n"
     ]
    }
   ],
   "source": [
    "# количество наиболее часто используемых слов\n",
    "num_words = 10000\n",
    "\n",
    "print(u'Преобразуем описания заявок в векторы чисел...')\n",
    "tokenizer = Tokenizer(num_words=num_words)\n",
    "X_train_nn = tokenizer.sequences_to_matrix(trainSequences, mode='binary')\n",
    "X_val_nn = tokenizer.sequences_to_matrix(valSequences, mode='binary')\n",
    "X_test_nn = tokenizer.sequences_to_matrix(testSequences, mode='binary')\n",
    "print('Размерность X_train для нейронной сети:', X_train_nn.shape)\n",
    "print('Размерность X_val для нейронной сети:', X_val_nn.shape)\n",
    "print('Размерность X_test для нейронной сети:', X_test_nn.shape)"
   ]
  },
  {
   "cell_type": "markdown",
   "id": "4df95625",
   "metadata": {},
   "source": [
    "Оцифровываем названия категорий"
   ]
  },
  {
   "cell_type": "code",
   "execution_count": 10,
   "id": "b640e5e6",
   "metadata": {},
   "outputs": [
    {
     "name": "stdout",
     "output_type": "stream",
     "text": [
      "Количество категорий для классификации: 13\n"
     ]
    }
   ],
   "source": [
    "from sklearn.preprocessing import LabelEncoder\n",
    "\n",
    "encoder = LabelEncoder()\n",
    "encoder.fit(y_train)\n",
    "y_train_nn = encoder.transform(y_train)\n",
    "y_val_nn = encoder.transform(y_val)\n",
    "y_test_nn = encoder.transform(y_test)\n",
    "\n",
    "num_classes = np.max(y_train_nn) + 1\n",
    "print('Количество категорий для классификации: {}'.format(num_classes))"
   ]
  },
  {
   "cell_type": "code",
   "execution_count": 11,
   "id": "6f019d51",
   "metadata": {},
   "outputs": [
    {
     "name": "stdout",
     "output_type": "stream",
     "text": [
      "Преобразуем категории в матрицу двоичных чисел (для использования categorical_crossentropy)\n",
      "Размеры y_train_nn: (20277, 13)\n",
      "Размеры y_val_nn: (6760, 13)\n",
      "Размеры y_test_nn: (9278, 13)\n"
     ]
    }
   ],
   "source": [
    "print(u'Преобразуем категории в матрицу двоичных чисел '\n",
    "      u'(для использования categorical_crossentropy)')\n",
    "y_train_nn = utils.to_categorical(y_train_nn, 13)\n",
    "y_val_nn = utils.to_categorical(y_val_nn, 13)\n",
    "y_test_nn = utils.to_categorical(y_test_nn, 13)\n",
    "print('Размеры y_train_nn:', y_train_nn.shape)\n",
    "print('Размеры y_val_nn:', y_val_nn.shape)\n",
    "print('Размеры y_test_nn:', y_test_nn.shape)"
   ]
  },
  {
   "cell_type": "markdown",
   "id": "24b20cf2",
   "metadata": {},
   "source": [
    "**MLP**"
   ]
  },
  {
   "cell_type": "code",
   "execution_count": 16,
   "id": "20ae69f2",
   "metadata": {},
   "outputs": [
    {
     "name": "stdout",
     "output_type": "stream",
     "text": [
      "Собираем модель...\n",
      "Model: \"sequential_2\"\n",
      "_________________________________________________________________\n",
      " Layer (type)                Output Shape              Param #   \n",
      "=================================================================\n",
      " dense_2 (Dense)             (None, 512)               5120512   \n",
      "                                                                 \n",
      " activation_2 (Activation)   (None, 512)               0         \n",
      "                                                                 \n",
      " dropout_1 (Dropout)         (None, 512)               0         \n",
      "                                                                 \n",
      " dense_3 (Dense)             (None, 13)                6669      \n",
      "                                                                 \n",
      " activation_3 (Activation)   (None, 13)                0         \n",
      "                                                                 \n",
      "=================================================================\n",
      "Total params: 5127181 (19.56 MB)\n",
      "Trainable params: 5127181 (19.56 MB)\n",
      "Non-trainable params: 0 (0.00 Byte)\n",
      "_________________________________________________________________\n",
      "None\n"
     ]
    }
   ],
   "source": [
    "# количество эпох\\итераций для обучения\n",
    "epochs = 10\n",
    "\n",
    "print(u'Собираем модель...')\n",
    "model = Sequential()\n",
    "model.add(Dense(512, input_shape=(num_words,)))\n",
    "model.add(Activation('relu'))\n",
    "model.add(Dropout(0.2))\n",
    "model.add(Dense(13))\n",
    "model.add(Activation('softmax'))\n",
    "\n",
    "model.compile(loss='categorical_crossentropy',\n",
    "              optimizer='adam',\n",
    "              metrics=['accuracy'])\n",
    "\n",
    "print(model.summary())"
   ]
  },
  {
   "cell_type": "code",
   "execution_count": 17,
   "id": "b1d038c2",
   "metadata": {},
   "outputs": [
    {
     "name": "stdout",
     "output_type": "stream",
     "text": [
      "Epoch 1/10\n",
      "634/634 [==============================] - 50s 77ms/step - loss: 0.9000 - accuracy: 0.7759 - val_loss: 0.5912 - val_accuracy: 0.8395\n",
      "Epoch 2/10\n",
      "634/634 [==============================] - 48s 75ms/step - loss: 0.2671 - accuracy: 0.9293 - val_loss: 0.6175 - val_accuracy: 0.8312\n",
      "Epoch 3/10\n",
      "634/634 [==============================] - 49s 77ms/step - loss: 0.1149 - accuracy: 0.9747 - val_loss: 0.6763 - val_accuracy: 0.8293\n",
      "Epoch 4/10\n",
      "634/634 [==============================] - 46s 73ms/step - loss: 0.0522 - accuracy: 0.9903 - val_loss: 0.7741 - val_accuracy: 0.8225\n",
      "Epoch 5/10\n",
      "634/634 [==============================] - 46s 73ms/step - loss: 0.0338 - accuracy: 0.9959 - val_loss: 0.8606 - val_accuracy: 0.8167\n",
      "Epoch 6/10\n",
      "634/634 [==============================] - 50s 79ms/step - loss: 0.0246 - accuracy: 0.9972 - val_loss: 0.9215 - val_accuracy: 0.8163\n",
      "Epoch 7/10\n",
      "634/634 [==============================] - 48s 76ms/step - loss: 0.0169 - accuracy: 0.9979 - val_loss: 0.9768 - val_accuracy: 0.8161\n",
      "Epoch 8/10\n",
      "634/634 [==============================] - 51s 81ms/step - loss: 0.0164 - accuracy: 0.9981 - val_loss: 1.0196 - val_accuracy: 0.8127\n",
      "Epoch 9/10\n",
      "634/634 [==============================] - 52s 82ms/step - loss: 0.0139 - accuracy: 0.9981 - val_loss: 1.0779 - val_accuracy: 0.8136\n",
      "Epoch 10/10\n",
      "634/634 [==============================] - 50s 80ms/step - loss: 0.0127 - accuracy: 0.9983 - val_loss: 1.1175 - val_accuracy: 0.8118\n"
     ]
    }
   ],
   "source": [
    "history = model.fit(X_train_nn, y_train_nn,\n",
    "                    batch_size=32,\n",
    "                    epochs=epochs,\n",
    "                    verbose=1,validation_data=(X_val_nn, y_val_nn))"
   ]
  },
  {
   "cell_type": "code",
   "execution_count": 18,
   "id": "545e0823",
   "metadata": {},
   "outputs": [
    {
     "name": "stdout",
     "output_type": "stream",
     "text": [
      "290/290 [==============================] - 5s 19ms/step - loss: 1.0387 - accuracy: 0.8286\n",
      "\n",
      "Оценка теста: 1.038707971572876\n",
      "Оценка точности модели: 0.8286268711090088\n"
     ]
    }
   ],
   "source": [
    "score = model.evaluate(X_test_nn, y_test_nn,\n",
    "                       batch_size=32, verbose=1)\n",
    "print()\n",
    "print(u'Оценка теста: {}'.format(score[0]))\n",
    "print(u'Оценка точности модели: {}'.format(score[1]))"
   ]
  },
  {
   "cell_type": "code",
   "execution_count": 19,
   "id": "7fd66966",
   "metadata": {},
   "outputs": [],
   "source": [
    "# добавляем первую полученную метрику в таблицу\n",
    "df_nn_accuracy.loc[len(df_nn_accuracy.index)] = ['MLP', 'Dense(relu), Dropout, Dense(Softmax)','batch_size=32, epochs = 10', score[1]]"
   ]
  },
  {
   "cell_type": "markdown",
   "id": "c6c5a91f",
   "metadata": {},
   "source": [
    "**LSTM**"
   ]
  },
  {
   "cell_type": "code",
   "execution_count": 20,
   "id": "ab0e69c5",
   "metadata": {},
   "outputs": [],
   "source": [
    "maxSequenceLength = 353"
   ]
  },
  {
   "cell_type": "code",
   "execution_count": 21,
   "id": "9b4040dd",
   "metadata": {},
   "outputs": [
    {
     "name": "stdout",
     "output_type": "stream",
     "text": [
      "Размерность X_train_lstm: (20277, 353)\n",
      "Размерность X_val_lstm: (6760, 353)\n",
      "Размерность X_test_lstm: (9278, 353)\n"
     ]
    }
   ],
   "source": [
    "X_train_lstm = utils.pad_sequences(X_train_nn, maxlen=maxSequenceLength)\n",
    "X_val_lstm = utils.pad_sequences(X_val_nn, maxlen=maxSequenceLength)\n",
    "X_test_lstm = utils.pad_sequences(X_test_nn, maxlen=maxSequenceLength)\n",
    "\n",
    "print('Размерность X_train_lstm:', X_train_lstm.shape)\n",
    "print('Размерность X_val_lstm:', X_val_lstm.shape)\n",
    "print('Размерность X_test_lstm:', X_test_lstm.shape)"
   ]
  },
  {
   "cell_type": "code",
   "execution_count": 22,
   "id": "a82fd546",
   "metadata": {},
   "outputs": [
    {
     "name": "stdout",
     "output_type": "stream",
     "text": [
      "Собираем модель...\n",
      "Model: \"sequential_3\"\n",
      "_________________________________________________________________\n",
      " Layer (type)                Output Shape              Param #   \n",
      "=================================================================\n",
      " embedding (Embedding)       (None, None, 353)         3530000   \n",
      "                                                                 \n",
      " lstm (LSTM)                 (None, 32)                49408     \n",
      "                                                                 \n",
      " dense_4 (Dense)             (None, 13)                429       \n",
      "                                                                 \n",
      "=================================================================\n",
      "Total params: 3579837 (13.66 MB)\n",
      "Trainable params: 3579837 (13.66 MB)\n",
      "Non-trainable params: 0 (0.00 Byte)\n",
      "_________________________________________________________________\n",
      "None\n"
     ]
    }
   ],
   "source": [
    "from keras.models import Sequential\n",
    "from keras.layers import Dense, Embedding, LSTM\n",
    "\n",
    "# максимальное количество слов для анализа\n",
    "max_features = 10000\n",
    "\n",
    "print(u'Собираем модель...')\n",
    "model_lstm = Sequential()\n",
    "model_lstm.add(Embedding(max_features, maxSequenceLength))\n",
    "model_lstm.add(LSTM(32, dropout=0.2, recurrent_dropout=0.2))\n",
    "model_lstm.add(Dense(13, activation='sigmoid'))\n",
    "\n",
    "model_lstm.compile(loss='binary_crossentropy',\n",
    "              optimizer='adam',\n",
    "              metrics=['accuracy'])\n",
    "\n",
    "print (model_lstm.summary())"
   ]
  },
  {
   "cell_type": "code",
   "execution_count": 23,
   "id": "75ff90a9",
   "metadata": {},
   "outputs": [
    {
     "name": "stdout",
     "output_type": "stream",
     "text": [
      "Тренируем модель...\n",
      "Epoch 1/3\n",
      "317/317 [==============================] - 280s 873ms/step - loss: 0.2995 - accuracy: 0.0788 - val_loss: 0.2715 - val_accuracy: 0.0743\n",
      "Epoch 2/3\n",
      "317/317 [==============================] - 395s 1s/step - loss: 0.2713 - accuracy: 0.0819 - val_loss: 0.2713 - val_accuracy: 0.0763\n",
      "Epoch 3/3\n",
      "317/317 [==============================] - 556s 2s/step - loss: 0.2714 - accuracy: 0.0794 - val_loss: 0.2712 - val_accuracy: 0.0825\n"
     ]
    }
   ],
   "source": [
    "batch_size = 32\n",
    "epochs = 3\n",
    "\n",
    "print(u'Тренируем модель...')\n",
    "history = model_lstm.fit(X_train_lstm, y_train_nn,\n",
    "                    batch_size=64,\n",
    "                    epochs=epochs,\n",
    "                    verbose=1,validation_data=(X_val_lstm, y_val_nn))"
   ]
  },
  {
   "cell_type": "code",
   "execution_count": 24,
   "id": "958456fd",
   "metadata": {},
   "outputs": [
    {
     "name": "stdout",
     "output_type": "stream",
     "text": [
      "290/290 [==============================] - 45s 154ms/step - loss: 0.2712 - accuracy: 0.0839\n",
      "\n",
      "Оценка теста: 0.2711847126483917\n",
      "Оценка точности модели: 0.08385428041219711\n"
     ]
    }
   ],
   "source": [
    "score = model_lstm.evaluate(X_test_lstm, y_test_nn,\n",
    "                       batch_size=batch_size, verbose=1)\n",
    "print()\n",
    "print(u'Оценка теста: {}'.format(score[0]))\n",
    "print(u'Оценка точности модели: {}'.format(score[1]))"
   ]
  },
  {
   "cell_type": "code",
   "execution_count": 25,
   "id": "6c0bf58c",
   "metadata": {},
   "outputs": [],
   "source": [
    "# добавляем первую полученную метрику в таблицу\n",
    "df_nn_accuracy.loc[len(df_nn_accuracy.index)] = ['Embedding+LSTM', 'Embedding, LSTM, Dense(Sigmoid)','batch_size=32, epochs = 3', score[1]]"
   ]
  },
  {
   "cell_type": "code",
   "execution_count": 26,
   "id": "34482dcf",
   "metadata": {},
   "outputs": [
    {
     "data": {
      "text/html": [
       "<div>\n",
       "<style scoped>\n",
       "    .dataframe tbody tr th:only-of-type {\n",
       "        vertical-align: middle;\n",
       "    }\n",
       "\n",
       "    .dataframe tbody tr th {\n",
       "        vertical-align: top;\n",
       "    }\n",
       "\n",
       "    .dataframe thead th {\n",
       "        text-align: right;\n",
       "    }\n",
       "</style>\n",
       "<table border=\"1\" class=\"dataframe\">\n",
       "  <thead>\n",
       "    <tr style=\"text-align: right;\">\n",
       "      <th></th>\n",
       "      <th>Название модели</th>\n",
       "      <th>Слои</th>\n",
       "      <th>Параметры</th>\n",
       "      <th>Accuracy</th>\n",
       "    </tr>\n",
       "  </thead>\n",
       "  <tbody>\n",
       "    <tr>\n",
       "      <th>0</th>\n",
       "      <td>MLP</td>\n",
       "      <td>Dense(relu), Dropout, Dense(Softmax)</td>\n",
       "      <td>batch_size=32, epochs = 10</td>\n",
       "      <td>0.828627</td>\n",
       "    </tr>\n",
       "    <tr>\n",
       "      <th>1</th>\n",
       "      <td>Embedding+LSTM</td>\n",
       "      <td>Embedding, LSTM, Dense(Sigmoid)</td>\n",
       "      <td>batch_size=32, epochs = 3</td>\n",
       "      <td>0.083854</td>\n",
       "    </tr>\n",
       "  </tbody>\n",
       "</table>\n",
       "</div>"
      ],
      "text/plain": [
       "  Название модели                                  Слои  \\\n",
       "0             MLP  Dense(relu), Dropout, Dense(Softmax)   \n",
       "1  Embedding+LSTM       Embedding, LSTM, Dense(Sigmoid)   \n",
       "\n",
       "                    Параметры  Accuracy  \n",
       "0  batch_size=32, epochs = 10  0.828627  \n",
       "1   batch_size=32, epochs = 3  0.083854  "
      ]
     },
     "execution_count": 26,
     "metadata": {},
     "output_type": "execute_result"
    }
   ],
   "source": [
    "df_nn_accuracy"
   ]
  },
  {
   "cell_type": "markdown",
   "id": "5647ce8b",
   "metadata": {},
   "source": [
    "### Подбор параметра количество нейронов и batch_size для MLP"
   ]
  },
  {
   "cell_type": "code",
   "execution_count": null,
   "id": "ef7afb5c",
   "metadata": {},
   "outputs": [
    {
     "name": "stdout",
     "output_type": "stream",
     "text": [
      "Поиск лучших параметров... \n",
      "Epoch 1/10\n",
      "634/634 [==============================] - 10s 15ms/step - loss: 1.2042 - accuracy: 0.7265 - val_loss: 0.6735 - val_accuracy: 0.8379\n",
      "Epoch 2/10\n",
      "634/634 [==============================] - 8s 13ms/step - loss: 0.4592 - accuracy: 0.8891 - val_loss: 0.5758 - val_accuracy: 0.8438\n",
      "Epoch 3/10\n",
      "634/634 [==============================] - 8s 13ms/step - loss: 0.2733 - accuracy: 0.9359 - val_loss: 0.5723 - val_accuracy: 0.8395\n",
      "Epoch 4/10\n",
      "634/634 [==============================] - 9s 13ms/step - loss: 0.1724 - accuracy: 0.9619 - val_loss: 0.5983 - val_accuracy: 0.8345\n",
      "290/290 [==============================] - 1s 5ms/step - loss: 0.5476 - accuracy: 0.8518\n",
      "\n",
      "Количество нейронов 64, batch_size = 32\n",
      "Оценка точности модели: 0.8517999649047852\n",
      "Epoch 1/10\n",
      "317/317 [==============================] - 7s 19ms/step - loss: 1.4064 - accuracy: 0.7018 - val_loss: 0.7835 - val_accuracy: 0.8318\n",
      "Epoch 2/10\n",
      "317/317 [==============================] - 6s 18ms/step - loss: 0.5676 - accuracy: 0.8747 - val_loss: 0.6064 - val_accuracy: 0.8425\n",
      "Epoch 3/10\n",
      "317/317 [==============================] - 5s 17ms/step - loss: 0.3511 - accuracy: 0.9226 - val_loss: 0.5703 - val_accuracy: 0.8416\n",
      "Epoch 4/10\n",
      "317/317 [==============================] - 5s 16ms/step - loss: 0.2416 - accuracy: 0.9485 - val_loss: 0.5666 - val_accuracy: 0.8413\n",
      "145/145 [==============================] - 1s 7ms/step - loss: 0.5804 - accuracy: 0.8543\n",
      "\n",
      "Количество нейронов 64, batch_size = 64\n",
      "Оценка точности модели: 0.8542789220809937\n",
      "Epoch 1/10\n",
      "634/634 [==============================] - 16s 24ms/step - loss: 1.0620 - accuracy: 0.7534 - val_loss: 0.6221 - val_accuracy: 0.8401\n",
      "Epoch 2/10\n",
      "634/634 [==============================] - 15s 23ms/step - loss: 0.3717 - accuracy: 0.9082 - val_loss: 0.5789 - val_accuracy: 0.8404\n",
      "Epoch 3/10\n",
      "634/634 [==============================] - 15s 23ms/step - loss: 0.1968 - accuracy: 0.9550 - val_loss: 0.5958 - val_accuracy: 0.8364\n",
      "Epoch 4/10\n",
      "634/634 [==============================] - 15s 24ms/step - loss: 0.1149 - accuracy: 0.9757 - val_loss: 0.6579 - val_accuracy: 0.8308\n",
      "290/290 [==============================] - 2s 7ms/step - loss: 0.5474 - accuracy: 0.8494\n",
      "\n",
      "Количество нейронов 128, batch_size = 32\n",
      "Оценка точности модели: 0.8494287729263306\n",
      "Epoch 1/10\n",
      "317/317 [==============================] - 11s 32ms/step - loss: 1.2232 - accuracy: 0.7314 - val_loss: 0.6761 - val_accuracy: 0.8411\n",
      "Epoch 2/10\n",
      "317/317 [==============================] - 10s 31ms/step - loss: 0.4473 - accuracy: 0.8962 - val_loss: 0.5718 - val_accuracy: 0.8459\n",
      "Epoch 3/10\n",
      "317/317 [==============================] - 10s 30ms/step - loss: 0.2575 - accuracy: 0.9421 - val_loss: 0.5681 - val_accuracy: 0.8396\n",
      "Epoch 4/10\n",
      "317/317 [==============================] - 10s 32ms/step - loss: 0.1594 - accuracy: 0.9677 - val_loss: 0.6016 - val_accuracy: 0.8383\n",
      "145/145 [==============================] - 2s 10ms/step - loss: 0.5498 - accuracy: 0.8513\n",
      "\n",
      "Количество нейронов 128, batch_size = 64\n",
      "Оценка точности модели: 0.8512610197067261\n",
      "Epoch 1/10\n",
      "634/634 [==============================] - 28s 42ms/step - loss: 0.9610 - accuracy: 0.7687 - val_loss: 0.5920 - val_accuracy: 0.8358\n",
      "Epoch 2/10\n",
      "634/634 [==============================] - 26s 41ms/step - loss: 0.3092 - accuracy: 0.9202 - val_loss: 0.5839 - val_accuracy: 0.8367\n",
      "Epoch 3/10\n",
      "634/634 [==============================] - 26s 41ms/step - loss: 0.1423 - accuracy: 0.9679 - val_loss: 0.6408 - val_accuracy: 0.8291\n",
      "Epoch 4/10\n",
      "634/634 [==============================] - 26s 42ms/step - loss: 0.0760 - accuracy: 0.9856 - val_loss: 0.7225 - val_accuracy: 0.8220\n",
      "290/290 [==============================] - 3s 11ms/step - loss: 0.5592 - accuracy: 0.8431\n",
      "\n",
      "Количество нейронов 256, batch_size = 32\n",
      "Оценка точности модели: 0.8430696129798889\n"
     ]
    }
   ],
   "source": [
    "# количество эпох\\итераций для обучения\n",
    "epochs = 10\n",
    "\n",
    "early_stopping = EarlyStopping(monitor = 'val_accuracy', patience = 2, verbose = 0,  restore_best_weights = True)\n",
    "\n",
    "num_nets = [64, 128, 256, 512]\n",
    "batch_sizes = [32, 64]\n",
    "\n",
    "best_score = 0\n",
    "best_num_net = 0\n",
    "best_batch = 0\n",
    "\n",
    "print('Поиск лучших параметров... ')\n",
    "\n",
    "for num_net in num_nets:\n",
    "    for batch_size in batch_sizes:\n",
    "        \n",
    "        model_2 = Sequential()\n",
    "        model_2.add(Dense(num_net, input_shape=(num_words,)))\n",
    "        model_2.add(Activation('relu'))\n",
    "        model_2.add(Dropout(0.2))\n",
    "        model_2.add(Dense(13))\n",
    "        model_2.add(Activation('softmax'))\n",
    "\n",
    "        model_2.compile(loss='categorical_crossentropy',\n",
    "                      optimizer='adam',\n",
    "                      metrics=['accuracy'])\n",
    "\n",
    "        history_2 = model_2.fit(X_train_nn, y_train_nn,\n",
    "                            batch_size=batch_size,\n",
    "                            epochs=epochs,\n",
    "                            callbacks = early_stopping,\n",
    "                            verbose=1, validation_data=(X_val_nn, y_val_nn))\n",
    "\n",
    "        score = model_2.evaluate(X_test_nn, y_test_nn,\n",
    "                               batch_size=batch_size, verbose=1)\n",
    "        print()\n",
    "        print(f'Количество нейронов {num_net}, batch_size = {batch_size}')\n",
    "        print(u'Оценка точности модели: {}'.format(score[1]))\n",
    "        \n",
    "        df_nn_accuracy.loc[len(df_nn_accuracy.index)] = ['MLP', 'Dense(relu), Dropout, Dense(Softmax)',f'batch_size={batch_size}, num_net = {num_net}', score[1]]\n",
    "\n",
    "        if score[1]>best_score:\n",
    "            best_score = score[1]\n",
    "            best_num_net = num_net\n",
    "            best_batch = batch_size\n",
    "        \n"
   ]
  },
  {
   "cell_type": "code",
   "execution_count": null,
   "id": "ebc6e68c",
   "metadata": {},
   "outputs": [],
   "source": [
    "print(f'Лучшая точность равная {best_score} получается при количестве нейронов = {best_num_net} и batch_size={best_batch} ')"
   ]
  }
 ],
 "metadata": {
  "kernelspec": {
   "display_name": "Python 3 (ipykernel)",
   "language": "python",
   "name": "python3"
  },
  "language_info": {
   "codemirror_mode": {
    "name": "ipython",
    "version": 3
   },
   "file_extension": ".py",
   "mimetype": "text/x-python",
   "name": "python",
   "nbconvert_exporter": "python",
   "pygments_lexer": "ipython3",
   "version": "3.9.2"
  }
 },
 "nbformat": 4,
 "nbformat_minor": 5
}
